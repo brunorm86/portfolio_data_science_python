{
 "cells": [
  {
   "cell_type": "code",
   "execution_count": 1,
   "id": "46a3b7fe",
   "metadata": {},
   "outputs": [],
   "source": [
    "import pandas as pd"
   ]
  },
  {
   "cell_type": "code",
   "execution_count": 2,
   "id": "d97f4825",
   "metadata": {},
   "outputs": [],
   "source": [
    "data = [0.5, None, None, 0.52, 0.54, None, None, 0.59, 0.6, None, 0.7]\n",
    "s = pd.Series(data)"
   ]
  },
  {
   "cell_type": "code",
   "execution_count": 3,
   "id": "927cefc8",
   "metadata": {},
   "outputs": [
    {
     "data": {
      "text/plain": [
       "0     0.50\n",
       "1      NaN\n",
       "2      NaN\n",
       "3     0.52\n",
       "4     0.54\n",
       "5      NaN\n",
       "6      NaN\n",
       "7     0.59\n",
       "8     0.60\n",
       "9      NaN\n",
       "10    0.70\n",
       "dtype: float64"
      ]
     },
     "execution_count": 3,
     "metadata": {},
     "output_type": "execute_result"
    }
   ],
   "source": [
    "s"
   ]
  },
  {
   "cell_type": "code",
   "execution_count": 5,
   "id": "fe548709",
   "metadata": {},
   "outputs": [
    {
     "data": {
      "text/plain": [
       "pandas.core.series.Series"
      ]
     },
     "execution_count": 5,
     "metadata": {},
     "output_type": "execute_result"
    }
   ],
   "source": [
    "type(s)"
   ]
  },
  {
   "cell_type": "code",
   "execution_count": 6,
   "id": "89d80c2d",
   "metadata": {},
   "outputs": [
    {
     "data": {
      "text/plain": [
       "list"
      ]
     },
     "execution_count": 6,
     "metadata": {},
     "output_type": "execute_result"
    }
   ],
   "source": [
    "type(data)"
   ]
  },
  {
   "cell_type": "code",
   "execution_count": 7,
   "id": "b80344bb",
   "metadata": {},
   "outputs": [
    {
     "data": {
      "text/plain": [
       "0     0.50\n",
       "1     0.00\n",
       "2     0.00\n",
       "3     0.52\n",
       "4     0.54\n",
       "5     0.00\n",
       "6     0.00\n",
       "7     0.59\n",
       "8     0.60\n",
       "9     0.00\n",
       "10    0.70\n",
       "dtype: float64"
      ]
     },
     "execution_count": 7,
     "metadata": {},
     "output_type": "execute_result"
    }
   ],
   "source": [
    "s.fillna(0)"
   ]
  },
  {
   "cell_type": "code",
   "execution_count": 9,
   "id": "0e0ce4ea",
   "metadata": {},
   "outputs": [
    {
     "data": {
      "text/plain": [
       "0     0.50\n",
       "1     0.50\n",
       "2     0.50\n",
       "3     0.52\n",
       "4     0.54\n",
       "5     0.54\n",
       "6     0.54\n",
       "7     0.59\n",
       "8     0.60\n",
       "9     0.60\n",
       "10    0.70\n",
       "dtype: float64"
      ]
     },
     "execution_count": 9,
     "metadata": {},
     "output_type": "execute_result"
    }
   ],
   "source": [
    "s.fillna(method='ffill') #copia nos NaN o valor da linha não nula imediatamente acima"
   ]
  },
  {
   "cell_type": "code",
   "execution_count": 10,
   "id": "927da611",
   "metadata": {},
   "outputs": [
    {
     "data": {
      "text/plain": [
       "0     0.50\n",
       "1     0.52\n",
       "2     0.52\n",
       "3     0.52\n",
       "4     0.54\n",
       "5     0.59\n",
       "6     0.59\n",
       "7     0.59\n",
       "8     0.60\n",
       "9     0.70\n",
       "10    0.70\n",
       "dtype: float64"
      ]
     },
     "execution_count": 10,
     "metadata": {},
     "output_type": "execute_result"
    }
   ],
   "source": [
    "s.fillna(method='bfill') #copia nos NaN o valor da linha não nula imediatamente abaixo"
   ]
  },
  {
   "cell_type": "code",
   "execution_count": 11,
   "id": "be8f1228",
   "metadata": {},
   "outputs": [
    {
     "data": {
      "text/plain": [
       "0     0.500\n",
       "1     0.575\n",
       "2     0.575\n",
       "3     0.520\n",
       "4     0.540\n",
       "5     0.575\n",
       "6     0.575\n",
       "7     0.590\n",
       "8     0.600\n",
       "9     0.575\n",
       "10    0.700\n",
       "dtype: float64"
      ]
     },
     "execution_count": 11,
     "metadata": {},
     "output_type": "execute_result"
    }
   ],
   "source": [
    "s.fillna(s.mean()) #copia nos NaN o valor da média das linhas não nulas"
   ]
  },
  {
   "cell_type": "code",
   "execution_count": 12,
   "id": "2e8fc0fd",
   "metadata": {},
   "outputs": [
    {
     "data": {
      "text/plain": [
       "0     0.50\n",
       "1      NaN\n",
       "2      NaN\n",
       "3     0.52\n",
       "4     0.54\n",
       "5      NaN\n",
       "6      NaN\n",
       "7     0.59\n",
       "8     0.60\n",
       "9      NaN\n",
       "10    0.70\n",
       "dtype: float64"
      ]
     },
     "execution_count": 12,
     "metadata": {},
     "output_type": "execute_result"
    }
   ],
   "source": [
    "s"
   ]
  },
  {
   "cell_type": "code",
   "execution_count": 14,
   "id": "4f6fc2fb",
   "metadata": {},
   "outputs": [],
   "source": [
    "s1 = s.fillna(method='ffill', limit=1) #copia nos NaN o valor da linha não nula imediatamente acima, com limite de um preenchimento apenas"
   ]
  },
  {
   "cell_type": "code",
   "execution_count": 15,
   "id": "a44fe076",
   "metadata": {},
   "outputs": [
    {
     "data": {
      "text/plain": [
       "0     0.50\n",
       "1     0.50\n",
       "2      NaN\n",
       "3     0.52\n",
       "4     0.54\n",
       "5     0.54\n",
       "6      NaN\n",
       "7     0.59\n",
       "8     0.60\n",
       "9     0.60\n",
       "10    0.70\n",
       "dtype: float64"
      ]
     },
     "execution_count": 15,
     "metadata": {},
     "output_type": "execute_result"
    }
   ],
   "source": [
    "s1"
   ]
  },
  {
   "cell_type": "code",
   "execution_count": 16,
   "id": "4587ca34",
   "metadata": {},
   "outputs": [
    {
     "data": {
      "text/plain": [
       "0     0.50\n",
       "1     0.50\n",
       "2     0.50\n",
       "3     0.52\n",
       "4     0.54\n",
       "5     0.54\n",
       "6     0.54\n",
       "7     0.59\n",
       "8     0.60\n",
       "9     0.60\n",
       "10    0.70\n",
       "dtype: float64"
      ]
     },
     "execution_count": 16,
     "metadata": {},
     "output_type": "execute_result"
    }
   ],
   "source": [
    "s1.fillna(method='ffill', limit=1)"
   ]
  },
  {
   "cell_type": "code",
   "execution_count": null,
   "id": "c1930fff",
   "metadata": {},
   "outputs": [],
   "source": []
  }
 ],
 "metadata": {
  "kernelspec": {
   "display_name": "Python 3 (ipykernel)",
   "language": "python",
   "name": "python3"
  },
  "language_info": {
   "codemirror_mode": {
    "name": "ipython",
    "version": 3
   },
   "file_extension": ".py",
   "mimetype": "text/x-python",
   "name": "python",
   "nbconvert_exporter": "python",
   "pygments_lexer": "ipython3",
   "version": "3.9.7"
  }
 },
 "nbformat": 4,
 "nbformat_minor": 5
}
