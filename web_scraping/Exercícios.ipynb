{
 "cells": [
  {
   "cell_type": "code",
   "execution_count": 1,
   "id": "25bd426e-21a3-46d6-b94e-be337e83def5",
   "metadata": {},
   "outputs": [
    {
     "data": {
      "text/plain": [
       "'Curso de Web Scraping'"
      ]
     },
     "execution_count": 1,
     "metadata": {},
     "output_type": "execute_result"
    }
   ],
   "source": [
    "from urllib.request import urlopen\n",
    "from bs4 import BeautifulSoup\n",
    "\n",
    "url = 'https://alura-site-scraping.herokuapp.com/hello-world.php'\n",
    "\n",
    "response = urlopen(url)\n",
    "html = response.read()\n",
    "\n",
    "soup = BeautifulSoup(html, 'html.parser')\n",
    "\n",
    "soup.find('h1', {'class': 'sub-header'}).get_text()"
   ]
  },
  {
   "cell_type": "markdown",
   "id": "4ce2c5e1-b8f4-44a3-aae7-e33dbb188e87",
   "metadata": {},
   "source": [
    "'''\n",
    "Utilizando os métodos de manipulação de strings que vimos em nosso último vídeo (split, join e replace), assinale a alternativa que mostra uma das formas de se transformar a string:\n",
    "\n",
    "'O\\ns@po\\nn#o\\tl@v@\\to\\npé'\n",
    "\n",
    "Em\n",
    "\n",
    "'O sapo não lava o pé'\n",
    "'''"
   ]
  },
  {
   "cell_type": "code",
   "execution_count": 2,
   "id": "e479e9d6-0e50-4dd5-8e6c-e576fb20369d",
   "metadata": {},
   "outputs": [
    {
     "data": {
      "text/plain": [
       "'O\\ns@po\\nn#o\\tl@v@\\to\\npé'"
      ]
     },
     "execution_count": 2,
     "metadata": {},
     "output_type": "execute_result"
    }
   ],
   "source": [
    "n = 'O\\ns@po\\nn#o\\tl@v@\\to\\npé'\n",
    "n"
   ]
  },
  {
   "cell_type": "code",
   "execution_count": 3,
   "id": "0396910d-8ceb-4762-a478-861f848cd661",
   "metadata": {},
   "outputs": [
    {
     "data": {
      "text/plain": [
       "'O s@po n#o l@v@ o pé'"
      ]
     },
     "execution_count": 3,
     "metadata": {},
     "output_type": "execute_result"
    }
   ],
   "source": [
    "n = \" \".join(n.split())\n",
    "n"
   ]
  },
  {
   "cell_type": "code",
   "execution_count": 4,
   "id": "63a9058e-76d6-40e2-8f77-7fcf27008fc7",
   "metadata": {},
   "outputs": [
    {
     "data": {
      "text/plain": [
       "'O sapo n#o lava o pé'"
      ]
     },
     "execution_count": 4,
     "metadata": {},
     "output_type": "execute_result"
    }
   ],
   "source": [
    "n = n.replace('@', 'a')\n",
    "n"
   ]
  },
  {
   "cell_type": "code",
   "execution_count": 5,
   "id": "b1ce7597-cba4-4f9b-9f15-4bf2b9eaaaa4",
   "metadata": {},
   "outputs": [
    {
     "data": {
      "text/plain": [
       "'O sapo não lava o pé'"
      ]
     },
     "execution_count": 5,
     "metadata": {},
     "output_type": "execute_result"
    }
   ],
   "source": [
    "n = n.replace('#', 'ã')\n",
    "n"
   ]
  },
  {
   "cell_type": "code",
   "execution_count": 6,
   "id": "bcf86920-1c22-40f2-a70c-57e116ffe1bf",
   "metadata": {},
   "outputs": [
    {
     "data": {
      "text/plain": [
       "\n",
       "<html>\n",
       "<body>\n",
       "<div id=\"container-a\">\n",
       "<h1>Título A</h1>\n",
       "<h2 class=\"ref-a\">Sub título A</h2>\n",
       "<p>Texto de conteúdo A</p>\n",
       "<div id=\"container-a-1\">\n",
       "<h1>Título A.1</h1>\n",
       "<h2 class=\"ref-a\">Sub título A.1</h2>\n",
       "<p>Texto de conteúdo A.1</p>\n",
       "</div>\n",
       "</div>\n",
       "</body>\n",
       "</html>"
      ]
     },
     "execution_count": 6,
     "metadata": {},
     "output_type": "execute_result"
    }
   ],
   "source": [
    "from bs4 import BeautifulSoup\n",
    "\n",
    "html = \"\"\"\n",
    "    <html>\n",
    "        <body>\n",
    "            <div id=\"container-a\">\n",
    "                <h1>Título A</h1>\n",
    "                <h2 class=\"ref-a\">Sub título A</h2>\n",
    "                <p>Texto de conteúdo A</p>\n",
    "                <div id=\"container-a-1\">\n",
    "                    <h1>Título A.1</h1>\n",
    "                    <h2 class=\"ref-a\">Sub título A.1</h2>\n",
    "                    <p>Texto de conteúdo A.1</p>\n",
    "                </div>\n",
    "            </div>\n",
    "        </body>\n",
    "    </html>\n",
    "\"\"\"\n",
    "soup = BeautifulSoup(html, 'html.parser')\n",
    "soup"
   ]
  },
  {
   "cell_type": "code",
   "execution_count": 7,
   "id": "6f15db1a-e6f9-4221-8201-c12116842ce0",
   "metadata": {},
   "outputs": [
    {
     "data": {
      "text/plain": [
       "<h2 class=\"ref-a\">Sub título A.1</h2>"
      ]
     },
     "execution_count": 7,
     "metadata": {},
     "output_type": "execute_result"
    }
   ],
   "source": [
    "soup.div.div.h2"
   ]
  },
  {
   "cell_type": "markdown",
   "id": "e54ec3ef-16ac-4e53-8468-702209cd16e7",
   "metadata": {},
   "source": [
    "### O parâmetro separator permite a configuração de uma sequência de caracteres, para servir de separador entre os conteúdos das tags acessadas"
   ]
  },
  {
   "cell_type": "code",
   "execution_count": 8,
   "id": "fce5be59-201a-4010-a77f-a4b42a5b93a5",
   "metadata": {},
   "outputs": [
    {
     "data": {
      "text/plain": [
       "'Título 1 # Título 1.1 # Conteúdo'"
      ]
     },
     "execution_count": 8,
     "metadata": {},
     "output_type": "execute_result"
    }
   ],
   "source": [
    "soup = BeautifulSoup('<h1>Título 1</h1><h2>Título 1.1</h2><p>Conteúdo</p>')\n",
    "soup.get_text(' # ')"
   ]
  },
  {
   "cell_type": "markdown",
   "id": "ae68633c-4254-4ce7-88fb-0ff6d92d14f8",
   "metadata": {},
   "source": [
    "### O segundo parâmetro é o strip, que, se configurando como True, remove os espaços em branco do início e do fim de cada bloco de texto retornado."
   ]
  },
  {
   "cell_type": "code",
   "execution_count": 9,
   "id": "b3a0a3c7-1e2a-46b8-a8b0-b5ab980689ba",
   "metadata": {},
   "outputs": [
    {
     "data": {
      "text/plain": [
       "\n",
       "<html>\n",
       "<body>\n",
       "<div id=\"container-a\">\n",
       "<h1>Título A</h1>\n",
       "<h2 class=\"ref-a\">Sub título A</h2>\n",
       "<p>Texto de conteúdo A</p>\n",
       "<div id=\"container-a-1\">\n",
       "<h1>Título A.1</h1>\n",
       "<h2 class=\"ref-a\">Sub título A.1</h2>\n",
       "<p>Texto de conteúdo A.1</p>\n",
       "</div>\n",
       "</div>\n",
       "</body>\n",
       "</html>"
      ]
     },
     "execution_count": 9,
     "metadata": {},
     "output_type": "execute_result"
    }
   ],
   "source": [
    "from bs4 import BeautifulSoup\n",
    "\n",
    "html = \"\"\"\n",
    "    <html>\n",
    "        <body>\n",
    "            <div id=\"container-a\">\n",
    "                <h1>Título A</h1>\n",
    "                <h2 class=\"ref-a\">Sub título A</h2>\n",
    "                <p>Texto de conteúdo A</p>\n",
    "                <div id=\"container-a-1\">\n",
    "                    <h1>Título A.1</h1>\n",
    "                    <h2 class=\"ref-a\">Sub título A.1</h2>\n",
    "                    <p>Texto de conteúdo A.1</p>\n",
    "                </div>\n",
    "            </div>\n",
    "        </body>\n",
    "    </html>\n",
    "\"\"\"\n",
    "soup = BeautifulSoup(html, 'html.parser')\n",
    "soup"
   ]
  },
  {
   "cell_type": "code",
   "execution_count": 10,
   "id": "e885a17e-5cb8-42c6-bd53-cc64da7fc30a",
   "metadata": {},
   "outputs": [
    {
     "data": {
      "text/plain": [
       "['Título A',\n",
       " 'Sub título A',\n",
       " 'Texto de conteúdo A',\n",
       " 'Título A.1',\n",
       " 'Sub título A.1',\n",
       " 'Texto de conteúdo A.1']"
      ]
     },
     "execution_count": 10,
     "metadata": {},
     "output_type": "execute_result"
    }
   ],
   "source": [
    "soup.get_text(separator=' || ', strip=True).split(' || ')"
   ]
  },
  {
   "cell_type": "code",
   "execution_count": 11,
   "id": "578788de-3661-4b31-a96a-ee054b39aff5",
   "metadata": {},
   "outputs": [
    {
     "data": {
      "text/plain": [
       "'Título A || Sub título A || Texto de conteúdo A || Título A.1 || Sub título A.1 || Texto de conteúdo A.1'"
      ]
     },
     "execution_count": 11,
     "metadata": {},
     "output_type": "execute_result"
    }
   ],
   "source": [
    "soup.get_text(separator=' || ', strip=True)"
   ]
  },
  {
   "cell_type": "code",
   "execution_count": 12,
   "id": "590c3a04-bf57-4d9a-873c-0b029cacac99",
   "metadata": {},
   "outputs": [],
   "source": [
    "soup = BeautifulSoup('<img src=\"scraping.jpg\"/>')"
   ]
  },
  {
   "cell_type": "code",
   "execution_count": 13,
   "id": "079baa2b-d2c3-42fc-be5a-b6d167d9334d",
   "metadata": {},
   "outputs": [
    {
     "data": {
      "text/plain": [
       "'scraping.jpg'"
      ]
     },
     "execution_count": 13,
     "metadata": {},
     "output_type": "execute_result"
    }
   ],
   "source": [
    "soup.img['src']"
   ]
  },
  {
   "cell_type": "code",
   "execution_count": 14,
   "id": "2901cec6-1a4c-4157-8648-12f28c292736",
   "metadata": {},
   "outputs": [],
   "source": [
    "from bs4 import BeautifulSoup\n",
    "\n",
    "html = \"\"\"\n",
    "    <html>\n",
    "        <body>\n",
    "            <div id=\"container-a\">\n",
    "                <h1>Título A</h1>\n",
    "                <h2 class=\"ref-a\">Sub título A</h2>\n",
    "                <p>Texto de conteúdo A</p>\n",
    "            </div>\n",
    "            <div id=\"container-b\">\n",
    "                <h1>Título B</h1>\n",
    "                <h2 class=\"ref-b\">Sub título B</h2>\n",
    "                <p>Texto de conteúdo B</p>\n",
    "            </div>\n",
    "        </body>\n",
    "    </html>\n",
    "\"\"\"\n",
    "soup = BeautifulSoup(html, 'html.parser')"
   ]
  },
  {
   "cell_type": "code",
   "execution_count": 15,
   "id": "f29490df-e03a-4246-ad25-8a54854734d6",
   "metadata": {},
   "outputs": [
    {
     "data": {
      "text/plain": [
       "<h2 class=\"ref-b\">Sub título B</h2>"
      ]
     },
     "execution_count": 15,
     "metadata": {},
     "output_type": "execute_result"
    }
   ],
   "source": [
    "soup.find('h2', {'class': 'ref-b'})"
   ]
  },
  {
   "cell_type": "code",
   "execution_count": 16,
   "id": "7397b925-2795-402d-b9af-84a4e9b64eb2",
   "metadata": {},
   "outputs": [
    {
     "data": {
      "text/plain": [
       "'Texto de conteúdo B'"
      ]
     },
     "execution_count": 16,
     "metadata": {},
     "output_type": "execute_result"
    }
   ],
   "source": [
    "soup.find('div',{'id': 'container-b'}).p.get_text()"
   ]
  },
  {
   "cell_type": "code",
   "execution_count": 17,
   "id": "eeab9c36-affc-4d08-b663-66f927fd99b7",
   "metadata": {},
   "outputs": [
    {
     "data": {
      "text/plain": [
       "[<h1>Título A</h1>, <h1>Título B</h1>]"
      ]
     },
     "execution_count": 17,
     "metadata": {},
     "output_type": "execute_result"
    }
   ],
   "source": [
    "soup.findAll('h1')"
   ]
  },
  {
   "cell_type": "code",
   "execution_count": 18,
   "id": "294b19ea-d2ba-469d-a5db-b16edd9a854a",
   "metadata": {},
   "outputs": [],
   "source": [
    "from bs4 import BeautifulSoup\n",
    "\n",
    "html = \"\"\"\n",
    "    <html>\n",
    "        <body>\n",
    "            <div id=\"container-a\">\n",
    "                <h1>Título A</h1>\n",
    "                <h2 class=\"ref-a\">Sub título A</h2>\n",
    "                <p>Curso de</p>\n",
    "                <p>Web</p>\n",
    "                <p>Scraping</p>\n",
    "                <p>com Python</p>\n",
    "            </div>\n",
    "        </body>\n",
    "    </html>\n",
    "\"\"\"\n",
    "soup = BeautifulSoup(html, 'html.parser')"
   ]
  },
  {
   "cell_type": "code",
   "execution_count": 19,
   "id": "b44f13a0-bef3-456e-b92e-cd15713d1c23",
   "metadata": {},
   "outputs": [
    {
     "data": {
      "text/plain": [
       "[]"
      ]
     },
     "execution_count": 19,
     "metadata": {},
     "output_type": "execute_result"
    }
   ],
   "source": [
    "soup.find('p').findPreviousSiblings('p', limit=2) "
   ]
  },
  {
   "cell_type": "code",
   "execution_count": 20,
   "id": "682cadd7-4760-47b4-877f-0499d247a7b7",
   "metadata": {},
   "outputs": [
    {
     "data": {
      "text/plain": [
       "[<p>Web</p>, <p>Scraping</p>, <p>com Python</p>]"
      ]
     },
     "execution_count": 20,
     "metadata": {},
     "output_type": "execute_result"
    }
   ],
   "source": [
    "soup.find('p').findNextSiblings('p')"
   ]
  },
  {
   "cell_type": "code",
   "execution_count": 21,
   "id": "a7bc9162-ca62-44a4-b98e-52e9eefd6131",
   "metadata": {},
   "outputs": [
    {
     "data": {
      "text/plain": [
       "[<p>Web</p>, <p>Scraping</p>]"
      ]
     },
     "execution_count": 21,
     "metadata": {},
     "output_type": "execute_result"
    }
   ],
   "source": [
    "soup.find('p').findNextSiblings('p', limit=2)"
   ]
  },
  {
   "cell_type": "code",
   "execution_count": 31,
   "id": "2fe67989-64a2-462a-84fe-b51e179de8c6",
   "metadata": {},
   "outputs": [],
   "source": [
    "card = {}"
   ]
  },
  {
   "cell_type": "code",
   "execution_count": 29,
   "id": "42cc496b-299b-4a65-8aad-bd4884838c05",
   "metadata": {},
   "outputs": [],
   "source": [
    "card['Valor']=100"
   ]
  },
  {
   "cell_type": "code",
   "execution_count": 30,
   "id": "12c629aa-d9df-400f-a2ed-86fb15081bb2",
   "metadata": {},
   "outputs": [
    {
     "data": {
      "text/plain": [
       "{'Valor': 100}"
      ]
     },
     "execution_count": 30,
     "metadata": {},
     "output_type": "execute_result"
    }
   ],
   "source": [
    "card"
   ]
  },
  {
   "cell_type": "code",
   "execution_count": 27,
   "id": "331cdf35-5cc9-452a-a71b-aafd2057e389",
   "metadata": {},
   "outputs": [],
   "source": [
    "card = {}"
   ]
  },
  {
   "cell_type": "code",
   "execution_count": 32,
   "id": "d5806090-589b-462c-975b-f1587f8cf95f",
   "metadata": {},
   "outputs": [],
   "source": [
    "card.update({'Valor':100})"
   ]
  },
  {
   "cell_type": "code",
   "execution_count": 33,
   "id": "c400f4c3-1d3f-42f2-b2a1-db69f0e1b4a4",
   "metadata": {},
   "outputs": [
    {
     "data": {
      "text/plain": [
       "{'Valor': 100}"
      ]
     },
     "execution_count": 33,
     "metadata": {},
     "output_type": "execute_result"
    }
   ],
   "source": [
    "card"
   ]
  },
  {
   "cell_type": "code",
   "execution_count": 1,
   "id": "68f773a9-06d6-46ef-81fe-6b4ca7674689",
   "metadata": {},
   "outputs": [],
   "source": [
    "  from bs4 import BeautifulSoup\n",
    "\n",
    "html = \"\"\"\n",
    "    <html>\n",
    "        <body>\n",
    "            <div id=\"container-a\">\n",
    "                <h1>Curso de Web Scraping</h1>\n",
    "                <h3>Treinamento Alura</h3>\n",
    "                <p class=\"main descr\">Curso para ensinar técnicas de coleta de dados na web.</p>\n",
    "            </div>\n",
    "            <div id=\"tools\">\n",
    "                <p class=\"main lib-a\">BeautifulSoup</p>\n",
    "                <p class=\"libs\">findAll()</p>\n",
    "                <p class=\"libs\">getText()</p>\n",
    "                <p class=\"main lib-b\">urllib.request</p>\n",
    "                <p class=\"libs\">urlopen()</p>\n",
    "                <p class=\"main lib-c\">pandas</p>\n",
    "                <p class=\"libs\">DataFrame()</p>\n",
    "            </div>\n",
    "        </body>\n",
    "    </html>\n",
    "\"\"\"\n",
    "soup = BeautifulSoup(html, 'html.parser')"
   ]
  },
  {
   "cell_type": "code",
   "execution_count": 16,
   "id": "7dc4676f-cf9f-42d4-bc29-03e968dfcd28",
   "metadata": {},
   "outputs": [],
   "source": [
    "infos = soup.find('div', {'id': 'tools'}).find_all('p', class_='main')"
   ]
  },
  {
   "cell_type": "code",
   "execution_count": 14,
   "id": "c44656ed-c52e-47d6-821a-12c67e1f5926",
   "metadata": {},
   "outputs": [
    {
     "data": {
      "text/plain": [
       "[<p class=\"main lib-a\">BeautifulSoup</p>,\n",
       " <p class=\"main lib-b\">urllib.request</p>,\n",
       " <p class=\"main lib-c\">pandas</p>]"
      ]
     },
     "execution_count": 14,
     "metadata": {},
     "output_type": "execute_result"
    }
   ],
   "source": [
    "infos"
   ]
  },
  {
   "cell_type": "code",
   "execution_count": 21,
   "id": "a4b1dcaa-4c9e-423b-842a-ac7607691ded",
   "metadata": {},
   "outputs": [
    {
     "name": "stdout",
     "output_type": "stream",
     "text": [
      "BeautifulSoup\n",
      "urllib.request\n",
      "pandas\n"
     ]
    }
   ],
   "source": [
    "texts = []\n",
    "\n",
    "for info in infos:\n",
    "    print(info.get_text())"
   ]
  },
  {
   "cell_type": "code",
   "execution_count": 22,
   "id": "a3335925-989f-4a12-8d1a-bb70192cc84d",
   "metadata": {},
   "outputs": [],
   "source": [
    "from bs4 import BeautifulSoup\n",
    "\n",
    "html = \"\"\"\n",
    "    <html>\n",
    "        <body>\n",
    "            <ul>\n",
    "                <li>Abertura</li>\n",
    "                <li>10%</li>\n",
    "                <li>11%</li>\n",
    "                <li>10.5%</li>\n",
    "                <li>9%</li>\n",
    "                <li>Fechamento</li>\n",
    "            </ul>\n",
    "        </body>\n",
    "    </html>\n",
    "\"\"\"\n",
    "soup = BeautifulSoup(html, 'html.parser')"
   ]
  },
  {
   "cell_type": "code",
   "execution_count": 28,
   "id": "e3110fd1-30df-456e-a279-a6f0ae314ffd",
   "metadata": {},
   "outputs": [
    {
     "data": {
      "text/plain": [
       "[<li>10%</li>, <li>11%</li>, <li>10.5%</li>, <li>9%</li>]"
      ]
     },
     "execution_count": 28,
     "metadata": {},
     "output_type": "execute_result"
    }
   ],
   "source": [
    "valores = soup.ul('li')[1:-1]\n",
    "valores"
   ]
  },
  {
   "cell_type": "code",
   "execution_count": 23,
   "id": "6bcb5c34-7419-49fd-a8fa-d854fbe8f14d",
   "metadata": {},
   "outputs": [
    {
     "data": {
      "text/plain": [
       "[<li>Abertura</li>,\n",
       " <li>10%</li>,\n",
       " <li>11%</li>,\n",
       " <li>10.5%</li>,\n",
       " <li>9%</li>,\n",
       " <li>Fechamento</li>]"
      ]
     },
     "execution_count": 23,
     "metadata": {},
     "output_type": "execute_result"
    }
   ],
   "source": [
    "lista = []\n",
    "\n",
    "items = soup.find_all('li')\n",
    "items            "
   ]
  },
  {
   "cell_type": "code",
   "execution_count": 24,
   "id": "5f2f4441-4b8d-47cb-be94-e2daeabad6ce",
   "metadata": {},
   "outputs": [
    {
     "data": {
      "text/plain": [
       "<li>Fechamento</li>"
      ]
     },
     "execution_count": 24,
     "metadata": {},
     "output_type": "execute_result"
    }
   ],
   "source": [
    "items.pop()"
   ]
  },
  {
   "cell_type": "code",
   "execution_count": 25,
   "id": "34253019-2c58-4c5c-a1a9-4625e276b258",
   "metadata": {},
   "outputs": [
    {
     "data": {
      "text/plain": [
       "[<li>Abertura</li>, <li>10%</li>, <li>11%</li>, <li>10.5%</li>, <li>9%</li>]"
      ]
     },
     "execution_count": 25,
     "metadata": {},
     "output_type": "execute_result"
    }
   ],
   "source": [
    "items"
   ]
  },
  {
   "cell_type": "code",
   "execution_count": 26,
   "id": "2097e592-b314-49e3-8e90-d7a1eb412ea3",
   "metadata": {},
   "outputs": [
    {
     "data": {
      "text/plain": [
       "<li>Abertura</li>"
      ]
     },
     "execution_count": 26,
     "metadata": {},
     "output_type": "execute_result"
    }
   ],
   "source": [
    "items.pop(0)"
   ]
  },
  {
   "cell_type": "code",
   "execution_count": 27,
   "id": "b2b02c4d-2314-4fb9-862a-b757fab86256",
   "metadata": {},
   "outputs": [
    {
     "data": {
      "text/plain": [
       "[<li>10%</li>, <li>11%</li>, <li>10.5%</li>, <li>9%</li>]"
      ]
     },
     "execution_count": 27,
     "metadata": {},
     "output_type": "execute_result"
    }
   ],
   "source": [
    "items"
   ]
  },
  {
   "cell_type": "code",
   "execution_count": 29,
   "id": "211ff63b-9327-4de2-9e31-7f077ebc0232",
   "metadata": {},
   "outputs": [],
   "source": [
    "import pandas as pd\n",
    "\n",
    "card = {'value': 'R$ 1000',\n",
    " 'name': 'Fusca',\n",
    " 'motor': 'Motor 1.6',\n",
    " 'description': 'Ano 1963 - 455.286 km',\n",
    " 'location': 'Belo Horizonte - MG',\n",
    " 'items': ['Rádio', 'Buzina']}"
   ]
  },
  {
   "cell_type": "code",
   "execution_count": 31,
   "id": "7595ca1c-e65e-46ec-8e5e-13e539ee93fb",
   "metadata": {},
   "outputs": [
    {
     "data": {
      "text/html": [
       "<div>\n",
       "<style scoped>\n",
       "    .dataframe tbody tr th:only-of-type {\n",
       "        vertical-align: middle;\n",
       "    }\n",
       "\n",
       "    .dataframe tbody tr th {\n",
       "        vertical-align: top;\n",
       "    }\n",
       "\n",
       "    .dataframe thead th {\n",
       "        text-align: right;\n",
       "    }\n",
       "</style>\n",
       "<table border=\"1\" class=\"dataframe\">\n",
       "  <thead>\n",
       "    <tr style=\"text-align: right;\">\n",
       "      <th></th>\n",
       "      <th>value</th>\n",
       "      <th>name</th>\n",
       "      <th>motor</th>\n",
       "      <th>description</th>\n",
       "      <th>location</th>\n",
       "      <th>items</th>\n",
       "    </tr>\n",
       "  </thead>\n",
       "  <tbody>\n",
       "    <tr>\n",
       "      <th>0</th>\n",
       "      <td>R$ 1000</td>\n",
       "      <td>Fusca</td>\n",
       "      <td>Motor 1.6</td>\n",
       "      <td>Ano 1963 - 455.286 km</td>\n",
       "      <td>Belo Horizonte - MG</td>\n",
       "      <td>Rádio</td>\n",
       "    </tr>\n",
       "    <tr>\n",
       "      <th>1</th>\n",
       "      <td>R$ 1000</td>\n",
       "      <td>Fusca</td>\n",
       "      <td>Motor 1.6</td>\n",
       "      <td>Ano 1963 - 455.286 km</td>\n",
       "      <td>Belo Horizonte - MG</td>\n",
       "      <td>Buzina</td>\n",
       "    </tr>\n",
       "  </tbody>\n",
       "</table>\n",
       "</div>"
      ],
      "text/plain": [
       "     value   name      motor            description             location  \\\n",
       "0  R$ 1000  Fusca  Motor 1.6  Ano 1963 - 455.286 km  Belo Horizonte - MG   \n",
       "1  R$ 1000  Fusca  Motor 1.6  Ano 1963 - 455.286 km  Belo Horizonte - MG   \n",
       "\n",
       "    items  \n",
       "0   Rádio  \n",
       "1  Buzina  "
      ]
     },
     "execution_count": 31,
     "metadata": {},
     "output_type": "execute_result"
    }
   ],
   "source": [
    "dataset = pd.DataFrame(card)\n",
    "dataset"
   ]
  },
  {
   "cell_type": "code",
   "execution_count": 32,
   "id": "4725e67f-5846-485b-a40a-0ffa4eb1b976",
   "metadata": {},
   "outputs": [
    {
     "data": {
      "text/html": [
       "<div>\n",
       "<style scoped>\n",
       "    .dataframe tbody tr th:only-of-type {\n",
       "        vertical-align: middle;\n",
       "    }\n",
       "\n",
       "    .dataframe tbody tr th {\n",
       "        vertical-align: top;\n",
       "    }\n",
       "\n",
       "    .dataframe thead th {\n",
       "        text-align: right;\n",
       "    }\n",
       "</style>\n",
       "<table border=\"1\" class=\"dataframe\">\n",
       "  <thead>\n",
       "    <tr style=\"text-align: right;\">\n",
       "      <th></th>\n",
       "      <th>0</th>\n",
       "    </tr>\n",
       "  </thead>\n",
       "  <tbody>\n",
       "    <tr>\n",
       "      <th>value</th>\n",
       "      <td>R$ 1000</td>\n",
       "    </tr>\n",
       "    <tr>\n",
       "      <th>name</th>\n",
       "      <td>Fusca</td>\n",
       "    </tr>\n",
       "    <tr>\n",
       "      <th>motor</th>\n",
       "      <td>Motor 1.6</td>\n",
       "    </tr>\n",
       "    <tr>\n",
       "      <th>description</th>\n",
       "      <td>Ano 1963 - 455.286 km</td>\n",
       "    </tr>\n",
       "    <tr>\n",
       "      <th>location</th>\n",
       "      <td>Belo Horizonte - MG</td>\n",
       "    </tr>\n",
       "    <tr>\n",
       "      <th>items</th>\n",
       "      <td>[Rádio, Buzina]</td>\n",
       "    </tr>\n",
       "  </tbody>\n",
       "</table>\n",
       "</div>"
      ],
      "text/plain": [
       "                                 0\n",
       "value                      R$ 1000\n",
       "name                         Fusca\n",
       "motor                    Motor 1.6\n",
       "description  Ano 1963 - 455.286 km\n",
       "location       Belo Horizonte - MG\n",
       "items              [Rádio, Buzina]"
      ]
     },
     "execution_count": 32,
     "metadata": {},
     "output_type": "execute_result"
    }
   ],
   "source": [
    "dataset = pd.DataFrame.from_dict(card, orient = 'index')\n",
    "dataset"
   ]
  },
  {
   "cell_type": "code",
   "execution_count": 33,
   "id": "b82662b0-41fc-4386-945a-0cad126edabd",
   "metadata": {},
   "outputs": [
    {
     "data": {
      "text/html": [
       "<div>\n",
       "<style scoped>\n",
       "    .dataframe tbody tr th:only-of-type {\n",
       "        vertical-align: middle;\n",
       "    }\n",
       "\n",
       "    .dataframe tbody tr th {\n",
       "        vertical-align: top;\n",
       "    }\n",
       "\n",
       "    .dataframe thead th {\n",
       "        text-align: right;\n",
       "    }\n",
       "</style>\n",
       "<table border=\"1\" class=\"dataframe\">\n",
       "  <thead>\n",
       "    <tr style=\"text-align: right;\">\n",
       "      <th></th>\n",
       "      <th>value</th>\n",
       "      <th>name</th>\n",
       "      <th>motor</th>\n",
       "      <th>description</th>\n",
       "      <th>location</th>\n",
       "      <th>items</th>\n",
       "    </tr>\n",
       "  </thead>\n",
       "  <tbody>\n",
       "    <tr>\n",
       "      <th>0</th>\n",
       "      <td>R$ 1000</td>\n",
       "      <td>Fusca</td>\n",
       "      <td>Motor 1.6</td>\n",
       "      <td>Ano 1963 - 455.286 km</td>\n",
       "      <td>Belo Horizonte - MG</td>\n",
       "      <td>[Rádio, Buzina]</td>\n",
       "    </tr>\n",
       "  </tbody>\n",
       "</table>\n",
       "</div>"
      ],
      "text/plain": [
       "     value   name      motor            description             location  \\\n",
       "0  R$ 1000  Fusca  Motor 1.6  Ano 1963 - 455.286 km  Belo Horizonte - MG   \n",
       "\n",
       "             items  \n",
       "0  [Rádio, Buzina]  "
      ]
     },
     "execution_count": 33,
     "metadata": {},
     "output_type": "execute_result"
    }
   ],
   "source": [
    "dataset = pd.DataFrame.from_dict(card, orient = 'index').T\n",
    "dataset"
   ]
  },
  {
   "cell_type": "code",
   "execution_count": 1,
   "id": "a07f799f-81a6-41a4-a773-f3bb54822857",
   "metadata": {},
   "outputs": [],
   "source": [
    "from bs4 import BeautifulSoup\n",
    "\n",
    "html = \"\"\"\n",
    "    <html>\n",
    "        <body>\n",
    "            <h1>Fotos</h1>\n",
    "            <div>\n",
    "                <img alt=\"Foto\" src=\"https://caelum-online-public.s3.amazonaws.com/1381-scraping/01/img-cars/mercedes-benz-slr/mercedes-benz-slr-2925433__340.jpg\">\n",
    "                <img alt=\"Foto\" src=\"https://caelum-online-public.s3.amazonaws.com/1381-scraping/01/img-cars/vwbeetle/vwbeetle-836065__340.jpg\">\n",
    "                <img alt=\"Foto\" src=\"https://caelum-online-public.s3.amazonaws.com/1381-scraping/01/img-cars/porsche-911-gt2rs/porsche-911-gt2rs-3076518__340.jpg\">\n",
    "            </div>\n",
    "        </body>\n",
    "    </html>\n",
    "\"\"\"\n",
    "soup = BeautifulSoup(html, 'html.parser')"
   ]
  },
  {
   "cell_type": "code",
   "execution_count": 12,
   "id": "063760b4-5a40-4c84-a066-d8d6026967be",
   "metadata": {},
   "outputs": [],
   "source": [
    "links = soup.find('div').find_all('img')"
   ]
  },
  {
   "cell_type": "code",
   "execution_count": 22,
   "id": "9fae2bcf-082b-4f6a-81a6-1035557cb3be",
   "metadata": {},
   "outputs": [
    {
     "name": "stdout",
     "output_type": "stream",
     "text": [
      "https://caelum-online-public.s3.amazonaws.com/1381-scraping/01/img-cars/mercedes-benz-slr/mercedes-benz-slr-2925433__340.jpg\n",
      "https://caelum-online-public.s3.amazonaws.com/1381-scraping/01/img-cars/vwbeetle/vwbeetle-836065__340.jpg\n",
      "https://caelum-online-public.s3.amazonaws.com/1381-scraping/01/img-cars/porsche-911-gt2rs/porsche-911-gt2rs-3076518__340.jpg\n"
     ]
    }
   ],
   "source": [
    "for link in links:\n",
    "    print(link.get('src')) #retorna o texto do atributo em questão"
   ]
  },
  {
   "cell_type": "code",
   "execution_count": 27,
   "id": "4f33fc9b-d546-4365-8484-80e2424ee9f4",
   "metadata": {},
   "outputs": [
    {
     "data": {
      "text/plain": [
       "{'link': 'https://www.icarros.com.br/comprar/peugeot/208/2022/dm31170119?pos=2&regiao=-est_SC.1_-cid_8452.1_-esc_2.1_&cid=8452&uf=SC&financiamento=true'}"
      ]
     },
     "execution_count": 27,
     "metadata": {},
     "output_type": "execute_result"
    }
   ],
   "source": [
    "from urllib.request import urlopen\n",
    "from bs4 import BeautifulSoup\n",
    "\n",
    "card={}\n",
    "\n",
    "url = 'https://www.icarros.com.br/ache/listaanuncios.jsp?bid=1&app=20&sop=nta_17|44|51.1_-est_SC.1_-cid_8452.1_-rai_50.1_-esc_2.1_-sta_1.1_&pas=1&lis=0&pag=1&ord=14'\n",
    "\n",
    "response = urlopen(url)\n",
    "html = response.read()\n",
    "html = html.decode('utf-8')\n",
    "\n",
    "soup = BeautifulSoup(html, 'lxml')\n",
    "\n",
    "anuncio = soup.find('li', {'class': 'anuncio anuncio_grupo_regional'})\n",
    "cards = []\n",
    "card['link'] = 'https://www.icarros.com.br' + anuncio.find('a', {'class' : 'clearfix'}).get('href')\n",
    "card"
   ]
  },
  {
   "cell_type": "code",
   "execution_count": 28,
   "id": "26303152-d872-4049-acd2-ce566c5f96b4",
   "metadata": {},
   "outputs": [],
   "source": [
    "from bs4 import BeautifulSoup\n",
    "\n",
    "html = \"\"\"\n",
    "    <html>\n",
    "        <body>\n",
    "            <h1>Busca por veículos</h1>\n",
    "            <div>\n",
    "                <p id=\"info-search\">Encontramos 1325 anúncios</p>\n",
    "                <span class=\"info-pages\">20 anúncios por página</span>\n",
    "            </div>\n",
    "        </body>\n",
    "    </html>\n",
    "\"\"\"\n",
    "soup = BeautifulSoup(html, 'html.parser')"
   ]
  },
  {
   "cell_type": "code",
   "execution_count": 42,
   "id": "e38ea14a-240b-4618-8739-308e3801cefb",
   "metadata": {},
   "outputs": [
    {
     "data": {
      "text/plain": [
       "1325"
      ]
     },
     "execution_count": 42,
     "metadata": {},
     "output_type": "execute_result"
    }
   ],
   "source": [
    "anuncios = int(soup.find('p', id='info-search').get_text().split()[1])\n",
    "anuncios"
   ]
  },
  {
   "cell_type": "code",
   "execution_count": 43,
   "id": "fdb0c9b5-ac19-4095-aac3-0a663b090a67",
   "metadata": {},
   "outputs": [
    {
     "data": {
      "text/plain": [
       "20"
      ]
     },
     "execution_count": 43,
     "metadata": {},
     "output_type": "execute_result"
    }
   ],
   "source": [
    "por_pagina = int(soup.find('span', {'class':'info-pages'}).get_text().split()[0])\n",
    "por_pagina"
   ]
  },
  {
   "cell_type": "code",
   "execution_count": 44,
   "id": "ee1398b4-7f97-4d89-be28-4bd40f0c61ec",
   "metadata": {},
   "outputs": [
    {
     "data": {
      "text/plain": [
       "67"
      ]
     },
     "execution_count": 44,
     "metadata": {},
     "output_type": "execute_result"
    }
   ],
   "source": [
    "import math\n",
    "\n",
    "total_paginas = math.ceil(anuncios/por_pagina)\n",
    "total_paginas"
   ]
  },
  {
   "cell_type": "code",
   "execution_count": null,
   "id": "18fa6bca-985a-4376-951d-06f7c8784d0b",
   "metadata": {},
   "outputs": [],
   "source": []
  }
 ],
 "metadata": {
  "kernelspec": {
   "display_name": "Python 3 (ipykernel)",
   "language": "python",
   "name": "python3"
  },
  "language_info": {
   "codemirror_mode": {
    "name": "ipython",
    "version": 3
   },
   "file_extension": ".py",
   "mimetype": "text/x-python",
   "name": "python",
   "nbconvert_exporter": "python",
   "pygments_lexer": "ipython3",
   "version": "3.9.7"
  }
 },
 "nbformat": 4,
 "nbformat_minor": 5
}
