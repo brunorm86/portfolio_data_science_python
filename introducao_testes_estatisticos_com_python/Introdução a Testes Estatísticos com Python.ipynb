{
 "cells": [
  {
   "cell_type": "markdown",
   "id": "679022de-f785-4701-b7eb-0e5250a92cd3",
   "metadata": {},
   "source": [
    "## importando os dados para um dataframe pandas"
   ]
  },
  {
   "cell_type": "code",
   "execution_count": 1,
   "id": "54dc5075-8c31-4290-9155-02a3eaacc052",
   "metadata": {},
   "outputs": [],
   "source": [
    "import pandas as pd\n",
    "import numpy as np\n",
    "import matplotlib.pyplot as plt\n",
    "import seaborn as sns\n",
    "from statsmodels.stats.weightstats import zconfint\n",
    "\n",
    "\n"
   ]
  },
  {
   "cell_type": "code",
   "execution_count": 2,
   "id": "01e51c62-9fa1-4b8a-a539-4e542f4e3a76",
   "metadata": {},
   "outputs": [
    {
     "data": {
      "text/html": [
       "<div>\n",
       "<style scoped>\n",
       "    .dataframe tbody tr th:only-of-type {\n",
       "        vertical-align: middle;\n",
       "    }\n",
       "\n",
       "    .dataframe tbody tr th {\n",
       "        vertical-align: top;\n",
       "    }\n",
       "\n",
       "    .dataframe thead th {\n",
       "        text-align: right;\n",
       "    }\n",
       "</style>\n",
       "<table border=\"1\" class=\"dataframe\">\n",
       "  <thead>\n",
       "    <tr style=\"text-align: right;\">\n",
       "      <th></th>\n",
       "      <th>budget</th>\n",
       "      <th>genres</th>\n",
       "      <th>homepage</th>\n",
       "      <th>id</th>\n",
       "      <th>keywords</th>\n",
       "      <th>original_language</th>\n",
       "      <th>original_title</th>\n",
       "      <th>overview</th>\n",
       "      <th>popularity</th>\n",
       "      <th>production_companies</th>\n",
       "      <th>production_countries</th>\n",
       "      <th>release_date</th>\n",
       "      <th>revenue</th>\n",
       "      <th>runtime</th>\n",
       "      <th>spoken_languages</th>\n",
       "      <th>status</th>\n",
       "      <th>tagline</th>\n",
       "      <th>title</th>\n",
       "      <th>vote_average</th>\n",
       "      <th>vote_count</th>\n",
       "    </tr>\n",
       "  </thead>\n",
       "  <tbody>\n",
       "    <tr>\n",
       "      <th>0</th>\n",
       "      <td>237000000</td>\n",
       "      <td>[{\"id\": 28, \"name\": \"Action\"}, {\"id\": 12, \"nam...</td>\n",
       "      <td>http://www.avatarmovie.com/</td>\n",
       "      <td>19995</td>\n",
       "      <td>[{\"id\": 1463, \"name\": \"culture clash\"}, {\"id\":...</td>\n",
       "      <td>en</td>\n",
       "      <td>Avatar</td>\n",
       "      <td>In the 22nd century, a paraplegic Marine is di...</td>\n",
       "      <td>150.437577</td>\n",
       "      <td>[{\"name\": \"Ingenious Film Partners\", \"id\": 289...</td>\n",
       "      <td>[{\"iso_3166_1\": \"US\", \"name\": \"United States o...</td>\n",
       "      <td>2009-12-10</td>\n",
       "      <td>2787965087</td>\n",
       "      <td>162.0</td>\n",
       "      <td>[{\"iso_639_1\": \"en\", \"name\": \"English\"}, {\"iso...</td>\n",
       "      <td>Released</td>\n",
       "      <td>Enter the World of Pandora.</td>\n",
       "      <td>Avatar</td>\n",
       "      <td>7.2</td>\n",
       "      <td>11800</td>\n",
       "    </tr>\n",
       "    <tr>\n",
       "      <th>1</th>\n",
       "      <td>300000000</td>\n",
       "      <td>[{\"id\": 12, \"name\": \"Adventure\"}, {\"id\": 14, \"...</td>\n",
       "      <td>http://disney.go.com/disneypictures/pirates/</td>\n",
       "      <td>285</td>\n",
       "      <td>[{\"id\": 270, \"name\": \"ocean\"}, {\"id\": 726, \"na...</td>\n",
       "      <td>en</td>\n",
       "      <td>Pirates of the Caribbean: At World's End</td>\n",
       "      <td>Captain Barbossa, long believed to be dead, ha...</td>\n",
       "      <td>139.082615</td>\n",
       "      <td>[{\"name\": \"Walt Disney Pictures\", \"id\": 2}, {\"...</td>\n",
       "      <td>[{\"iso_3166_1\": \"US\", \"name\": \"United States o...</td>\n",
       "      <td>2007-05-19</td>\n",
       "      <td>961000000</td>\n",
       "      <td>169.0</td>\n",
       "      <td>[{\"iso_639_1\": \"en\", \"name\": \"English\"}]</td>\n",
       "      <td>Released</td>\n",
       "      <td>At the end of the world, the adventure begins.</td>\n",
       "      <td>Pirates of the Caribbean: At World's End</td>\n",
       "      <td>6.9</td>\n",
       "      <td>4500</td>\n",
       "    </tr>\n",
       "    <tr>\n",
       "      <th>2</th>\n",
       "      <td>245000000</td>\n",
       "      <td>[{\"id\": 28, \"name\": \"Action\"}, {\"id\": 12, \"nam...</td>\n",
       "      <td>http://www.sonypictures.com/movies/spectre/</td>\n",
       "      <td>206647</td>\n",
       "      <td>[{\"id\": 470, \"name\": \"spy\"}, {\"id\": 818, \"name...</td>\n",
       "      <td>en</td>\n",
       "      <td>Spectre</td>\n",
       "      <td>A cryptic message from Bond’s past sends him o...</td>\n",
       "      <td>107.376788</td>\n",
       "      <td>[{\"name\": \"Columbia Pictures\", \"id\": 5}, {\"nam...</td>\n",
       "      <td>[{\"iso_3166_1\": \"GB\", \"name\": \"United Kingdom\"...</td>\n",
       "      <td>2015-10-26</td>\n",
       "      <td>880674609</td>\n",
       "      <td>148.0</td>\n",
       "      <td>[{\"iso_639_1\": \"fr\", \"name\": \"Fran\\u00e7ais\"},...</td>\n",
       "      <td>Released</td>\n",
       "      <td>A Plan No One Escapes</td>\n",
       "      <td>Spectre</td>\n",
       "      <td>6.3</td>\n",
       "      <td>4466</td>\n",
       "    </tr>\n",
       "    <tr>\n",
       "      <th>3</th>\n",
       "      <td>250000000</td>\n",
       "      <td>[{\"id\": 28, \"name\": \"Action\"}, {\"id\": 80, \"nam...</td>\n",
       "      <td>http://www.thedarkknightrises.com/</td>\n",
       "      <td>49026</td>\n",
       "      <td>[{\"id\": 849, \"name\": \"dc comics\"}, {\"id\": 853,...</td>\n",
       "      <td>en</td>\n",
       "      <td>The Dark Knight Rises</td>\n",
       "      <td>Following the death of District Attorney Harve...</td>\n",
       "      <td>112.312950</td>\n",
       "      <td>[{\"name\": \"Legendary Pictures\", \"id\": 923}, {\"...</td>\n",
       "      <td>[{\"iso_3166_1\": \"US\", \"name\": \"United States o...</td>\n",
       "      <td>2012-07-16</td>\n",
       "      <td>1084939099</td>\n",
       "      <td>165.0</td>\n",
       "      <td>[{\"iso_639_1\": \"en\", \"name\": \"English\"}]</td>\n",
       "      <td>Released</td>\n",
       "      <td>The Legend Ends</td>\n",
       "      <td>The Dark Knight Rises</td>\n",
       "      <td>7.6</td>\n",
       "      <td>9106</td>\n",
       "    </tr>\n",
       "    <tr>\n",
       "      <th>4</th>\n",
       "      <td>260000000</td>\n",
       "      <td>[{\"id\": 28, \"name\": \"Action\"}, {\"id\": 12, \"nam...</td>\n",
       "      <td>http://movies.disney.com/john-carter</td>\n",
       "      <td>49529</td>\n",
       "      <td>[{\"id\": 818, \"name\": \"based on novel\"}, {\"id\":...</td>\n",
       "      <td>en</td>\n",
       "      <td>John Carter</td>\n",
       "      <td>John Carter is a war-weary, former military ca...</td>\n",
       "      <td>43.926995</td>\n",
       "      <td>[{\"name\": \"Walt Disney Pictures\", \"id\": 2}]</td>\n",
       "      <td>[{\"iso_3166_1\": \"US\", \"name\": \"United States o...</td>\n",
       "      <td>2012-03-07</td>\n",
       "      <td>284139100</td>\n",
       "      <td>132.0</td>\n",
       "      <td>[{\"iso_639_1\": \"en\", \"name\": \"English\"}]</td>\n",
       "      <td>Released</td>\n",
       "      <td>Lost in our world, found in another.</td>\n",
       "      <td>John Carter</td>\n",
       "      <td>6.1</td>\n",
       "      <td>2124</td>\n",
       "    </tr>\n",
       "  </tbody>\n",
       "</table>\n",
       "</div>"
      ],
      "text/plain": [
       "      budget                                             genres  \\\n",
       "0  237000000  [{\"id\": 28, \"name\": \"Action\"}, {\"id\": 12, \"nam...   \n",
       "1  300000000  [{\"id\": 12, \"name\": \"Adventure\"}, {\"id\": 14, \"...   \n",
       "2  245000000  [{\"id\": 28, \"name\": \"Action\"}, {\"id\": 12, \"nam...   \n",
       "3  250000000  [{\"id\": 28, \"name\": \"Action\"}, {\"id\": 80, \"nam...   \n",
       "4  260000000  [{\"id\": 28, \"name\": \"Action\"}, {\"id\": 12, \"nam...   \n",
       "\n",
       "                                       homepage      id  \\\n",
       "0                   http://www.avatarmovie.com/   19995   \n",
       "1  http://disney.go.com/disneypictures/pirates/     285   \n",
       "2   http://www.sonypictures.com/movies/spectre/  206647   \n",
       "3            http://www.thedarkknightrises.com/   49026   \n",
       "4          http://movies.disney.com/john-carter   49529   \n",
       "\n",
       "                                            keywords original_language  \\\n",
       "0  [{\"id\": 1463, \"name\": \"culture clash\"}, {\"id\":...                en   \n",
       "1  [{\"id\": 270, \"name\": \"ocean\"}, {\"id\": 726, \"na...                en   \n",
       "2  [{\"id\": 470, \"name\": \"spy\"}, {\"id\": 818, \"name...                en   \n",
       "3  [{\"id\": 849, \"name\": \"dc comics\"}, {\"id\": 853,...                en   \n",
       "4  [{\"id\": 818, \"name\": \"based on novel\"}, {\"id\":...                en   \n",
       "\n",
       "                             original_title  \\\n",
       "0                                    Avatar   \n",
       "1  Pirates of the Caribbean: At World's End   \n",
       "2                                   Spectre   \n",
       "3                     The Dark Knight Rises   \n",
       "4                               John Carter   \n",
       "\n",
       "                                            overview  popularity  \\\n",
       "0  In the 22nd century, a paraplegic Marine is di...  150.437577   \n",
       "1  Captain Barbossa, long believed to be dead, ha...  139.082615   \n",
       "2  A cryptic message from Bond’s past sends him o...  107.376788   \n",
       "3  Following the death of District Attorney Harve...  112.312950   \n",
       "4  John Carter is a war-weary, former military ca...   43.926995   \n",
       "\n",
       "                                production_companies  \\\n",
       "0  [{\"name\": \"Ingenious Film Partners\", \"id\": 289...   \n",
       "1  [{\"name\": \"Walt Disney Pictures\", \"id\": 2}, {\"...   \n",
       "2  [{\"name\": \"Columbia Pictures\", \"id\": 5}, {\"nam...   \n",
       "3  [{\"name\": \"Legendary Pictures\", \"id\": 923}, {\"...   \n",
       "4        [{\"name\": \"Walt Disney Pictures\", \"id\": 2}]   \n",
       "\n",
       "                                production_countries release_date     revenue  \\\n",
       "0  [{\"iso_3166_1\": \"US\", \"name\": \"United States o...   2009-12-10  2787965087   \n",
       "1  [{\"iso_3166_1\": \"US\", \"name\": \"United States o...   2007-05-19   961000000   \n",
       "2  [{\"iso_3166_1\": \"GB\", \"name\": \"United Kingdom\"...   2015-10-26   880674609   \n",
       "3  [{\"iso_3166_1\": \"US\", \"name\": \"United States o...   2012-07-16  1084939099   \n",
       "4  [{\"iso_3166_1\": \"US\", \"name\": \"United States o...   2012-03-07   284139100   \n",
       "\n",
       "   runtime                                   spoken_languages    status  \\\n",
       "0    162.0  [{\"iso_639_1\": \"en\", \"name\": \"English\"}, {\"iso...  Released   \n",
       "1    169.0           [{\"iso_639_1\": \"en\", \"name\": \"English\"}]  Released   \n",
       "2    148.0  [{\"iso_639_1\": \"fr\", \"name\": \"Fran\\u00e7ais\"},...  Released   \n",
       "3    165.0           [{\"iso_639_1\": \"en\", \"name\": \"English\"}]  Released   \n",
       "4    132.0           [{\"iso_639_1\": \"en\", \"name\": \"English\"}]  Released   \n",
       "\n",
       "                                          tagline  \\\n",
       "0                     Enter the World of Pandora.   \n",
       "1  At the end of the world, the adventure begins.   \n",
       "2                           A Plan No One Escapes   \n",
       "3                                 The Legend Ends   \n",
       "4            Lost in our world, found in another.   \n",
       "\n",
       "                                      title  vote_average  vote_count  \n",
       "0                                    Avatar           7.2       11800  \n",
       "1  Pirates of the Caribbean: At World's End           6.9        4500  \n",
       "2                                   Spectre           6.3        4466  \n",
       "3                     The Dark Knight Rises           7.6        9106  \n",
       "4                               John Carter           6.1        2124  "
      ]
     },
     "execution_count": 2,
     "metadata": {},
     "output_type": "execute_result"
    }
   ],
   "source": [
    "tmdb = pd.read_csv('aula0/tmdb_5000_movies.csv')\n",
    "tmdb.head()"
   ]
  },
  {
   "cell_type": "code",
   "execution_count": 3,
   "id": "c1c62839-fb38-456a-a022-a39116f12a83",
   "metadata": {},
   "outputs": [
    {
     "data": {
      "text/plain": [
       "(4803, 20)"
      ]
     },
     "execution_count": 3,
     "metadata": {},
     "output_type": "execute_result"
    }
   ],
   "source": [
    "tmdb.shape"
   ]
  },
  {
   "cell_type": "markdown",
   "id": "d7a577e6-5114-4103-804a-7f9e11bcf439",
   "metadata": {},
   "source": [
    "## Estatística descritiva dos dados"
   ]
  },
  {
   "cell_type": "code",
   "execution_count": 4,
   "id": "58560473-4b19-4dc9-bd61-c369bc558e4c",
   "metadata": {},
   "outputs": [
    {
     "data": {
      "text/html": [
       "<div>\n",
       "<style scoped>\n",
       "    .dataframe tbody tr th:only-of-type {\n",
       "        vertical-align: middle;\n",
       "    }\n",
       "\n",
       "    .dataframe tbody tr th {\n",
       "        vertical-align: top;\n",
       "    }\n",
       "\n",
       "    .dataframe thead th {\n",
       "        text-align: right;\n",
       "    }\n",
       "</style>\n",
       "<table border=\"1\" class=\"dataframe\">\n",
       "  <thead>\n",
       "    <tr style=\"text-align: right;\">\n",
       "      <th></th>\n",
       "      <th>budget</th>\n",
       "      <th>id</th>\n",
       "      <th>popularity</th>\n",
       "      <th>revenue</th>\n",
       "      <th>runtime</th>\n",
       "      <th>vote_average</th>\n",
       "      <th>vote_count</th>\n",
       "    </tr>\n",
       "  </thead>\n",
       "  <tbody>\n",
       "    <tr>\n",
       "      <th>count</th>\n",
       "      <td>4.803000e+03</td>\n",
       "      <td>4803.00</td>\n",
       "      <td>4803.00</td>\n",
       "      <td>4.803000e+03</td>\n",
       "      <td>4801.00</td>\n",
       "      <td>4803.00</td>\n",
       "      <td>4803.00</td>\n",
       "    </tr>\n",
       "    <tr>\n",
       "      <th>mean</th>\n",
       "      <td>2.904504e+07</td>\n",
       "      <td>57165.48</td>\n",
       "      <td>21.49</td>\n",
       "      <td>8.226064e+07</td>\n",
       "      <td>106.88</td>\n",
       "      <td>6.09</td>\n",
       "      <td>690.22</td>\n",
       "    </tr>\n",
       "    <tr>\n",
       "      <th>std</th>\n",
       "      <td>4.072239e+07</td>\n",
       "      <td>88694.61</td>\n",
       "      <td>31.82</td>\n",
       "      <td>1.628571e+08</td>\n",
       "      <td>22.61</td>\n",
       "      <td>1.19</td>\n",
       "      <td>1234.59</td>\n",
       "    </tr>\n",
       "    <tr>\n",
       "      <th>min</th>\n",
       "      <td>0.000000e+00</td>\n",
       "      <td>5.00</td>\n",
       "      <td>0.00</td>\n",
       "      <td>0.000000e+00</td>\n",
       "      <td>0.00</td>\n",
       "      <td>0.00</td>\n",
       "      <td>0.00</td>\n",
       "    </tr>\n",
       "    <tr>\n",
       "      <th>25%</th>\n",
       "      <td>7.900000e+05</td>\n",
       "      <td>9014.50</td>\n",
       "      <td>4.67</td>\n",
       "      <td>0.000000e+00</td>\n",
       "      <td>94.00</td>\n",
       "      <td>5.60</td>\n",
       "      <td>54.00</td>\n",
       "    </tr>\n",
       "    <tr>\n",
       "      <th>50%</th>\n",
       "      <td>1.500000e+07</td>\n",
       "      <td>14629.00</td>\n",
       "      <td>12.92</td>\n",
       "      <td>1.917000e+07</td>\n",
       "      <td>103.00</td>\n",
       "      <td>6.20</td>\n",
       "      <td>235.00</td>\n",
       "    </tr>\n",
       "    <tr>\n",
       "      <th>75%</th>\n",
       "      <td>4.000000e+07</td>\n",
       "      <td>58610.50</td>\n",
       "      <td>28.31</td>\n",
       "      <td>9.291719e+07</td>\n",
       "      <td>118.00</td>\n",
       "      <td>6.80</td>\n",
       "      <td>737.00</td>\n",
       "    </tr>\n",
       "    <tr>\n",
       "      <th>max</th>\n",
       "      <td>3.800000e+08</td>\n",
       "      <td>459488.00</td>\n",
       "      <td>875.58</td>\n",
       "      <td>2.787965e+09</td>\n",
       "      <td>338.00</td>\n",
       "      <td>10.00</td>\n",
       "      <td>13752.00</td>\n",
       "    </tr>\n",
       "  </tbody>\n",
       "</table>\n",
       "</div>"
      ],
      "text/plain": [
       "             budget         id  popularity       revenue  runtime  \\\n",
       "count  4.803000e+03    4803.00     4803.00  4.803000e+03  4801.00   \n",
       "mean   2.904504e+07   57165.48       21.49  8.226064e+07   106.88   \n",
       "std    4.072239e+07   88694.61       31.82  1.628571e+08    22.61   \n",
       "min    0.000000e+00       5.00        0.00  0.000000e+00     0.00   \n",
       "25%    7.900000e+05    9014.50        4.67  0.000000e+00    94.00   \n",
       "50%    1.500000e+07   14629.00       12.92  1.917000e+07   103.00   \n",
       "75%    4.000000e+07   58610.50       28.31  9.291719e+07   118.00   \n",
       "max    3.800000e+08  459488.00      875.58  2.787965e+09   338.00   \n",
       "\n",
       "       vote_average  vote_count  \n",
       "count       4803.00     4803.00  \n",
       "mean           6.09      690.22  \n",
       "std            1.19     1234.59  \n",
       "min            0.00        0.00  \n",
       "25%            5.60       54.00  \n",
       "50%            6.20      235.00  \n",
       "75%            6.80      737.00  \n",
       "max           10.00    13752.00  "
      ]
     },
     "execution_count": 4,
     "metadata": {},
     "output_type": "execute_result"
    }
   ],
   "source": [
    "tmdb.describe().round(2)"
   ]
  },
  {
   "cell_type": "markdown",
   "id": "421c8010-c164-4a6f-8e7a-b07a7b4b7a5c",
   "metadata": {},
   "source": [
    "## Distribuição de Frequência (Histograma)"
   ]
  },
  {
   "cell_type": "code",
   "execution_count": 5,
   "id": "887f78c6-e54b-4f9e-a5a0-27fc824d1148",
   "metadata": {},
   "outputs": [
    {
     "name": "stderr",
     "output_type": "stream",
     "text": [
      "C:\\Users\\COMISSARIADO\\anaconda3\\lib\\site-packages\\seaborn\\distributions.py:2619: FutureWarning: `distplot` is a deprecated function and will be removed in a future version. Please adapt your code to use either `displot` (a figure-level function with similar flexibility) or `histplot` (an axes-level function for histograms).\n",
      "  warnings.warn(msg, FutureWarning)\n"
     ]
    },
    {
     "data": {
      "text/plain": [
       "Text(0.5, 1.0, 'Média de votos em filmes no TMBD 5000')"
      ]
     },
     "execution_count": 5,
     "metadata": {},
     "output_type": "execute_result"
    },
    {
     "data": {
      "image/png": "[encoded data removed]",
      "text/plain": [
       "<Figure size 864x648 with 1 Axes>"
      ]
     },
     "metadata": {
      "needs_background": "light"
     },
     "output_type": "display_data"
    }
   ],
   "source": [
    "plt.figure(figsize = (12,9))\n",
    "ax = sns.distplot(tmdb['vote_average'])\n",
    "ax.set(xlabel='Nota média', ylabel='Densidade')\n",
    "ax.set_title('Média de votos em filmes no TMBD 5000')"
   ]
  },
  {
   "cell_type": "code",
   "execution_count": 6,
   "id": "f54f7b08-c73e-4547-b37c-b3e740c7070e",
   "metadata": {},
   "outputs": [
    {
     "name": "stderr",
     "output_type": "stream",
     "text": [
      "C:\\Users\\COMISSARIADO\\anaconda3\\lib\\site-packages\\seaborn\\distributions.py:2619: FutureWarning: `distplot` is a deprecated function and will be removed in a future version. Please adapt your code to use either `displot` (a figure-level function with similar flexibility) or `histplot` (an axes-level function for histograms).\n",
      "  warnings.warn(msg, FutureWarning)\n"
     ]
    },
    {
     "data": {
      "text/plain": [
       "[Text(0, 0.5, 'Frequência')]"
      ]
     },
     "execution_count": 6,
     "metadata": {},
     "output_type": "execute_result"
    },
    {
     "data": {
      "image/png": "[encoded data removed]",
      "text/plain": [
       "<Figure size 864x648 with 1 Axes>"
      ]
     },
     "metadata": {
      "needs_background": "light"
     },
     "output_type": "display_data"
    }
   ],
   "source": [
    "plt.figure(figsize = (12,9))\n",
    "ax = sns.distplot(tmdb['vote_average'], norm_hist=False, kde=False) # se kde=True, sempre é normalizado\n",
    "ax.set(xlabel='Nota Média')\n",
    "ax.set(ylabel='Frequência')"
   ]
  },
  {
   "cell_type": "markdown",
   "id": "5a97318b-7b1f-4484-a27d-dbd32283a5af",
   "metadata": {},
   "source": [
    "## Box-Plot"
   ]
  },
  {
   "cell_type": "code",
   "execution_count": 7,
   "id": "c09cbaa9-d2b6-44e3-9061-fcc5337e1d46",
   "metadata": {},
   "outputs": [
    {
     "name": "stderr",
     "output_type": "stream",
     "text": [
      "C:\\Users\\COMISSARIADO\\anaconda3\\lib\\site-packages\\seaborn\\_decorators.py:36: FutureWarning: Pass the following variable as a keyword arg: x. From version 0.12, the only valid positional argument will be `data`, and passing other arguments without an explicit keyword will result in an error or misinterpretation.\n",
      "  warnings.warn(\n"
     ]
    },
    {
     "data": {
      "text/plain": [
       "Text(0.5, 1.0, 'Distribuição de nota média dos filmes do TMDB 5000')"
      ]
     },
     "execution_count": 7,
     "metadata": {},
     "output_type": "execute_result"
    },
    {
     "data": {
      "image/png": "[encoded data removed]",
      "text/plain": [
       "<Figure size 864x648 with 1 Axes>"
      ]
     },
     "metadata": {
      "needs_background": "light"
     },
     "output_type": "display_data"
    }
   ],
   "source": [
    "plt.figure(figsize = (12,9))\n",
    "ax = sns.boxplot(tmdb.vote_average)\n",
    "ax.set(xlabel='Nota  média do filme')\n",
    "ax.set_title('Distribuição de nota média dos filmes do TMDB 5000')"
   ]
  },
  {
   "cell_type": "markdown",
   "id": "17af810c-38b4-4313-af72-df79041a6825",
   "metadata": {},
   "source": [
    "### Tem algo estranho... não faz sentido filmes com nota média sendo zero"
   ]
  },
  {
   "cell_type": "code",
   "execution_count": 8,
   "id": "2e45b3b7-9597-4a94-b89f-bfbad29b7aaa",
   "metadata": {},
   "outputs": [
    {
     "data": {
      "text/plain": [
       "0.0     63\n",
       "0.5      1\n",
       "1.0      2\n",
       "1.9      1\n",
       "2.0      6\n",
       "        ..\n",
       "8.4      2\n",
       "8.5      2\n",
       "9.3      1\n",
       "9.5      1\n",
       "10.0     4\n",
       "Name: vote_average, Length: 71, dtype: int64"
      ]
     },
     "execution_count": 8,
     "metadata": {},
     "output_type": "execute_result"
    }
   ],
   "source": [
    "frequencia_notas = tmdb['vote_average'].value_counts().sort_index()\n",
    "frequencia_notas"
   ]
  },
  {
   "cell_type": "code",
   "execution_count": 9,
   "id": "f727686c-428e-4ec2-9cac-8479402fe977",
   "metadata": {},
   "outputs": [
    {
     "data": {
      "text/html": [
       "<div>\n",
       "<style scoped>\n",
       "    .dataframe tbody tr th:only-of-type {\n",
       "        vertical-align: middle;\n",
       "    }\n",
       "\n",
       "    .dataframe tbody tr th {\n",
       "        vertical-align: top;\n",
       "    }\n",
       "\n",
       "    .dataframe thead th {\n",
       "        text-align: right;\n",
       "    }\n",
       "</style>\n",
       "<table border=\"1\" class=\"dataframe\">\n",
       "  <thead>\n",
       "    <tr style=\"text-align: right;\">\n",
       "      <th></th>\n",
       "      <th>budget</th>\n",
       "      <th>genres</th>\n",
       "      <th>homepage</th>\n",
       "      <th>id</th>\n",
       "      <th>keywords</th>\n",
       "      <th>original_language</th>\n",
       "      <th>original_title</th>\n",
       "      <th>overview</th>\n",
       "      <th>popularity</th>\n",
       "      <th>production_companies</th>\n",
       "      <th>production_countries</th>\n",
       "      <th>release_date</th>\n",
       "      <th>revenue</th>\n",
       "      <th>runtime</th>\n",
       "      <th>spoken_languages</th>\n",
       "      <th>status</th>\n",
       "      <th>tagline</th>\n",
       "      <th>title</th>\n",
       "      <th>vote_average</th>\n",
       "      <th>vote_count</th>\n",
       "    </tr>\n",
       "  </thead>\n",
       "  <tbody>\n",
       "    <tr>\n",
       "      <th>1464</th>\n",
       "      <td>0</td>\n",
       "      <td>[{\"id\": 18, \"name\": \"Drama\"}, {\"id\": 80, \"name...</td>\n",
       "      <td>NaN</td>\n",
       "      <td>310706</td>\n",
       "      <td>[]</td>\n",
       "      <td>en</td>\n",
       "      <td>Black Water Transit</td>\n",
       "      <td>In this action thriller set in post-Katrina Ne...</td>\n",
       "      <td>0.126738</td>\n",
       "      <td>[{\"name\": \"Capitol Films\", \"id\": 826}]</td>\n",
       "      <td>[{\"iso_3166_1\": \"US\", \"name\": \"United States o...</td>\n",
       "      <td>2009-05-13</td>\n",
       "      <td>0</td>\n",
       "      <td>100.0</td>\n",
       "      <td>[{\"iso_639_1\": \"en\", \"name\": \"English\"}]</td>\n",
       "      <td>Released</td>\n",
       "      <td>NaN</td>\n",
       "      <td>Black Water Transit</td>\n",
       "      <td>0.0</td>\n",
       "      <td>0</td>\n",
       "    </tr>\n",
       "    <tr>\n",
       "      <th>3669</th>\n",
       "      <td>0</td>\n",
       "      <td>[{\"id\": 35, \"name\": \"Comedy\"}, {\"id\": 18, \"nam...</td>\n",
       "      <td>http://www.romeothemovie.com/</td>\n",
       "      <td>113406</td>\n",
       "      <td>[]</td>\n",
       "      <td>en</td>\n",
       "      <td>Should've Been Romeo</td>\n",
       "      <td>A self-centered, middle-aged pitchman for a po...</td>\n",
       "      <td>0.407030</td>\n",
       "      <td>[{\"name\": \"Phillybrook Films\", \"id\": 65147}]</td>\n",
       "      <td>[{\"iso_3166_1\": \"US\", \"name\": \"United States o...</td>\n",
       "      <td>2012-04-28</td>\n",
       "      <td>0</td>\n",
       "      <td>0.0</td>\n",
       "      <td>[{\"iso_639_1\": \"en\", \"name\": \"English\"}]</td>\n",
       "      <td>Released</td>\n",
       "      <td>Even Shakespeare didn't see this one coming.</td>\n",
       "      <td>Should've Been Romeo</td>\n",
       "      <td>0.0</td>\n",
       "      <td>0</td>\n",
       "    </tr>\n",
       "    <tr>\n",
       "      <th>3670</th>\n",
       "      <td>0</td>\n",
       "      <td>[{\"id\": 10751, \"name\": \"Family\"}]</td>\n",
       "      <td>NaN</td>\n",
       "      <td>447027</td>\n",
       "      <td>[]</td>\n",
       "      <td>en</td>\n",
       "      <td>Running Forever</td>\n",
       "      <td>After being estranged since her mother's death...</td>\n",
       "      <td>0.028756</td>\n",
       "      <td>[{\"name\": \"New Kingdom Pictures\", \"id\": 41671}]</td>\n",
       "      <td>[{\"iso_3166_1\": \"US\", \"name\": \"United States o...</td>\n",
       "      <td>2015-10-27</td>\n",
       "      <td>0</td>\n",
       "      <td>88.0</td>\n",
       "      <td>[]</td>\n",
       "      <td>Released</td>\n",
       "      <td>NaN</td>\n",
       "      <td>Running Forever</td>\n",
       "      <td>0.0</td>\n",
       "      <td>0</td>\n",
       "    </tr>\n",
       "    <tr>\n",
       "      <th>3852</th>\n",
       "      <td>0</td>\n",
       "      <td>[{\"id\": 18, \"name\": \"Drama\"}]</td>\n",
       "      <td>NaN</td>\n",
       "      <td>395766</td>\n",
       "      <td>[{\"id\": 11162, \"name\": \"miniseries\"}]</td>\n",
       "      <td>en</td>\n",
       "      <td>The Secret</td>\n",
       "      <td>The Secret is the story of a real-life double ...</td>\n",
       "      <td>0.042346</td>\n",
       "      <td>[]</td>\n",
       "      <td>[]</td>\n",
       "      <td>2016-04-29</td>\n",
       "      <td>0</td>\n",
       "      <td>200.0</td>\n",
       "      <td>[]</td>\n",
       "      <td>Released</td>\n",
       "      <td>NaN</td>\n",
       "      <td>The Secret</td>\n",
       "      <td>0.0</td>\n",
       "      <td>0</td>\n",
       "    </tr>\n",
       "    <tr>\n",
       "      <th>3855</th>\n",
       "      <td>3500000</td>\n",
       "      <td>[{\"id\": 99, \"name\": \"Documentary\"}]</td>\n",
       "      <td>http://www.timetochoose.com</td>\n",
       "      <td>370662</td>\n",
       "      <td>[{\"id\": 2210, \"name\": \"climate change\"}, {\"id\"...</td>\n",
       "      <td>en</td>\n",
       "      <td>Time to Choose</td>\n",
       "      <td>Academy Award® winning director Charles Fergus...</td>\n",
       "      <td>1.618138</td>\n",
       "      <td>[{\"name\": \"Representational Pictures\", \"id\": 8...</td>\n",
       "      <td>[{\"iso_3166_1\": \"US\", \"name\": \"United States o...</td>\n",
       "      <td>2015-09-04</td>\n",
       "      <td>0</td>\n",
       "      <td>100.0</td>\n",
       "      <td>[{\"iso_639_1\": \"en\", \"name\": \"English\"}]</td>\n",
       "      <td>Released</td>\n",
       "      <td>Climate change for good.</td>\n",
       "      <td>Time to Choose</td>\n",
       "      <td>0.0</td>\n",
       "      <td>0</td>\n",
       "    </tr>\n",
       "    <tr>\n",
       "      <th>...</th>\n",
       "      <td>...</td>\n",
       "      <td>...</td>\n",
       "      <td>...</td>\n",
       "      <td>...</td>\n",
       "      <td>...</td>\n",
       "      <td>...</td>\n",
       "      <td>...</td>\n",
       "      <td>...</td>\n",
       "      <td>...</td>\n",
       "      <td>...</td>\n",
       "      <td>...</td>\n",
       "      <td>...</td>\n",
       "      <td>...</td>\n",
       "      <td>...</td>\n",
       "      <td>...</td>\n",
       "      <td>...</td>\n",
       "      <td>...</td>\n",
       "      <td>...</td>\n",
       "      <td>...</td>\n",
       "      <td>...</td>\n",
       "    </tr>\n",
       "    <tr>\n",
       "      <th>4769</th>\n",
       "      <td>0</td>\n",
       "      <td>[{\"id\": 28, \"name\": \"Action\"}, {\"id\": 37, \"nam...</td>\n",
       "      <td>NaN</td>\n",
       "      <td>69382</td>\n",
       "      <td>[]</td>\n",
       "      <td>en</td>\n",
       "      <td>The Legend of God's Gun</td>\n",
       "      <td>A gun-slinging preacher returns to the debauch...</td>\n",
       "      <td>0.003582</td>\n",
       "      <td>[]</td>\n",
       "      <td>[]</td>\n",
       "      <td>2007-07-08</td>\n",
       "      <td>0</td>\n",
       "      <td>78.0</td>\n",
       "      <td>[]</td>\n",
       "      <td>Released</td>\n",
       "      <td>NaN</td>\n",
       "      <td>The Legend of God's Gun</td>\n",
       "      <td>0.0</td>\n",
       "      <td>0</td>\n",
       "    </tr>\n",
       "    <tr>\n",
       "      <th>4771</th>\n",
       "      <td>0</td>\n",
       "      <td>[{\"id\": 27, \"name\": \"Horror\"}]</td>\n",
       "      <td>NaN</td>\n",
       "      <td>220490</td>\n",
       "      <td>[]</td>\n",
       "      <td>en</td>\n",
       "      <td>Her Cry: La Llorona Investigation</td>\n",
       "      <td>Crew of \"Paranormal Legends\" went to film thei...</td>\n",
       "      <td>0.056459</td>\n",
       "      <td>[]</td>\n",
       "      <td>[]</td>\n",
       "      <td>2013-04-19</td>\n",
       "      <td>0</td>\n",
       "      <td>89.0</td>\n",
       "      <td>[]</td>\n",
       "      <td>Released</td>\n",
       "      <td>NaN</td>\n",
       "      <td>Her Cry: La Llorona Investigation</td>\n",
       "      <td>0.0</td>\n",
       "      <td>0</td>\n",
       "    </tr>\n",
       "    <tr>\n",
       "      <th>4780</th>\n",
       "      <td>0</td>\n",
       "      <td>[{\"id\": 53, \"name\": \"Thriller\"}, {\"id\": 80, \"n...</td>\n",
       "      <td>NaN</td>\n",
       "      <td>366967</td>\n",
       "      <td>[]</td>\n",
       "      <td>en</td>\n",
       "      <td>Dutch Kills</td>\n",
       "      <td>A desperate ex-con is forced to gather his old...</td>\n",
       "      <td>0.038143</td>\n",
       "      <td>[]</td>\n",
       "      <td>[]</td>\n",
       "      <td>2015-10-02</td>\n",
       "      <td>0</td>\n",
       "      <td>90.0</td>\n",
       "      <td>[]</td>\n",
       "      <td>Released</td>\n",
       "      <td>NaN</td>\n",
       "      <td>Dutch Kills</td>\n",
       "      <td>0.0</td>\n",
       "      <td>0</td>\n",
       "    </tr>\n",
       "    <tr>\n",
       "      <th>4785</th>\n",
       "      <td>0</td>\n",
       "      <td>[{\"id\": 18, \"name\": \"Drama\"}]</td>\n",
       "      <td>NaN</td>\n",
       "      <td>287625</td>\n",
       "      <td>[]</td>\n",
       "      <td>en</td>\n",
       "      <td>Stories of Our Lives</td>\n",
       "      <td>Created by the members of a Nairobi-based arts...</td>\n",
       "      <td>0.327794</td>\n",
       "      <td>[]</td>\n",
       "      <td>[{\"iso_3166_1\": \"KE\", \"name\": \"Kenya\"}]</td>\n",
       "      <td>2014-09-05</td>\n",
       "      <td>0</td>\n",
       "      <td>60.0</td>\n",
       "      <td>[{\"iso_639_1\": \"sw\", \"name\": \"Kiswahili\"}, {\"i...</td>\n",
       "      <td>Released</td>\n",
       "      <td>NaN</td>\n",
       "      <td>Stories of Our Lives</td>\n",
       "      <td>0.0</td>\n",
       "      <td>0</td>\n",
       "    </tr>\n",
       "    <tr>\n",
       "      <th>4794</th>\n",
       "      <td>0</td>\n",
       "      <td>[{\"id\": 53, \"name\": \"Thriller\"}, {\"id\": 27, \"n...</td>\n",
       "      <td>NaN</td>\n",
       "      <td>286939</td>\n",
       "      <td>[]</td>\n",
       "      <td>en</td>\n",
       "      <td>Sanctuary: Quite a Conundrum</td>\n",
       "      <td>It should have been just a normal day of sex, ...</td>\n",
       "      <td>0.166513</td>\n",
       "      <td>[{\"name\": \"Gold Lion Films\", \"id\": 37870}, {\"n...</td>\n",
       "      <td>[{\"iso_3166_1\": \"US\", \"name\": \"United States o...</td>\n",
       "      <td>2012-01-20</td>\n",
       "      <td>0</td>\n",
       "      <td>82.0</td>\n",
       "      <td>[{\"iso_639_1\": \"en\", \"name\": \"English\"}]</td>\n",
       "      <td>Released</td>\n",
       "      <td>NaN</td>\n",
       "      <td>Sanctuary: Quite a Conundrum</td>\n",
       "      <td>0.0</td>\n",
       "      <td>0</td>\n",
       "    </tr>\n",
       "  </tbody>\n",
       "</table>\n",
       "<p>63 rows × 20 columns</p>\n",
       "</div>"
      ],
      "text/plain": [
       "       budget                                             genres  \\\n",
       "1464        0  [{\"id\": 18, \"name\": \"Drama\"}, {\"id\": 80, \"name...   \n",
       "3669        0  [{\"id\": 35, \"name\": \"Comedy\"}, {\"id\": 18, \"nam...   \n",
       "3670        0                  [{\"id\": 10751, \"name\": \"Family\"}]   \n",
       "3852        0                      [{\"id\": 18, \"name\": \"Drama\"}]   \n",
       "3855  3500000                [{\"id\": 99, \"name\": \"Documentary\"}]   \n",
       "...       ...                                                ...   \n",
       "4769        0  [{\"id\": 28, \"name\": \"Action\"}, {\"id\": 37, \"nam...   \n",
       "4771        0                     [{\"id\": 27, \"name\": \"Horror\"}]   \n",
       "4780        0  [{\"id\": 53, \"name\": \"Thriller\"}, {\"id\": 80, \"n...   \n",
       "4785        0                      [{\"id\": 18, \"name\": \"Drama\"}]   \n",
       "4794        0  [{\"id\": 53, \"name\": \"Thriller\"}, {\"id\": 27, \"n...   \n",
       "\n",
       "                           homepage      id  \\\n",
       "1464                            NaN  310706   \n",
       "3669  http://www.romeothemovie.com/  113406   \n",
       "3670                            NaN  447027   \n",
       "3852                            NaN  395766   \n",
       "3855    http://www.timetochoose.com  370662   \n",
       "...                             ...     ...   \n",
       "4769                            NaN   69382   \n",
       "4771                            NaN  220490   \n",
       "4780                            NaN  366967   \n",
       "4785                            NaN  287625   \n",
       "4794                            NaN  286939   \n",
       "\n",
       "                                               keywords original_language  \\\n",
       "1464                                                 []                en   \n",
       "3669                                                 []                en   \n",
       "3670                                                 []                en   \n",
       "3852              [{\"id\": 11162, \"name\": \"miniseries\"}]                en   \n",
       "3855  [{\"id\": 2210, \"name\": \"climate change\"}, {\"id\"...                en   \n",
       "...                                                 ...               ...   \n",
       "4769                                                 []                en   \n",
       "4771                                                 []                en   \n",
       "4780                                                 []                en   \n",
       "4785                                                 []                en   \n",
       "4794                                                 []                en   \n",
       "\n",
       "                         original_title  \\\n",
       "1464                Black Water Transit   \n",
       "3669               Should've Been Romeo   \n",
       "3670                    Running Forever   \n",
       "3852                         The Secret   \n",
       "3855                     Time to Choose   \n",
       "...                                 ...   \n",
       "4769            The Legend of God's Gun   \n",
       "4771  Her Cry: La Llorona Investigation   \n",
       "4780                        Dutch Kills   \n",
       "4785               Stories of Our Lives   \n",
       "4794       Sanctuary: Quite a Conundrum   \n",
       "\n",
       "                                               overview  popularity  \\\n",
       "1464  In this action thriller set in post-Katrina Ne...    0.126738   \n",
       "3669  A self-centered, middle-aged pitchman for a po...    0.407030   \n",
       "3670  After being estranged since her mother's death...    0.028756   \n",
       "3852  The Secret is the story of a real-life double ...    0.042346   \n",
       "3855  Academy Award® winning director Charles Fergus...    1.618138   \n",
       "...                                                 ...         ...   \n",
       "4769  A gun-slinging preacher returns to the debauch...    0.003582   \n",
       "4771  Crew of \"Paranormal Legends\" went to film thei...    0.056459   \n",
       "4780  A desperate ex-con is forced to gather his old...    0.038143   \n",
       "4785  Created by the members of a Nairobi-based arts...    0.327794   \n",
       "4794  It should have been just a normal day of sex, ...    0.166513   \n",
       "\n",
       "                                   production_companies  \\\n",
       "1464             [{\"name\": \"Capitol Films\", \"id\": 826}]   \n",
       "3669       [{\"name\": \"Phillybrook Films\", \"id\": 65147}]   \n",
       "3670    [{\"name\": \"New Kingdom Pictures\", \"id\": 41671}]   \n",
       "3852                                                 []   \n",
       "3855  [{\"name\": \"Representational Pictures\", \"id\": 8...   \n",
       "...                                                 ...   \n",
       "4769                                                 []   \n",
       "4771                                                 []   \n",
       "4780                                                 []   \n",
       "4785                                                 []   \n",
       "4794  [{\"name\": \"Gold Lion Films\", \"id\": 37870}, {\"n...   \n",
       "\n",
       "                                   production_countries release_date  revenue  \\\n",
       "1464  [{\"iso_3166_1\": \"US\", \"name\": \"United States o...   2009-05-13        0   \n",
       "3669  [{\"iso_3166_1\": \"US\", \"name\": \"United States o...   2012-04-28        0   \n",
       "3670  [{\"iso_3166_1\": \"US\", \"name\": \"United States o...   2015-10-27        0   \n",
       "3852                                                 []   2016-04-29        0   \n",
       "3855  [{\"iso_3166_1\": \"US\", \"name\": \"United States o...   2015-09-04        0   \n",
       "...                                                 ...          ...      ...   \n",
       "4769                                                 []   2007-07-08        0   \n",
       "4771                                                 []   2013-04-19        0   \n",
       "4780                                                 []   2015-10-02        0   \n",
       "4785            [{\"iso_3166_1\": \"KE\", \"name\": \"Kenya\"}]   2014-09-05        0   \n",
       "4794  [{\"iso_3166_1\": \"US\", \"name\": \"United States o...   2012-01-20        0   \n",
       "\n",
       "      runtime                                   spoken_languages    status  \\\n",
       "1464    100.0           [{\"iso_639_1\": \"en\", \"name\": \"English\"}]  Released   \n",
       "3669      0.0           [{\"iso_639_1\": \"en\", \"name\": \"English\"}]  Released   \n",
       "3670     88.0                                                 []  Released   \n",
       "3852    200.0                                                 []  Released   \n",
       "3855    100.0           [{\"iso_639_1\": \"en\", \"name\": \"English\"}]  Released   \n",
       "...       ...                                                ...       ...   \n",
       "4769     78.0                                                 []  Released   \n",
       "4771     89.0                                                 []  Released   \n",
       "4780     90.0                                                 []  Released   \n",
       "4785     60.0  [{\"iso_639_1\": \"sw\", \"name\": \"Kiswahili\"}, {\"i...  Released   \n",
       "4794     82.0           [{\"iso_639_1\": \"en\", \"name\": \"English\"}]  Released   \n",
       "\n",
       "                                           tagline  \\\n",
       "1464                                           NaN   \n",
       "3669  Even Shakespeare didn't see this one coming.   \n",
       "3670                                           NaN   \n",
       "3852                                           NaN   \n",
       "3855                      Climate change for good.   \n",
       "...                                            ...   \n",
       "4769                                           NaN   \n",
       "4771                                           NaN   \n",
       "4780                                           NaN   \n",
       "4785                                           NaN   \n",
       "4794                                           NaN   \n",
       "\n",
       "                                  title  vote_average  vote_count  \n",
       "1464                Black Water Transit           0.0           0  \n",
       "3669               Should've Been Romeo           0.0           0  \n",
       "3670                    Running Forever           0.0           0  \n",
       "3852                         The Secret           0.0           0  \n",
       "3855                     Time to Choose           0.0           0  \n",
       "...                                 ...           ...         ...  \n",
       "4769            The Legend of God's Gun           0.0           0  \n",
       "4771  Her Cry: La Llorona Investigation           0.0           0  \n",
       "4780                        Dutch Kills           0.0           0  \n",
       "4785               Stories of Our Lives           0.0           0  \n",
       "4794       Sanctuary: Quite a Conundrum           0.0           0  \n",
       "\n",
       "[63 rows x 20 columns]"
      ]
     },
     "execution_count": 9,
     "metadata": {},
     "output_type": "execute_result"
    }
   ],
   "source": [
    "#os filmes com value_average=0  não receberam votos. então, devem ser tratados\n",
    "tmdb.query('vote_average==0')"
   ]
  },
  {
   "cell_type": "markdown",
   "id": "e23ef204-045c-42dd-a5f9-680a47561d7a",
   "metadata": {},
   "source": [
    "### Tratando dados: retirando filmes com vote_count < 10"
   ]
  },
  {
   "cell_type": "code",
   "execution_count": 10,
   "id": "dffa533b-110e-408b-961b-1c96ceb8c85c",
   "metadata": {},
   "outputs": [
    {
     "data": {
      "text/plain": [
       "(4392, 20)"
      ]
     },
     "execution_count": 10,
     "metadata": {},
     "output_type": "execute_result"
    }
   ],
   "source": [
    "tmdb_tratado = tmdb.query('vote_count>=10')\n",
    "tmdb_tratado.shape"
   ]
  },
  {
   "cell_type": "code",
   "execution_count": 11,
   "id": "97ca1d00-9e99-4f4d-a875-49e5be6cdae6",
   "metadata": {},
   "outputs": [
    {
     "data": {
      "text/html": [
       "<div>\n",
       "<style scoped>\n",
       "    .dataframe tbody tr th:only-of-type {\n",
       "        vertical-align: middle;\n",
       "    }\n",
       "\n",
       "    .dataframe tbody tr th {\n",
       "        vertical-align: top;\n",
       "    }\n",
       "\n",
       "    .dataframe thead th {\n",
       "        text-align: right;\n",
       "    }\n",
       "</style>\n",
       "<table border=\"1\" class=\"dataframe\">\n",
       "  <thead>\n",
       "    <tr style=\"text-align: right;\">\n",
       "      <th></th>\n",
       "      <th>budget</th>\n",
       "      <th>id</th>\n",
       "      <th>popularity</th>\n",
       "      <th>revenue</th>\n",
       "      <th>runtime</th>\n",
       "      <th>vote_average</th>\n",
       "      <th>vote_count</th>\n",
       "    </tr>\n",
       "  </thead>\n",
       "  <tbody>\n",
       "    <tr>\n",
       "      <th>count</th>\n",
       "      <td>4.392000e+03</td>\n",
       "      <td>4392.000000</td>\n",
       "      <td>4392.000000</td>\n",
       "      <td>4.392000e+03</td>\n",
       "      <td>4391.000000</td>\n",
       "      <td>4392.000000</td>\n",
       "      <td>4392.000000</td>\n",
       "    </tr>\n",
       "    <tr>\n",
       "      <th>mean</th>\n",
       "      <td>3.164545e+07</td>\n",
       "      <td>49204.119991</td>\n",
       "      <td>23.448815</td>\n",
       "      <td>8.990969e+07</td>\n",
       "      <td>108.430881</td>\n",
       "      <td>6.226935</td>\n",
       "      <td>754.441712</td>\n",
       "    </tr>\n",
       "    <tr>\n",
       "      <th>std</th>\n",
       "      <td>4.162736e+07</td>\n",
       "      <td>80136.249777</td>\n",
       "      <td>32.592158</td>\n",
       "      <td>1.682870e+08</td>\n",
       "      <td>21.014719</td>\n",
       "      <td>0.893215</td>\n",
       "      <td>1272.263761</td>\n",
       "    </tr>\n",
       "    <tr>\n",
       "      <th>min</th>\n",
       "      <td>0.000000e+00</td>\n",
       "      <td>5.000000</td>\n",
       "      <td>0.011697</td>\n",
       "      <td>0.000000e+00</td>\n",
       "      <td>0.000000</td>\n",
       "      <td>1.900000</td>\n",
       "      <td>10.000000</td>\n",
       "    </tr>\n",
       "    <tr>\n",
       "      <th>25%</th>\n",
       "      <td>2.895962e+06</td>\n",
       "      <td>8403.500000</td>\n",
       "      <td>6.512166</td>\n",
       "      <td>1.365700e+04</td>\n",
       "      <td>95.000000</td>\n",
       "      <td>5.700000</td>\n",
       "      <td>83.750000</td>\n",
       "    </tr>\n",
       "    <tr>\n",
       "      <th>50%</th>\n",
       "      <td>1.700000e+07</td>\n",
       "      <td>13084.500000</td>\n",
       "      <td>14.827784</td>\n",
       "      <td>2.685837e+07</td>\n",
       "      <td>105.000000</td>\n",
       "      <td>6.300000</td>\n",
       "      <td>288.500000</td>\n",
       "    </tr>\n",
       "    <tr>\n",
       "      <th>75%</th>\n",
       "      <td>4.200000e+07</td>\n",
       "      <td>46831.250000</td>\n",
       "      <td>30.258282</td>\n",
       "      <td>1.022818e+08</td>\n",
       "      <td>118.500000</td>\n",
       "      <td>6.800000</td>\n",
       "      <td>831.000000</td>\n",
       "    </tr>\n",
       "    <tr>\n",
       "      <th>max</th>\n",
       "      <td>3.800000e+08</td>\n",
       "      <td>417859.000000</td>\n",
       "      <td>875.581305</td>\n",
       "      <td>2.787965e+09</td>\n",
       "      <td>338.000000</td>\n",
       "      <td>8.500000</td>\n",
       "      <td>13752.000000</td>\n",
       "    </tr>\n",
       "  </tbody>\n",
       "</table>\n",
       "</div>"
      ],
      "text/plain": [
       "             budget             id   popularity       revenue      runtime  \\\n",
       "count  4.392000e+03    4392.000000  4392.000000  4.392000e+03  4391.000000   \n",
       "mean   3.164545e+07   49204.119991    23.448815  8.990969e+07   108.430881   \n",
       "std    4.162736e+07   80136.249777    32.592158  1.682870e+08    21.014719   \n",
       "min    0.000000e+00       5.000000     0.011697  0.000000e+00     0.000000   \n",
       "25%    2.895962e+06    8403.500000     6.512166  1.365700e+04    95.000000   \n",
       "50%    1.700000e+07   13084.500000    14.827784  2.685837e+07   105.000000   \n",
       "75%    4.200000e+07   46831.250000    30.258282  1.022818e+08   118.500000   \n",
       "max    3.800000e+08  417859.000000   875.581305  2.787965e+09   338.000000   \n",
       "\n",
       "       vote_average    vote_count  \n",
       "count   4392.000000   4392.000000  \n",
       "mean       6.226935    754.441712  \n",
       "std        0.893215   1272.263761  \n",
       "min        1.900000     10.000000  \n",
       "25%        5.700000     83.750000  \n",
       "50%        6.300000    288.500000  \n",
       "75%        6.800000    831.000000  \n",
       "max        8.500000  13752.000000  "
      ]
     },
     "execution_count": 11,
     "metadata": {},
     "output_type": "execute_result"
    }
   ],
   "source": [
    "tmdb_tratado.describe()"
   ]
  },
  {
   "cell_type": "code",
   "execution_count": 12,
   "id": "8c244e18-987f-42fb-be5f-05ac6de5b197",
   "metadata": {},
   "outputs": [
    {
     "name": "stderr",
     "output_type": "stream",
     "text": [
      "C:\\Users\\COMISSARIADO\\anaconda3\\lib\\site-packages\\seaborn\\distributions.py:2619: FutureWarning: `distplot` is a deprecated function and will be removed in a future version. Please adapt your code to use either `displot` (a figure-level function with similar flexibility) or `histplot` (an axes-level function for histograms).\n",
      "  warnings.warn(msg, FutureWarning)\n"
     ]
    },
    {
     "data": {
      "text/plain": [
       "Text(0.5, 1.0, 'Média de votos em filmes no TMBD 5000 com dez ou mais votos')"
      ]
     },
     "execution_count": 12,
     "metadata": {},
     "output_type": "execute_result"
    },
    {
     "data": {
      "image/png": "[encoded data removed]",
      "text/plain": [
       "<Figure size 864x648 with 1 Axes>"
      ]
     },
     "metadata": {
      "needs_background": "light"
     },
     "output_type": "display_data"
    }
   ],
   "source": [
    "plt.figure(figsize = (12,9))\n",
    "ax = sns.distplot(tmdb_tratado.vote_average, norm_hist= False, kde= False)\n",
    "ax.set(xlabel='Nota média', ylabel='Frequência')\n",
    "ax.set_title('Média de votos em filmes no TMBD 5000 com dez ou mais votos')"
   ]
  },
  {
   "cell_type": "code",
   "execution_count": 13,
   "id": "b231aa8d-2f61-46e4-b207-90d74add193e",
   "metadata": {},
   "outputs": [
    {
     "data": {
      "text/plain": [
       "Text(0.5, 1.0, 'Média de votos em filmes no TMBD 5000 com dez ou mais votos')"
      ]
     },
     "execution_count": 13,
     "metadata": {},
     "output_type": "execute_result"
    },
    {
     "data": {
      "image/png": "[encoded data removed]",
      "text/plain": [
       "<Figure size 864x648 with 1 Axes>"
      ]
     },
     "metadata": {
      "needs_background": "light"
     },
     "output_type": "display_data"
    }
   ],
   "source": [
    "plt.figure(figsize = (12,9))\n",
    "ax = sns.distplot(tmdb_tratado.vote_average)\n",
    "ax.set(xlabel='Nota média', ylabel='Densidade')\n",
    "ax.set_title('Média de votos em filmes no TMBD 5000 com dez ou mais votos')"
   ]
  },
  {
   "cell_type": "markdown",
   "id": "abd27f9b-c9fc-4182-9aeb-c8533f62759d",
   "metadata": {},
   "source": [
    "### Distribuição se aproxima da Normal"
   ]
  },
  {
   "cell_type": "code",
   "execution_count": 14,
   "id": "43788894-ce8a-4005-8391-5be668326c90",
   "metadata": {},
   "outputs": [
    {
     "name": "stderr",
     "output_type": "stream",
     "text": [
      "C:\\Users\\COMISSARIADO\\anaconda3\\lib\\site-packages\\seaborn\\_decorators.py:36: FutureWarning: Pass the following variable as a keyword arg: x. From version 0.12, the only valid positional argument will be `data`, and passing other arguments without an explicit keyword will result in an error or misinterpretation.\n",
      "  warnings.warn(\n"
     ]
    },
    {
     "data": {
      "text/plain": [
       "Text(0.5, 1.0, 'Distribuição de nota média dos filmes do TMDB 5000 com dez ou mais votos')"
      ]
     },
     "execution_count": 14,
     "metadata": {},
     "output_type": "execute_result"
    },
    {
     "data": {
      "image/png": "[encoded data removed]",
      "text/plain": [
       "<Figure size 864x648 with 1 Axes>"
      ]
     },
     "metadata": {
      "needs_background": "light"
     },
     "output_type": "display_data"
    }
   ],
   "source": [
    "plt.figure(figsize = (12,9))\n",
    "ax = sns.boxplot(tmdb_tratado.vote_average)\n",
    "ax.set(xlabel='Nota média do filme')\n",
    "ax.set_title('Distribuição de nota média dos filmes do TMDB 5000 com dez ou mais votos')"
   ]
  },
  {
   "cell_type": "markdown",
   "id": "d0bd8148-19db-4380-97c5-5b5e79414997",
   "metadata": {},
   "source": [
    "## Analisando a base de dados do Movielens"
   ]
  },
  {
   "cell_type": "code",
   "execution_count": 15,
   "id": "27caceb6-6639-4bf1-8df2-17632342107f",
   "metadata": {},
   "outputs": [
    {
     "data": {
      "text/html": [
       "<div>\n",
       "<style scoped>\n",
       "    .dataframe tbody tr th:only-of-type {\n",
       "        vertical-align: middle;\n",
       "    }\n",
       "\n",
       "    .dataframe tbody tr th {\n",
       "        vertical-align: top;\n",
       "    }\n",
       "\n",
       "    .dataframe thead th {\n",
       "        text-align: right;\n",
       "    }\n",
       "</style>\n",
       "<table border=\"1\" class=\"dataframe\">\n",
       "  <thead>\n",
       "    <tr style=\"text-align: right;\">\n",
       "      <th></th>\n",
       "      <th>userId</th>\n",
       "      <th>movieId</th>\n",
       "      <th>rating</th>\n",
       "      <th>timestamp</th>\n",
       "    </tr>\n",
       "  </thead>\n",
       "  <tbody>\n",
       "    <tr>\n",
       "      <th>0</th>\n",
       "      <td>1</td>\n",
       "      <td>1</td>\n",
       "      <td>4.0</td>\n",
       "      <td>964982703</td>\n",
       "    </tr>\n",
       "    <tr>\n",
       "      <th>1</th>\n",
       "      <td>1</td>\n",
       "      <td>3</td>\n",
       "      <td>4.0</td>\n",
       "      <td>964981247</td>\n",
       "    </tr>\n",
       "    <tr>\n",
       "      <th>2</th>\n",
       "      <td>1</td>\n",
       "      <td>6</td>\n",
       "      <td>4.0</td>\n",
       "      <td>964982224</td>\n",
       "    </tr>\n",
       "    <tr>\n",
       "      <th>3</th>\n",
       "      <td>1</td>\n",
       "      <td>47</td>\n",
       "      <td>5.0</td>\n",
       "      <td>964983815</td>\n",
       "    </tr>\n",
       "    <tr>\n",
       "      <th>4</th>\n",
       "      <td>1</td>\n",
       "      <td>50</td>\n",
       "      <td>5.0</td>\n",
       "      <td>964982931</td>\n",
       "    </tr>\n",
       "  </tbody>\n",
       "</table>\n",
       "</div>"
      ],
      "text/plain": [
       "   userId  movieId  rating  timestamp\n",
       "0       1        1     4.0  964982703\n",
       "1       1        3     4.0  964981247\n",
       "2       1        6     4.0  964982224\n",
       "3       1       47     5.0  964983815\n",
       "4       1       50     5.0  964982931"
      ]
     },
     "execution_count": 15,
     "metadata": {},
     "output_type": "execute_result"
    }
   ],
   "source": [
    "notas = pd.read_csv('aula0/ratings.csv', sep=',')\n",
    "notas.head()"
   ]
  },
  {
   "cell_type": "code",
   "execution_count": 16,
   "id": "30c47497-c959-450a-99fe-56288c5c8728",
   "metadata": {},
   "outputs": [
    {
     "data": {
      "text/plain": [
       "movieId\n",
       "1    3.920930\n",
       "2    3.431818\n",
       "3    3.259615\n",
       "4    2.357143\n",
       "5    3.071429\n",
       "Name: rating, dtype: float64"
      ]
     },
     "execution_count": 16,
     "metadata": {},
     "output_type": "execute_result"
    }
   ],
   "source": [
    "nota_media_por_filme = notas.groupby('movieId').mean()['rating']\n",
    "nota_media_por_filme.head()"
   ]
  },
  {
   "cell_type": "code",
   "execution_count": 17,
   "id": "5e847d99-79fe-41b2-bf97-c19446a7d697",
   "metadata": {},
   "outputs": [
    {
     "name": "stderr",
     "output_type": "stream",
     "text": [
      "C:\\Users\\COMISSARIADO\\anaconda3\\lib\\site-packages\\seaborn\\distributions.py:2619: FutureWarning: `distplot` is a deprecated function and will be removed in a future version. Please adapt your code to use either `displot` (a figure-level function with similar flexibility) or `histplot` (an axes-level function for histograms).\n",
      "  warnings.warn(msg, FutureWarning)\n"
     ]
    },
    {
     "data": {
      "text/plain": [
       "Text(0.5, 1.0, 'Média de votos em filmes nos Movielens 100k')"
      ]
     },
     "execution_count": 17,
     "metadata": {},
     "output_type": "execute_result"
    },
    {
     "data": {
      "image/png": "[encoded data removed]",
      "text/plain": [
       "<Figure size 864x648 with 1 Axes>"
      ]
     },
     "metadata": {
      "needs_background": "light"
     },
     "output_type": "display_data"
    }
   ],
   "source": [
    "plt.figure(figsize = (12,9))\n",
    "ax = sns.distplot(nota_media_por_filme.values)\n",
    "ax.set(xlabel='Nota média', ylabel='Densidade')\n",
    "ax.set_title('Média de votos em filmes nos Movielens 100k')"
   ]
  },
  {
   "cell_type": "code",
   "execution_count": 18,
   "id": "5cd22eb6-c5cc-48f8-90bd-9fcd3820e111",
   "metadata": {},
   "outputs": [],
   "source": [
    "# Os dados são diferentes, pois vão apenas de 0 a 5\""
   ]
  },
  {
   "cell_type": "code",
   "execution_count": 19,
   "id": "97d8232f-7b22-4153-bc28-327ece833701",
   "metadata": {},
   "outputs": [
    {
     "data": {
      "text/html": [
       "<div>\n",
       "<style scoped>\n",
       "    .dataframe tbody tr th:only-of-type {\n",
       "        vertical-align: middle;\n",
       "    }\n",
       "\n",
       "    .dataframe tbody tr th {\n",
       "        vertical-align: top;\n",
       "    }\n",
       "\n",
       "    .dataframe thead th {\n",
       "        text-align: right;\n",
       "    }\n",
       "</style>\n",
       "<table border=\"1\" class=\"dataframe\">\n",
       "  <thead>\n",
       "    <tr style=\"text-align: right;\">\n",
       "      <th></th>\n",
       "      <th>userId</th>\n",
       "      <th>rating</th>\n",
       "      <th>timestamp</th>\n",
       "    </tr>\n",
       "    <tr>\n",
       "      <th>movieId</th>\n",
       "      <th></th>\n",
       "      <th></th>\n",
       "      <th></th>\n",
       "    </tr>\n",
       "  </thead>\n",
       "  <tbody>\n",
       "    <tr>\n",
       "      <th>1</th>\n",
       "      <td>215</td>\n",
       "      <td>215</td>\n",
       "      <td>215</td>\n",
       "    </tr>\n",
       "    <tr>\n",
       "      <th>2</th>\n",
       "      <td>110</td>\n",
       "      <td>110</td>\n",
       "      <td>110</td>\n",
       "    </tr>\n",
       "    <tr>\n",
       "      <th>3</th>\n",
       "      <td>52</td>\n",
       "      <td>52</td>\n",
       "      <td>52</td>\n",
       "    </tr>\n",
       "    <tr>\n",
       "      <th>4</th>\n",
       "      <td>7</td>\n",
       "      <td>7</td>\n",
       "      <td>7</td>\n",
       "    </tr>\n",
       "    <tr>\n",
       "      <th>5</th>\n",
       "      <td>49</td>\n",
       "      <td>49</td>\n",
       "      <td>49</td>\n",
       "    </tr>\n",
       "    <tr>\n",
       "      <th>...</th>\n",
       "      <td>...</td>\n",
       "      <td>...</td>\n",
       "      <td>...</td>\n",
       "    </tr>\n",
       "    <tr>\n",
       "      <th>193581</th>\n",
       "      <td>1</td>\n",
       "      <td>1</td>\n",
       "      <td>1</td>\n",
       "    </tr>\n",
       "    <tr>\n",
       "      <th>193583</th>\n",
       "      <td>1</td>\n",
       "      <td>1</td>\n",
       "      <td>1</td>\n",
       "    </tr>\n",
       "    <tr>\n",
       "      <th>193585</th>\n",
       "      <td>1</td>\n",
       "      <td>1</td>\n",
       "      <td>1</td>\n",
       "    </tr>\n",
       "    <tr>\n",
       "      <th>193587</th>\n",
       "      <td>1</td>\n",
       "      <td>1</td>\n",
       "      <td>1</td>\n",
       "    </tr>\n",
       "    <tr>\n",
       "      <th>193609</th>\n",
       "      <td>1</td>\n",
       "      <td>1</td>\n",
       "      <td>1</td>\n",
       "    </tr>\n",
       "  </tbody>\n",
       "</table>\n",
       "<p>9724 rows × 3 columns</p>\n",
       "</div>"
      ],
      "text/plain": [
       "         userId  rating  timestamp\n",
       "movieId                           \n",
       "1           215     215        215\n",
       "2           110     110        110\n",
       "3            52      52         52\n",
       "4             7       7          7\n",
       "5            49      49         49\n",
       "...         ...     ...        ...\n",
       "193581        1       1          1\n",
       "193583        1       1          1\n",
       "193585        1       1          1\n",
       "193587        1       1          1\n",
       "193609        1       1          1\n",
       "\n",
       "[9724 rows x 3 columns]"
      ]
     },
     "execution_count": 19,
     "metadata": {},
     "output_type": "execute_result"
    }
   ],
   "source": [
    "quantidade_de_votos_por_filme = notas.groupby('movieId').count()\n",
    "quantidade_de_votos_por_filme\n",
    "\n",
    "#para o movielens, cada linha é um \"voto\""
   ]
  },
  {
   "cell_type": "markdown",
   "id": "0063d19d-0224-4b1a-9f66-cab87009e786",
   "metadata": {},
   "source": [
    "## Filtramos os dados. Excluímos os filmes com menos de dez votos"
   ]
  },
  {
   "cell_type": "code",
   "execution_count": 20,
   "id": "f7fb144e-290c-4f3e-9b50-bd20ee416c2b",
   "metadata": {},
   "outputs": [],
   "source": [
    "# pegaremos apenas os filmes com dez ou mais votos\n",
    "\n",
    "filmes_com_pelo_menos_dez_votos = quantidade_de_votos_por_filme.query('rating>=10').index"
   ]
  },
  {
   "cell_type": "code",
   "execution_count": 21,
   "id": "efe00aec-ec7a-4028-bceb-55d01bbb7e0b",
   "metadata": {},
   "outputs": [
    {
     "data": {
      "text/plain": [
       "Int64Index([     1,      2,      3,      5,      6,      7,      9,     10,\n",
       "                11,     12,\n",
       "            ...\n",
       "            166461, 166528, 166643, 168250, 168252, 174055, 176371, 177765,\n",
       "            179819, 187593],\n",
       "           dtype='int64', name='movieId', length=2269)"
      ]
     },
     "execution_count": 21,
     "metadata": {},
     "output_type": "execute_result"
    }
   ],
   "source": [
    "filmes_com_pelo_menos_dez_votos"
   ]
  },
  {
   "cell_type": "code",
   "execution_count": 22,
   "id": "38830adb-3ae6-4cc7-b4b2-93ad2e6c2cc2",
   "metadata": {},
   "outputs": [],
   "source": [
    "# perceber que o index sde chama movie id. não há a \"coluna\" movieId"
   ]
  },
  {
   "cell_type": "code",
   "execution_count": 23,
   "id": "9266af40-e133-47b5-b0f4-0b80ddd34176",
   "metadata": {},
   "outputs": [
    {
     "data": {
      "text/plain": [
       "array([     1,      2,      3, ..., 177765, 179819, 187593], dtype=int64)"
      ]
     },
     "execution_count": 23,
     "metadata": {},
     "output_type": "execute_result"
    }
   ],
   "source": [
    "filmes_com_pelo_menos_dez_votos.values"
   ]
  },
  {
   "cell_type": "code",
   "execution_count": 24,
   "id": "b7287664-c038-4362-8d64-a14ce773aa39",
   "metadata": {},
   "outputs": [
    {
     "data": {
      "text/plain": [
       "movieId\n",
       "1    3.920930\n",
       "2    3.431818\n",
       "3    3.259615\n",
       "5    3.071429\n",
       "6    3.946078\n",
       "Name: rating, dtype: float64"
      ]
     },
     "execution_count": 24,
     "metadata": {},
     "output_type": "execute_result"
    }
   ],
   "source": [
    "nota_media_dos_filmes_com_pelo_menos_dez_votos = nota_media_por_filme.loc[filmes_com_pelo_menos_dez_votos.values]\n",
    "nota_media_dos_filmes_com_pelo_menos_dez_votos.head()"
   ]
  },
  {
   "cell_type": "code",
   "execution_count": 25,
   "id": "3557c79b-e03e-448d-a2ba-13ae78c616a6",
   "metadata": {},
   "outputs": [
    {
     "name": "stderr",
     "output_type": "stream",
     "text": [
      "C:\\Users\\COMISSARIADO\\anaconda3\\lib\\site-packages\\seaborn\\distributions.py:2619: FutureWarning: `distplot` is a deprecated function and will be removed in a future version. Please adapt your code to use either `displot` (a figure-level function with similar flexibility) or `histplot` (an axes-level function for histograms).\n",
      "  warnings.warn(msg, FutureWarning)\n"
     ]
    },
    {
     "data": {
      "text/plain": [
       "Text(0.5, 1.0, 'Média de votos em filmes no MovieLens')"
      ]
     },
     "execution_count": 25,
     "metadata": {},
     "output_type": "execute_result"
    },
    {
     "data": {
      "image/png": "[encoded data removed]",
      "text/plain": [
       "<Figure size 864x648 with 1 Axes>"
      ]
     },
     "metadata": {
      "needs_background": "light"
     },
     "output_type": "display_data"
    }
   ],
   "source": [
    "plt.figure(figsize = (12,9))\n",
    "ax = sns.distplot(nota_media_dos_filmes_com_pelo_menos_dez_votos)\n",
    "ax.set(xlabel='Nota média', ylabel='Densidade')\n",
    "ax.set_title('Média de votos em filmes no MovieLens')"
   ]
  },
  {
   "cell_type": "code",
   "execution_count": 26,
   "id": "d020b3ce-b29e-4eeb-8a14-a9742504a025",
   "metadata": {},
   "outputs": [
    {
     "name": "stderr",
     "output_type": "stream",
     "text": [
      "C:\\Users\\COMISSARIADO\\anaconda3\\lib\\site-packages\\seaborn\\_decorators.py:36: FutureWarning: Pass the following variable as a keyword arg: x. From version 0.12, the only valid positional argument will be `data`, and passing other arguments without an explicit keyword will result in an error or misinterpretation.\n",
      "  warnings.warn(\n"
     ]
    },
    {
     "data": {
      "text/plain": [
       "Text(0.5, 1.0, 'Distribuição da Média de votos em filmes no MovieLens')"
      ]
     },
     "execution_count": 26,
     "metadata": {},
     "output_type": "execute_result"
    },
    {
     "data": {
      "image/png": "[encoded data removed]",
      "text/plain": [
       "<Figure size 864x648 with 1 Axes>"
      ]
     },
     "metadata": {
      "needs_background": "light"
     },
     "output_type": "display_data"
    }
   ],
   "source": [
    "plt.figure(figsize = (12,9))\n",
    "ax = sns.boxplot(nota_media_dos_filmes_com_pelo_menos_dez_votos.values)\n",
    "ax.set(xlabel='Nota média')\n",
    "ax.set_title('Distribuição da Média de votos em filmes no MovieLens')"
   ]
  },
  {
   "cell_type": "markdown",
   "id": "4341cee2-ef24-4bd1-9645-9da1d2046443",
   "metadata": {},
   "source": [
    "## plotando a média acumulada. Permite, de forma visual, analisar a distribuição de maneira cumulativa"
   ]
  },
  {
   "cell_type": "code",
   "execution_count": 27,
   "id": "b52b3d36-b8f7-49bf-abef-91e485ff5cde",
   "metadata": {},
   "outputs": [
    {
     "name": "stderr",
     "output_type": "stream",
     "text": [
      "C:\\Users\\COMISSARIADO\\anaconda3\\lib\\site-packages\\seaborn\\distributions.py:2619: FutureWarning: `distplot` is a deprecated function and will be removed in a future version. Please adapt your code to use either `displot` (a figure-level function with similar flexibility) or `histplot` (an axes-level function for histograms).\n",
      "  warnings.warn(msg, FutureWarning)\n"
     ]
    },
    {
     "data": {
      "text/plain": [
       "Text(0.5, 1.0, 'Média de votos em filmes no MovieLens')"
      ]
     },
     "execution_count": 27,
     "metadata": {},
     "output_type": "execute_result"
    },
    {
     "data": {
      "image/png": "[encoded data removed]",
      "text/plain": [
       "<Figure size 864x648 with 1 Axes>"
      ]
     },
     "metadata": {
      "needs_background": "light"
     },
     "output_type": "display_data"
    }
   ],
   "source": [
    "plt.figure(figsize = (12,9))\n",
    "ax = sns.distplot(nota_media_dos_filmes_com_pelo_menos_dez_votos, \n",
    "                  hist_kws = {'cumulative':True}, \n",
    "                  kde_kws = {'cumulative':True})\n",
    "ax.set(xlabel='Nota média', ylabel='Proporção acumulada de filmes')\n",
    "ax.set_title('Média de votos em filmes no MovieLens')"
   ]
  },
  {
   "cell_type": "markdown",
   "id": "ba2150e9-2b55-4f04-8959-f4a2b22777cd",
   "metadata": {},
   "source": [
    "## Analisando a distribuição dos dados de outros campos do TMDB"
   ]
  },
  {
   "cell_type": "code",
   "execution_count": 28,
   "id": "7dcf8905-c902-409d-a803-4972d27cad76",
   "metadata": {},
   "outputs": [
    {
     "name": "stderr",
     "output_type": "stream",
     "text": [
      "C:\\Users\\COMISSARIADO\\anaconda3\\lib\\site-packages\\seaborn\\distributions.py:2619: FutureWarning: `distplot` is a deprecated function and will be removed in a future version. Please adapt your code to use either `displot` (a figure-level function with similar flexibility) or `histplot` (an axes-level function for histograms).\n",
      "  warnings.warn(msg, FutureWarning)\n"
     ]
    },
    {
     "data": {
      "text/plain": [
       "Text(0.5, 1.0, 'Número de votos em filmes do TMDB 5000 com mais de dez votos')"
      ]
     },
     "execution_count": 28,
     "metadata": {},
     "output_type": "execute_result"
    },
    {
     "data": {
      "image/png": "[encoded data removed]",
      "text/plain": [
       "<Figure size 864x648 with 1 Axes>"
      ]
     },
     "metadata": {
      "needs_background": "light"
     },
     "output_type": "display_data"
    }
   ],
   "source": [
    "plt.figure(figsize = (12,9))\n",
    "ax = sns.distplot(tmdb_tratado.vote_count)\n",
    "ax.set(xlabel='Número de votos', ylabel='Densidade')\n",
    "ax.set_title('Número de votos em filmes do TMDB 5000 com mais de dez votos')"
   ]
  },
  {
   "cell_type": "code",
   "execution_count": 29,
   "id": "07791647-fb9f-4287-afae-f69167746e82",
   "metadata": {},
   "outputs": [
    {
     "data": {
      "text/plain": [
       "0       237000000\n",
       "1       300000000\n",
       "2       245000000\n",
       "3       250000000\n",
       "4       260000000\n",
       "          ...    \n",
       "4798       220000\n",
       "4799         9000\n",
       "4800            0\n",
       "4801            0\n",
       "4802            0\n",
       "Name: budget, Length: 4803, dtype: int64"
      ]
     },
     "execution_count": 29,
     "metadata": {},
     "output_type": "execute_result"
    }
   ],
   "source": [
    "tmdb['budget']"
   ]
  },
  {
   "cell_type": "code",
   "execution_count": 30,
   "id": "cdfedec2-5566-4a2a-abe4-4961d197b70c",
   "metadata": {},
   "outputs": [
    {
     "name": "stderr",
     "output_type": "stream",
     "text": [
      "C:\\Users\\COMISSARIADO\\anaconda3\\lib\\site-packages\\seaborn\\distributions.py:2619: FutureWarning: `distplot` is a deprecated function and will be removed in a future version. Please adapt your code to use either `displot` (a figure-level function with similar flexibility) or `histplot` (an axes-level function for histograms).\n",
      "  warnings.warn(msg, FutureWarning)\n"
     ]
    },
    {
     "data": {
      "text/plain": [
       "Text(0.5, 1.0, 'Orçamento de filmes do TMDB 5000 com orçamento superior a zero')"
      ]
     },
     "execution_count": 30,
     "metadata": {},
     "output_type": "execute_result"
    },
    {
     "data": {
      "image/png": "[encoded data removed]",
      "text/plain": [
       "<Figure size 864x648 with 1 Axes>"
      ]
     },
     "metadata": {
      "needs_background": "light"
     },
     "output_type": "display_data"
    }
   ],
   "source": [
    "plt.figure(figsize = (12,9))\n",
    "ax = sns.distplot(tmdb.query('budget>0')['budget'])\n",
    "ax.set(xlabel='Budget (em dólares)', ylabel='Densidade')\n",
    "ax.set_title('Orçamento de filmes do TMDB 5000 com orçamento superior a zero')"
   ]
  },
  {
   "cell_type": "code",
   "execution_count": 31,
   "id": "6d00d776-7296-4d44-9ea3-0e11aa00102e",
   "metadata": {},
   "outputs": [
    {
     "data": {
      "text/html": [
       "<div>\n",
       "<style scoped>\n",
       "    .dataframe tbody tr th:only-of-type {\n",
       "        vertical-align: middle;\n",
       "    }\n",
       "\n",
       "    .dataframe tbody tr th {\n",
       "        vertical-align: top;\n",
       "    }\n",
       "\n",
       "    .dataframe thead th {\n",
       "        text-align: right;\n",
       "    }\n",
       "</style>\n",
       "<table border=\"1\" class=\"dataframe\">\n",
       "  <thead>\n",
       "    <tr style=\"text-align: right;\">\n",
       "      <th></th>\n",
       "      <th>budget</th>\n",
       "      <th>genres</th>\n",
       "      <th>homepage</th>\n",
       "      <th>id</th>\n",
       "      <th>keywords</th>\n",
       "      <th>original_language</th>\n",
       "      <th>original_title</th>\n",
       "      <th>overview</th>\n",
       "      <th>popularity</th>\n",
       "      <th>production_companies</th>\n",
       "      <th>production_countries</th>\n",
       "      <th>release_date</th>\n",
       "      <th>revenue</th>\n",
       "      <th>runtime</th>\n",
       "      <th>spoken_languages</th>\n",
       "      <th>status</th>\n",
       "      <th>tagline</th>\n",
       "      <th>title</th>\n",
       "      <th>vote_average</th>\n",
       "      <th>vote_count</th>\n",
       "    </tr>\n",
       "  </thead>\n",
       "  <tbody>\n",
       "    <tr>\n",
       "      <th>4553</th>\n",
       "      <td>0</td>\n",
       "      <td>[]</td>\n",
       "      <td>NaN</td>\n",
       "      <td>380097</td>\n",
       "      <td>[]</td>\n",
       "      <td>en</td>\n",
       "      <td>America Is Still the Place</td>\n",
       "      <td>1971 post civil rights San Francisco seemed li...</td>\n",
       "      <td>0.0</td>\n",
       "      <td>[]</td>\n",
       "      <td>[]</td>\n",
       "      <td>NaN</td>\n",
       "      <td>0</td>\n",
       "      <td>0.0</td>\n",
       "      <td>[]</td>\n",
       "      <td>Released</td>\n",
       "      <td>NaN</td>\n",
       "      <td>America Is Still the Place</td>\n",
       "      <td>0.0</td>\n",
       "      <td>0</td>\n",
       "    </tr>\n",
       "  </tbody>\n",
       "</table>\n",
       "</div>"
      ],
      "text/plain": [
       "      budget genres homepage      id keywords original_language  \\\n",
       "4553       0     []      NaN  380097       []                en   \n",
       "\n",
       "                  original_title  \\\n",
       "4553  America Is Still the Place   \n",
       "\n",
       "                                               overview  popularity  \\\n",
       "4553  1971 post civil rights San Francisco seemed li...         0.0   \n",
       "\n",
       "     production_companies production_countries release_date  revenue  runtime  \\\n",
       "4553                   []                   []          NaN        0      0.0   \n",
       "\n",
       "     spoken_languages    status tagline                       title  \\\n",
       "4553               []  Released     NaN  America Is Still the Place   \n",
       "\n",
       "      vote_average  vote_count  \n",
       "4553           0.0           0  "
      ]
     },
     "execution_count": 31,
     "metadata": {},
     "output_type": "execute_result"
    }
   ],
   "source": [
    "tmdb.query('popularity==0')"
   ]
  },
  {
   "cell_type": "code",
   "execution_count": 32,
   "id": "dfdb6ac5-0a4b-468f-8f10-4fa5cf42c6d0",
   "metadata": {},
   "outputs": [
    {
     "name": "stderr",
     "output_type": "stream",
     "text": [
      "C:\\Users\\COMISSARIADO\\anaconda3\\lib\\site-packages\\seaborn\\distributions.py:2619: FutureWarning: `distplot` is a deprecated function and will be removed in a future version. Please adapt your code to use either `displot` (a figure-level function with similar flexibility) or `histplot` (an axes-level function for histograms).\n",
      "  warnings.warn(msg, FutureWarning)\n"
     ]
    },
    {
     "data": {
      "text/plain": [
       "Text(0.5, 1.0, 'Popularidade de filmes do TMDB 5000')"
      ]
     },
     "execution_count": 32,
     "metadata": {},
     "output_type": "execute_result"
    },
    {
     "data": {
      "image/png": "[encoded data removed]",
      "text/plain": [
       "<Figure size 864x648 with 1 Axes>"
      ]
     },
     "metadata": {
      "needs_background": "light"
     },
     "output_type": "display_data"
    }
   ],
   "source": [
    "plt.figure(figsize = (12,9))\n",
    "ax = sns.distplot(tmdb['popularity'])\n",
    "ax.set(xlabel='Popularidade', ylabel='Densidade')\n",
    "ax.set_title('Popularidade de filmes do TMDB 5000')"
   ]
  },
  {
   "cell_type": "code",
   "execution_count": 33,
   "id": "82f0fdad-ce68-48d1-a410-38097d18433e",
   "metadata": {},
   "outputs": [
    {
     "data": {
      "text/plain": [
       "0       162.0\n",
       "1       169.0\n",
       "2       148.0\n",
       "3       165.0\n",
       "4       132.0\n",
       "        ...  \n",
       "4798     81.0\n",
       "4799     85.0\n",
       "4800    120.0\n",
       "4801     98.0\n",
       "4802     90.0\n",
       "Name: runtime, Length: 4803, dtype: float64"
      ]
     },
     "execution_count": 33,
     "metadata": {},
     "output_type": "execute_result"
    }
   ],
   "source": [
    "tmdb.runtime"
   ]
  },
  {
   "cell_type": "code",
   "execution_count": 34,
   "id": "b74c9b95-a120-4854-8d30-02b95d1e45ea",
   "metadata": {},
   "outputs": [
    {
     "data": {
      "text/plain": [
       "False    4801\n",
       "True        2\n",
       "Name: runtime, dtype: int64"
      ]
     },
     "execution_count": 34,
     "metadata": {},
     "output_type": "execute_result"
    }
   ],
   "source": [
    "tmdb.runtime.isnull().value_counts()"
   ]
  },
  {
   "cell_type": "code",
   "execution_count": 35,
   "id": "755c204b-90b1-4f35-b0f2-d0ce3eca3623",
   "metadata": {},
   "outputs": [
    {
     "data": {
      "text/plain": [
       "0       162.0\n",
       "1       169.0\n",
       "2       148.0\n",
       "3       165.0\n",
       "4       132.0\n",
       "        ...  \n",
       "4798     81.0\n",
       "4799     85.0\n",
       "4800    120.0\n",
       "4801     98.0\n",
       "4802     90.0\n",
       "Name: runtime, Length: 4801, dtype: float64"
      ]
     },
     "execution_count": 35,
     "metadata": {},
     "output_type": "execute_result"
    }
   ],
   "source": [
    "# método do pandas para excluir valores NaN\n",
    "tmdb['runtime'].dropna()"
   ]
  },
  {
   "cell_type": "code",
   "execution_count": 36,
   "id": "dba59a4d-ad2c-42d1-9d58-a0a3e873a3e7",
   "metadata": {},
   "outputs": [
    {
     "name": "stderr",
     "output_type": "stream",
     "text": [
      "C:\\Users\\COMISSARIADO\\anaconda3\\lib\\site-packages\\seaborn\\distributions.py:2619: FutureWarning: `distplot` is a deprecated function and will be removed in a future version. Please adapt your code to use either `displot` (a figure-level function with similar flexibility) or `histplot` (an axes-level function for histograms).\n",
      "  warnings.warn(msg, FutureWarning)\n"
     ]
    },
    {
     "data": {
      "text/plain": [
       "Text(0.5, 1.0, 'Duração de filmes do TMDB 5000')"
      ]
     },
     "execution_count": 36,
     "metadata": {},
     "output_type": "execute_result"
    },
    {
     "data": {
      "image/png": "[encoded data removed]",
      "text/plain": [
       "<Figure size 864x648 with 1 Axes>"
      ]
     },
     "metadata": {
      "needs_background": "light"
     },
     "output_type": "display_data"
    }
   ],
   "source": [
    "plt.figure(figsize = (12,9))\n",
    "ax = sns.distplot(tmdb['runtime'].dropna())\n",
    "ax.set(xlabel='Duração', ylabel='Densidade')\n",
    "ax.set_title('Duração de filmes do TMDB 5000')"
   ]
  },
  {
   "cell_type": "code",
   "execution_count": 37,
   "id": "c3b7a559-f4af-4168-9482-27bbf57c3ef0",
   "metadata": {},
   "outputs": [
    {
     "data": {
      "text/plain": [
       "0.0    35\n",
       "Name: runtime, dtype: int64"
      ]
     },
     "execution_count": 37,
     "metadata": {},
     "output_type": "execute_result"
    }
   ],
   "source": [
    "tmdb.query('runtime==0')['runtime'].value_counts()"
   ]
  },
  {
   "cell_type": "code",
   "execution_count": 38,
   "id": "4e32eceb-fc99-42f8-8da8-35664084f60c",
   "metadata": {},
   "outputs": [
    {
     "name": "stderr",
     "output_type": "stream",
     "text": [
      "C:\\Users\\COMISSARIADO\\anaconda3\\lib\\site-packages\\seaborn\\distributions.py:2619: FutureWarning: `distplot` is a deprecated function and will be removed in a future version. Please adapt your code to use either `displot` (a figure-level function with similar flexibility) or `histplot` (an axes-level function for histograms).\n",
      "  warnings.warn(msg, FutureWarning)\n"
     ]
    },
    {
     "data": {
      "text/plain": [
       "Text(0.5, 1.0, 'Duração de filmes do TMDB 5000')"
      ]
     },
     "execution_count": 38,
     "metadata": {},
     "output_type": "execute_result"
    },
    {
     "data": {
      "image/png": "[encoded data removed]",
      "text/plain": [
       "<Figure size 864x648 with 1 Axes>"
      ]
     },
     "metadata": {
      "needs_background": "light"
     },
     "output_type": "display_data"
    }
   ],
   "source": [
    "# plotagem de filmes com duração maior do que zero\n",
    "\n",
    "plt.figure(figsize = (12,9))\n",
    "ax = sns.distplot(tmdb.query('runtime>0')['runtime'].dropna())\n",
    "ax.set(xlabel='Duração', ylabel='Densidade')\n",
    "ax.set_title('Duração de filmes do TMDB 5000')"
   ]
  },
  {
   "cell_type": "code",
   "execution_count": 39,
   "id": "56e1d6c9-5bc8-4a3d-b350-e875e8d6e406",
   "metadata": {},
   "outputs": [
    {
     "name": "stderr",
     "output_type": "stream",
     "text": [
      "C:\\Users\\COMISSARIADO\\anaconda3\\lib\\site-packages\\seaborn\\distributions.py:2619: FutureWarning: `distplot` is a deprecated function and will be removed in a future version. Please adapt your code to use either `displot` (a figure-level function with similar flexibility) or `histplot` (an axes-level function for histograms).\n",
      "  warnings.warn(msg, FutureWarning)\n"
     ]
    },
    {
     "data": {
      "text/plain": [
       "Text(0.5, 1.0, 'Duração de filmes do TMDB 5000 Cumulado')"
      ]
     },
     "execution_count": 39,
     "metadata": {},
     "output_type": "execute_result"
    },
    {
     "data": {
      "image/png": "[encoded data removed]",
      "text/plain": [
       "<Figure size 864x648 with 1 Axes>"
      ]
     },
     "metadata": {
      "needs_background": "light"
     },
     "output_type": "display_data"
    }
   ],
   "source": [
    "# plotagem de filmes com duração maior do que zero cumulativo\n",
    "\n",
    "plt.figure(figsize = (12,9))\n",
    "ax = sns.distplot(tmdb.query('runtime>0')['runtime'].dropna(), hist_kws = {'cumulative':True}, \n",
    "                  kde_kws = {'cumulative':True})\n",
    "ax.set(xlabel='Duração', ylabel='Densidade')\n",
    "ax.set_title('Duração de filmes do TMDB 5000 Cumulado')"
   ]
  },
  {
   "cell_type": "code",
   "execution_count": 40,
   "id": "09abab03-7d7c-445d-8683-10f76ecd2bb8",
   "metadata": {},
   "outputs": [
    {
     "data": {
      "text/plain": [
       "121.0"
      ]
     },
     "execution_count": 40,
     "metadata": {},
     "output_type": "execute_result"
    }
   ],
   "source": [
    "# 80% dos filmes têm até 121min de duração\n",
    "\n",
    "tmdb.query('runtime>0')['runtime'].dropna().quantile(.8)"
   ]
  },
  {
   "cell_type": "code",
   "execution_count": 41,
   "id": "3cb1cdbc-a057-4741-8303-690f40bce8a7",
   "metadata": {},
   "outputs": [
    {
     "data": {
      "text/plain": [
       "104.0"
      ]
     },
     "execution_count": 41,
     "metadata": {},
     "output_type": "execute_result"
    }
   ],
   "source": [
    "tmdb.query('runtime>0')['runtime'].dropna().quantile(.5)"
   ]
  },
  {
   "cell_type": "markdown",
   "id": "3be352c8-d097-4d88-b3fe-dcbf624afda0",
   "metadata": {},
   "source": [
    "## O efeito do tamanho de uma amostra"
   ]
  },
  {
   "cell_type": "markdown",
   "id": "84952f3a-0d29-43fe-8c34-87faa130c514",
   "metadata": {},
   "source": [
    "### Movielens: média das médias dos filmes com pelo menos 10 votos"
   ]
  },
  {
   "cell_type": "code",
   "execution_count": 42,
   "id": "ca59bfb6-1ebd-44a3-b6cb-1431e990eabf",
   "metadata": {},
   "outputs": [
    {
     "data": {
      "text/plain": [
       "3.4320503405352603"
      ]
     },
     "execution_count": 42,
     "metadata": {},
     "output_type": "execute_result"
    }
   ],
   "source": [
    "#Média da nota média dos filmes com pelo menos dez votos\n",
    "\n",
    "nota_media_dos_filmes_com_pelo_menos_dez_votos.mean()"
   ]
  },
  {
   "cell_type": "code",
   "execution_count": 43,
   "id": "13fa13a4-9f54-40a3-a51d-8e4537c8a953",
   "metadata": {},
   "outputs": [
    {
     "data": {
      "text/plain": [
       "2269"
      ]
     },
     "execution_count": 43,
     "metadata": {},
     "output_type": "execute_result"
    }
   ],
   "source": [
    "len(nota_media_dos_filmes_com_pelo_menos_dez_votos)"
   ]
  },
  {
   "cell_type": "code",
   "execution_count": 44,
   "id": "875c3765-dd98-4f01-8544-c4247fc18d04",
   "metadata": {},
   "outputs": [],
   "source": [
    "### Calculando a média progressivamente a partir do número da amostra (n): de 1 até o total de itens"
   ]
  },
  {
   "cell_type": "code",
   "execution_count": 45,
   "id": "f1309592-90bc-4f90-89c7-725f32cab61a",
   "metadata": {},
   "outputs": [
    {
     "data": {
      "text/plain": [
       "[<matplotlib.lines.Line2D at 0x223d58190a0>]"
      ]
     },
     "execution_count": 45,
     "metadata": {},
     "output_type": "execute_result"
    },
    {
     "data": {
      "image/png": "[encoded data removed]",
      "text/plain": [
       "<Figure size 864x648 with 1 Axes>"
      ]
     },
     "metadata": {
      "needs_background": "light"
     },
     "output_type": "display_data"
    }
   ],
   "source": [
    "# para observar graficamente o comportamento da média a partir do tamanho da amostra, que irá de 1 até o total da amostra de forma aleatória\n",
    "np.random.seed(75243)\n",
    "temp = nota_media_dos_filmes_com_pelo_menos_dez_votos.sample(frac=1) # o frac = 1 significa 100%\n",
    "\n",
    "medias = list()\n",
    "for i in range(1,len(temp)):\n",
    "    medias.append(temp[0:i].mean())\n",
    "    \n",
    "plt.figure(figsize = (12,9))\n",
    "plt.xlabel(\"Média\")\n",
    "plt.ylabel(\"Tamanho da amostra\")\n",
    "plt.plot(medias)\n"
   ]
  },
  {
   "cell_type": "code",
   "execution_count": 46,
   "id": "c8fae2bb-cde2-4bd0-b398-a572e94218a2",
   "metadata": {},
   "outputs": [
    {
     "data": {
      "text/plain": [
       "[<matplotlib.lines.Line2D at 0x223d586f6a0>]"
      ]
     },
     "execution_count": 46,
     "metadata": {},
     "output_type": "execute_result"
    },
    {
     "data": {
      "image/png": "[encoded data removed]",
      "text/plain": [
       "<Figure size 864x648 with 1 Axes>"
      ]
     },
     "metadata": {
      "needs_background": "light"
     },
     "output_type": "display_data"
    }
   ],
   "source": [
    "'''\n",
    "No Python, existe uma maneira mais direta de criarmos uma lista na qual os elementos são adicionados um a um progressivamente:\n",
    "basta passarmos as condições a serem executadas no for antes desse iterador, e colocarmos toda essa construção entre colchetes\n",
    "'''\n",
    "\n",
    "np.random.seed(75243)\n",
    "temp = nota_media_dos_filmes_com_pelo_menos_dez_votos.sample(frac=1)\n",
    "\n",
    "medias = list()\n",
    "medias = [temp[0:i].mean() for i in range(1, len(temp))]\n",
    "\n",
    "plt.figure(figsize = (12,9))\n",
    "plt.xlabel(\"Média\")\n",
    "plt.ylabel(\"Tamanho da amostra\")\n",
    "plt.plot(medias)"
   ]
  },
  {
   "cell_type": "markdown",
   "id": "7b06d2f9-acfe-4cc1-8770-45b7daca140f",
   "metadata": {},
   "source": [
    "## Intervalo de confiança da média com t e ztest"
   ]
  },
  {
   "cell_type": "markdown",
   "id": "a98c619a-f196-4ffe-b509-a3371f3126ac",
   "metadata": {},
   "source": [
    "### https://www.statsmodels.org/devel/generated/statsmodels.stats.weightstats.zconfint.html"
   ]
  },
  {
   "cell_type": "code",
   "execution_count": 47,
   "id": "90e7a601-c930-4cb5-8e5a-a10ae35e85ca",
   "metadata": {},
   "outputs": [
    {
     "data": {
      "text/plain": [
       "(3.4112459477469557, 3.452854733323563)"
      ]
     },
     "execution_count": 47,
     "metadata": {},
     "output_type": "execute_result"
    }
   ],
   "source": [
    "# usaremos o zconfint, que usa por default alpha=0.05 (significancia de 5%)\n",
    "\n",
    "# ou seja: com 95% de probabilidade, os valores das notas médias de um filme pego aleatoriamente dos filmes em geral (POPULAÇÃO)\n",
    "# estará no invervalo dado\n",
    "\n",
    "from statsmodels.stats.weightstats import zconfint\n",
    "\n",
    "zconfint(nota_media_dos_filmes_com_pelo_menos_dez_votos)\n",
    "\n"
   ]
  },
  {
   "cell_type": "markdown",
   "id": "807c5541-fbc1-456f-9b76-5b2cc1afb3a6",
   "metadata": {},
   "source": [
    "## Usando o DescrStatsW do statsmodels"
   ]
  },
  {
   "cell_type": "markdown",
   "id": "7d87e3c4-110c-4ec0-9fe8-3cb0b9ad7113",
   "metadata": {},
   "source": [
    "### https://www.statsmodels.org/devel/generated/statsmodels.stats.weightstats.DescrStatsW"
   ]
  },
  {
   "cell_type": "code",
   "execution_count": 48,
   "id": "09670326-885c-462e-a2bb-9a74dced7c28",
   "metadata": {},
   "outputs": [],
   "source": [
    "from statsmodels.stats.weightstats import DescrStatsW\n",
    "\n",
    "# o DescrStatsW é um tipo de objeto\n",
    "\n",
    "# da mesma forma que o acima, tem como padrão alpha=.05\n",
    "\n",
    "descr_todos_com_10_votos = DescrStatsW(nota_media_dos_filmes_com_pelo_menos_dez_votos)"
   ]
  },
  {
   "cell_type": "code",
   "execution_count": 49,
   "id": "d6652cc4-61b1-48ad-893a-7a44bd0515f0",
   "metadata": {},
   "outputs": [
    {
     "data": {
      "text/plain": [
       "(3.41123483922938, 3.4528658418411386)"
      ]
     },
     "execution_count": 49,
     "metadata": {},
     "output_type": "execute_result"
    }
   ],
   "source": [
    "descr_todos_com_10_votos.tconfint_mean()"
   ]
  },
  {
   "cell_type": "markdown",
   "id": "d72b1f51-ddfe-4061-8837-c14421bf6ae6",
   "metadata": {},
   "source": [
    "## ZTest para uma amostra"
   ]
  },
  {
   "cell_type": "markdown",
   "id": "603a3ef0-75c9-4a2f-9b0b-77813ca80e21",
   "metadata": {},
   "source": [
    "### Análise de um filme (Filme 1)"
   ]
  },
  {
   "cell_type": "code",
   "execution_count": 50,
   "id": "05d851aa-d8da-4119-b2b4-97f972e3fea4",
   "metadata": {},
   "outputs": [
    {
     "data": {
      "text/html": [
       "<div>\n",
       "<style scoped>\n",
       "    .dataframe tbody tr th:only-of-type {\n",
       "        vertical-align: middle;\n",
       "    }\n",
       "\n",
       "    .dataframe tbody tr th {\n",
       "        vertical-align: top;\n",
       "    }\n",
       "\n",
       "    .dataframe thead th {\n",
       "        text-align: right;\n",
       "    }\n",
       "</style>\n",
       "<table border=\"1\" class=\"dataframe\">\n",
       "  <thead>\n",
       "    <tr style=\"text-align: right;\">\n",
       "      <th></th>\n",
       "      <th>movieId</th>\n",
       "      <th>title</th>\n",
       "      <th>genres</th>\n",
       "    </tr>\n",
       "  </thead>\n",
       "  <tbody>\n",
       "    <tr>\n",
       "      <th>0</th>\n",
       "      <td>1</td>\n",
       "      <td>Toy Story (1995)</td>\n",
       "      <td>Adventure|Animation|Children|Comedy|Fantasy</td>\n",
       "    </tr>\n",
       "    <tr>\n",
       "      <th>1</th>\n",
       "      <td>2</td>\n",
       "      <td>Jumanji (1995)</td>\n",
       "      <td>Adventure|Children|Fantasy</td>\n",
       "    </tr>\n",
       "    <tr>\n",
       "      <th>2</th>\n",
       "      <td>3</td>\n",
       "      <td>Grumpier Old Men (1995)</td>\n",
       "      <td>Comedy|Romance</td>\n",
       "    </tr>\n",
       "    <tr>\n",
       "      <th>3</th>\n",
       "      <td>4</td>\n",
       "      <td>Waiting to Exhale (1995)</td>\n",
       "      <td>Comedy|Drama|Romance</td>\n",
       "    </tr>\n",
       "    <tr>\n",
       "      <th>4</th>\n",
       "      <td>5</td>\n",
       "      <td>Father of the Bride Part II (1995)</td>\n",
       "      <td>Comedy</td>\n",
       "    </tr>\n",
       "  </tbody>\n",
       "</table>\n",
       "</div>"
      ],
      "text/plain": [
       "   movieId                               title  \\\n",
       "0        1                    Toy Story (1995)   \n",
       "1        2                      Jumanji (1995)   \n",
       "2        3             Grumpier Old Men (1995)   \n",
       "3        4            Waiting to Exhale (1995)   \n",
       "4        5  Father of the Bride Part II (1995)   \n",
       "\n",
       "                                        genres  \n",
       "0  Adventure|Animation|Children|Comedy|Fantasy  \n",
       "1                   Adventure|Children|Fantasy  \n",
       "2                               Comedy|Romance  \n",
       "3                         Comedy|Drama|Romance  \n",
       "4                                       Comedy  "
      ]
     },
     "execution_count": 50,
     "metadata": {},
     "output_type": "execute_result"
    }
   ],
   "source": [
    "filmes = pd.read_csv('aula0/movies.csv')\n",
    "filmes.head()"
   ]
  },
  {
   "cell_type": "code",
   "execution_count": 51,
   "id": "6babe83a-f396-431c-bc05-080c4723bfc1",
   "metadata": {},
   "outputs": [
    {
     "data": {
      "text/html": [
       "<div>\n",
       "<style scoped>\n",
       "    .dataframe tbody tr th:only-of-type {\n",
       "        vertical-align: middle;\n",
       "    }\n",
       "\n",
       "    .dataframe tbody tr th {\n",
       "        vertical-align: top;\n",
       "    }\n",
       "\n",
       "    .dataframe thead th {\n",
       "        text-align: right;\n",
       "    }\n",
       "</style>\n",
       "<table border=\"1\" class=\"dataframe\">\n",
       "  <thead>\n",
       "    <tr style=\"text-align: right;\">\n",
       "      <th></th>\n",
       "      <th>movieId</th>\n",
       "      <th>title</th>\n",
       "      <th>genres</th>\n",
       "    </tr>\n",
       "  </thead>\n",
       "  <tbody>\n",
       "    <tr>\n",
       "      <th>0</th>\n",
       "      <td>1</td>\n",
       "      <td>Toy Story (1995)</td>\n",
       "      <td>Adventure|Animation|Children|Comedy|Fantasy</td>\n",
       "    </tr>\n",
       "  </tbody>\n",
       "</table>\n",
       "</div>"
      ],
      "text/plain": [
       "   movieId             title                                       genres\n",
       "0        1  Toy Story (1995)  Adventure|Animation|Children|Comedy|Fantasy"
      ]
     },
     "execution_count": 51,
     "metadata": {},
     "output_type": "execute_result"
    }
   ],
   "source": [
    "filmes.query('movieId==1')"
   ]
  },
  {
   "cell_type": "code",
   "execution_count": 52,
   "id": "95118972-57d0-4e21-9b93-049c3f9c0313",
   "metadata": {},
   "outputs": [
    {
     "data": {
      "text/html": [
       "<div>\n",
       "<style scoped>\n",
       "    .dataframe tbody tr th:only-of-type {\n",
       "        vertical-align: middle;\n",
       "    }\n",
       "\n",
       "    .dataframe tbody tr th {\n",
       "        vertical-align: top;\n",
       "    }\n",
       "\n",
       "    .dataframe thead th {\n",
       "        text-align: right;\n",
       "    }\n",
       "</style>\n",
       "<table border=\"1\" class=\"dataframe\">\n",
       "  <thead>\n",
       "    <tr style=\"text-align: right;\">\n",
       "      <th></th>\n",
       "      <th>userId</th>\n",
       "      <th>movieId</th>\n",
       "      <th>rating</th>\n",
       "      <th>timestamp</th>\n",
       "    </tr>\n",
       "  </thead>\n",
       "  <tbody>\n",
       "    <tr>\n",
       "      <th>0</th>\n",
       "      <td>1</td>\n",
       "      <td>1</td>\n",
       "      <td>4.0</td>\n",
       "      <td>964982703</td>\n",
       "    </tr>\n",
       "    <tr>\n",
       "      <th>516</th>\n",
       "      <td>5</td>\n",
       "      <td>1</td>\n",
       "      <td>4.0</td>\n",
       "      <td>847434962</td>\n",
       "    </tr>\n",
       "    <tr>\n",
       "      <th>874</th>\n",
       "      <td>7</td>\n",
       "      <td>1</td>\n",
       "      <td>4.5</td>\n",
       "      <td>1106635946</td>\n",
       "    </tr>\n",
       "    <tr>\n",
       "      <th>1434</th>\n",
       "      <td>15</td>\n",
       "      <td>1</td>\n",
       "      <td>2.5</td>\n",
       "      <td>1510577970</td>\n",
       "    </tr>\n",
       "    <tr>\n",
       "      <th>1667</th>\n",
       "      <td>17</td>\n",
       "      <td>1</td>\n",
       "      <td>4.5</td>\n",
       "      <td>1305696483</td>\n",
       "    </tr>\n",
       "    <tr>\n",
       "      <th>...</th>\n",
       "      <td>...</td>\n",
       "      <td>...</td>\n",
       "      <td>...</td>\n",
       "      <td>...</td>\n",
       "    </tr>\n",
       "    <tr>\n",
       "      <th>97364</th>\n",
       "      <td>606</td>\n",
       "      <td>1</td>\n",
       "      <td>2.5</td>\n",
       "      <td>1349082950</td>\n",
       "    </tr>\n",
       "    <tr>\n",
       "      <th>98479</th>\n",
       "      <td>607</td>\n",
       "      <td>1</td>\n",
       "      <td>4.0</td>\n",
       "      <td>964744033</td>\n",
       "    </tr>\n",
       "    <tr>\n",
       "      <th>98666</th>\n",
       "      <td>608</td>\n",
       "      <td>1</td>\n",
       "      <td>2.5</td>\n",
       "      <td>1117408267</td>\n",
       "    </tr>\n",
       "    <tr>\n",
       "      <th>99497</th>\n",
       "      <td>609</td>\n",
       "      <td>1</td>\n",
       "      <td>3.0</td>\n",
       "      <td>847221025</td>\n",
       "    </tr>\n",
       "    <tr>\n",
       "      <th>99534</th>\n",
       "      <td>610</td>\n",
       "      <td>1</td>\n",
       "      <td>5.0</td>\n",
       "      <td>1479542900</td>\n",
       "    </tr>\n",
       "  </tbody>\n",
       "</table>\n",
       "<p>215 rows × 4 columns</p>\n",
       "</div>"
      ],
      "text/plain": [
       "       userId  movieId  rating   timestamp\n",
       "0           1        1     4.0   964982703\n",
       "516         5        1     4.0   847434962\n",
       "874         7        1     4.5  1106635946\n",
       "1434       15        1     2.5  1510577970\n",
       "1667       17        1     4.5  1305696483\n",
       "...       ...      ...     ...         ...\n",
       "97364     606        1     2.5  1349082950\n",
       "98479     607        1     4.0   964744033\n",
       "98666     608        1     2.5  1117408267\n",
       "99497     609        1     3.0   847221025\n",
       "99534     610        1     5.0  1479542900\n",
       "\n",
       "[215 rows x 4 columns]"
      ]
     },
     "execution_count": 52,
     "metadata": {},
     "output_type": "execute_result"
    }
   ],
   "source": [
    "notas1 = notas.query('movieId==1')\n",
    "notas1"
   ]
  },
  {
   "cell_type": "code",
   "execution_count": 53,
   "id": "ca46679e-d2a2-47bf-9fb8-7c15a442074f",
   "metadata": {},
   "outputs": [
    {
     "name": "stderr",
     "output_type": "stream",
     "text": [
      "C:\\Users\\COMISSARIADO\\anaconda3\\lib\\site-packages\\seaborn\\distributions.py:2619: FutureWarning: `distplot` is a deprecated function and will be removed in a future version. Please adapt your code to use either `displot` (a figure-level function with similar flexibility) or `histplot` (an axes-level function for histograms).\n",
      "  warnings.warn(msg, FutureWarning)\n"
     ]
    },
    {
     "data": {
      "text/plain": [
       "Text(0.5, 1.0, 'Distribuição das notas para o Toy Story')"
      ]
     },
     "execution_count": 53,
     "metadata": {},
     "output_type": "execute_result"
    },
    {
     "data": {
      "image/png": "[encoded data removed]",
      "text/plain": [
       "<Figure size 432x288 with 1 Axes>"
      ]
     },
     "metadata": {
      "needs_background": "light"
     },
     "output_type": "display_data"
    }
   ],
   "source": [
    "#plotando as notas do movieId==1 (n=215)\n",
    "# as notas são discretas ordinais, de .5 em .5, de 0 a 5\n",
    "\n",
    "ax = sns.distplot(notas1.rating)\n",
    "ax.set(xlabel='Notas do Toy Story', ylabel='Densidade')\n",
    "ax.set_title('Distribuição das notas para o Toy Story')"
   ]
  },
  {
   "cell_type": "code",
   "execution_count": 54,
   "id": "6b3264be-d61c-4eb4-971b-8195ba379b42",
   "metadata": {},
   "outputs": [
    {
     "name": "stderr",
     "output_type": "stream",
     "text": [
      "C:\\Users\\COMISSARIADO\\anaconda3\\lib\\site-packages\\seaborn\\_decorators.py:36: FutureWarning: Pass the following variable as a keyword arg: x. From version 0.12, the only valid positional argument will be `data`, and passing other arguments without an explicit keyword will result in an error or misinterpretation.\n",
      "  warnings.warn(\n"
     ]
    },
    {
     "data": {
      "text/plain": [
       "Text(0.5, 1.0, 'Distribuição das notas para o Toy Story')"
      ]
     },
     "execution_count": 54,
     "metadata": {},
     "output_type": "execute_result"
    },
    {
     "data": {
      "image/png": "[encoded data removed]",
      "text/plain": [
       "<Figure size 432x288 with 1 Axes>"
      ]
     },
     "metadata": {
      "needs_background": "light"
     },
     "output_type": "display_data"
    }
   ],
   "source": [
    "ax = sns.boxplot(notas1.rating)\n",
    "ax.set(xlabel='Notas do Toy Story')\n",
    "ax.set_title('Distribuição das notas para o Toy Story')"
   ]
  },
  {
   "cell_type": "code",
   "execution_count": 55,
   "id": "fbf2e12f-a2b2-4770-92bb-dc5b44026fa8",
   "metadata": {},
   "outputs": [
    {
     "data": {
      "text/plain": [
       "3.9209302325581397"
      ]
     },
     "execution_count": 55,
     "metadata": {},
     "output_type": "execute_result"
    }
   ],
   "source": [
    "notas1.rating.mean()"
   ]
  },
  {
   "cell_type": "code",
   "execution_count": 56,
   "id": "03803802-86b9-4dde-8a7b-2f9d0f874083",
   "metadata": {},
   "outputs": [
    {
     "data": {
      "text/plain": [
       "count    215.000000\n",
       "mean       3.920930\n",
       "std        0.834859\n",
       "min        0.500000\n",
       "25%        3.500000\n",
       "50%        4.000000\n",
       "75%        4.500000\n",
       "max        5.000000\n",
       "Name: rating, dtype: float64"
      ]
     },
     "execution_count": 56,
     "metadata": {},
     "output_type": "execute_result"
    }
   ],
   "source": [
    "notas1.rating.describe()"
   ]
  },
  {
   "cell_type": "code",
   "execution_count": 57,
   "id": "a0cf7c4b-1cb8-4209-957e-497761bf2ed5",
   "metadata": {},
   "outputs": [
    {
     "data": {
      "text/plain": [
       "(3.8093359183563402, 4.032524546759939)"
      ]
     },
     "execution_count": 57,
     "metadata": {},
     "output_type": "execute_result"
    }
   ],
   "source": [
    "#INTERVALO DE CONFIANCA PARA ALPHA = .05\n",
    "zconfint(notas1.rating)"
   ]
  },
  {
   "cell_type": "markdown",
   "id": "df71d5c0-4a23-45b9-994a-4cfd0474b2ff",
   "metadata": {},
   "source": [
    "## Usando o Z-Test"
   ]
  },
  {
   "cell_type": "markdown",
   "id": "5cb787b1-0959-4636-8977-e83e04e3d8c1",
   "metadata": {},
   "source": [
    "### https://www.statsmodels.org/dev/generated/statsmodels.stats.weightstats.ztest.html"
   ]
  },
  {
   "cell_type": "code",
   "execution_count": 58,
   "id": "26d95bc5-c24c-43ce-b83c-bff519e72946",
   "metadata": {},
   "outputs": [],
   "source": [
    "# Necessário amostra >=30!!!\n"
   ]
  },
  {
   "cell_type": "code",
   "execution_count": 59,
   "id": "1e86b9ba-4191-48f3-bca4-04d975ac447b",
   "metadata": {},
   "outputs": [
    {
     "data": {
      "text/plain": [
       "(8.586342305916716, 8.978190401886942e-18)"
      ]
     },
     "execution_count": 59,
     "metadata": {},
     "output_type": "execute_result"
    }
   ],
   "source": [
    "from statsmodels.stats.weightstats import ztest\n",
    "\n",
    "ztest(notas1.rating, value = 3.4320503405352603) #value é a média geral da amostra!"
   ]
  },
  {
   "cell_type": "markdown",
   "id": "78d95379-8d41-4aff-ac63-a5c0bfe2d1f8",
   "metadata": {},
   "source": [
    "### O segundo valor (p-value), se menor do que o alpha (.05), significa que a hipótese nula (de que a média de notas1 é igual à média geral)"
   ]
  },
  {
   "cell_type": "code",
   "execution_count": 60,
   "id": "fd09ab01-ed75-4db7-bac7-de6ace18c9b4",
   "metadata": {},
   "outputs": [],
   "source": [
    "# Ou seja: o toy story de fato possui uma média diferente dos outros filmes!"
   ]
  },
  {
   "cell_type": "markdown",
   "id": "d679c7f8-cb04-4fc6-b243-1b627394fa8e",
   "metadata": {},
   "source": [
    "## Problemas de amostras pequenas"
   ]
  },
  {
   "cell_type": "code",
   "execution_count": 61,
   "id": "f1c27f22-4380-425f-8e76-97e6790faf74",
   "metadata": {},
   "outputs": [
    {
     "data": {
      "text/plain": [
       "[<matplotlib.lines.Line2D at 0x223d5c11070>]"
      ]
     },
     "execution_count": 61,
     "metadata": {},
     "output_type": "execute_result"
    },
    {
     "data": {
      "image/png": "[encoded data removed]",
      "text/plain": [
       "<Figure size 432x288 with 1 Axes>"
      ]
     },
     "metadata": {
      "needs_background": "light"
     },
     "output_type": "display_data"
    }
   ],
   "source": [
    "np.random.seed(75241)\n",
    "temp = notas1.sample(frac=1).rating\n",
    "\n",
    "\n",
    "medias = [temp[0:i].mean() for i in range(1, len(temp))]\n",
    "\n",
    "plt.plot(medias)"
   ]
  },
  {
   "cell_type": "code",
   "execution_count": 62,
   "id": "a568216e-0a6c-449f-9a5b-8285127f1534",
   "metadata": {},
   "outputs": [
    {
     "data": {
      "text/plain": [
       "pandas.core.series.Series"
      ]
     },
     "execution_count": 62,
     "metadata": {},
     "output_type": "execute_result"
    }
   ],
   "source": [
    "type(temp)"
   ]
  },
  {
   "cell_type": "code",
   "execution_count": 63,
   "id": "01d4a422-9a63-411a-b53d-83811ed4a436",
   "metadata": {},
   "outputs": [
    {
     "data": {
      "text/plain": [
       "list"
      ]
     },
     "execution_count": 63,
     "metadata": {},
     "output_type": "execute_result"
    }
   ],
   "source": [
    "type(medias)"
   ]
  },
  {
   "cell_type": "code",
   "execution_count": 64,
   "id": "31a17111-5cf7-4f4e-8d82-498d1d116666",
   "metadata": {},
   "outputs": [
    {
     "data": {
      "text/plain": [
       "[<matplotlib.lines.Line2D at 0x223d5cfd3a0>]"
      ]
     },
     "execution_count": 64,
     "metadata": {},
     "output_type": "execute_result"
    },
    {
     "data": {
      "image/png": "[encoded data removed]",
      "text/plain": [
       "<Figure size 432x288 with 1 Axes>"
      ]
     },
     "metadata": {
      "needs_background": "light"
     },
     "output_type": "display_data"
    }
   ],
   "source": [
    "#calcula o Z-Test para cada i\n",
    "\n",
    "np.random.seed(75241)\n",
    "temp = notas1.sample(frac=1).rating\n",
    "\n",
    "def calcula_teste(i):\n",
    "    media = temp[0:i].mean()\n",
    "    stat, p = ztest(temp[0:i], value = 3.4320503405352603) \n",
    "    return (i, media, p)\n",
    "\n",
    "valores =  np.array([calcula_teste(i) for i in range(2, len(temp))]) # transforma em array numpy, para poder fazer o corte e plotar\n",
    "\n",
    "plt.plot(valores[:,0], valores[:,1]) #não entendi, mas serve pra não começar no zero \n",
    "#eixo x é valores item 0, e eixo y é valores item 1\n"
   ]
  },
  {
   "cell_type": "markdown",
   "id": "5a54c51b-5172-4228-8baa-f42578536340",
   "metadata": {},
   "source": [
    "### Plotagem da média por tamanho da amostra (acima)"
   ]
  },
  {
   "cell_type": "code",
   "execution_count": 65,
   "id": "d8b11a56-7c91-44eb-82ad-f0de494fc814",
   "metadata": {},
   "outputs": [],
   "source": [
    "# aqui é feito no mesmo gráfico a plotagem da média e do p-value"
   ]
  },
  {
   "cell_type": "code",
   "execution_count": 66,
   "id": "666c7862-3447-4d09-9b05-a31d602830e9",
   "metadata": {},
   "outputs": [
    {
     "data": {
      "text/plain": [
       "<matplotlib.collections.LineCollection at 0x223d5d49310>"
      ]
     },
     "execution_count": 66,
     "metadata": {},
     "output_type": "execute_result"
    },
    {
     "data": {
      "image/png": "[encoded data removed]",
      "text/plain": [
       "<Figure size 432x288 with 1 Axes>"
      ]
     },
     "metadata": {
      "needs_background": "light"
     },
     "output_type": "display_data"
    }
   ],
   "source": [
    "plt.plot(valores[:,0],valores[:,1])\n",
    "plt.plot(valores[:,0],valores[:,2])\n",
    "plt.hlines(y=.05, xmin=2, xmax=len(temp), colors = 'r')"
   ]
  },
  {
   "cell_type": "code",
   "execution_count": 67,
   "id": "3e862208-8248-4f3d-8e98-c29607c046ff",
   "metadata": {},
   "outputs": [
    {
     "data": {
      "text/plain": [
       "array([[2.00000000e+00, 4.50000000e+00, 3.26876211e-02],\n",
       "       [3.00000000e+00, 4.00000000e+00, 3.25254351e-01],\n",
       "       [4.00000000e+00, 3.87500000e+00, 2.99521970e-01],\n",
       "       [5.00000000e+00, 3.90000000e+00, 1.58267818e-01],\n",
       "       [6.00000000e+00, 3.91666667e+00, 7.40693646e-02],\n",
       "       [7.00000000e+00, 3.92857143e+00, 3.05837219e-02],\n",
       "       [8.00000000e+00, 4.06250000e+00, 8.54684682e-03],\n",
       "       [9.00000000e+00, 3.94444444e+00, 3.43513698e-02],\n",
       "       [1.00000000e+01, 3.60000000e+00, 6.79775744e-01],\n",
       "       [1.10000000e+01, 3.59090909e+00, 6.66104056e-01],\n",
       "       [1.20000000e+01, 3.50000000e+00, 8.45259443e-01],\n",
       "       [1.30000000e+01, 3.50000000e+00, 8.31972270e-01],\n",
       "       [1.40000000e+01, 3.53571429e+00, 7.28503654e-01],\n",
       "       [1.50000000e+01, 3.60000000e+00, 5.56156495e-01],\n",
       "       [1.60000000e+01, 3.56250000e+00, 6.28416636e-01],\n",
       "       [1.70000000e+01, 3.64705882e+00, 4.20561961e-01],\n",
       "       [1.80000000e+01, 3.72222222e+00, 2.69271809e-01],\n",
       "       [1.90000000e+01, 3.68421053e+00, 3.15739563e-01],\n",
       "       [2.00000000e+01, 3.65000000e+00, 3.65581172e-01],\n",
       "       [2.10000000e+01, 3.57142857e+00, 5.65017036e-01],\n",
       "       [2.20000000e+01, 3.59090909e+00, 4.93088509e-01],\n",
       "       [2.30000000e+01, 3.60869565e+00, 4.26582466e-01],\n",
       "       [2.40000000e+01, 3.62500000e+00, 3.65783375e-01],\n",
       "       [2.50000000e+01, 3.64000000e+00, 3.10828735e-01],\n",
       "       [2.60000000e+01, 3.65384615e+00, 2.61717590e-01],\n",
       "       [2.70000000e+01, 3.64814815e+00, 2.55999905e-01],\n",
       "       [2.80000000e+01, 3.69642857e+00, 1.63141374e-01],\n",
       "       [2.90000000e+01, 3.74137931e+00, 1.00549868e-01],\n",
       "       [3.00000000e+01, 3.73333333e+00, 9.81271883e-02],\n",
       "       [3.10000000e+01, 3.74193548e+00, 7.89487789e-02],\n",
       "       [3.20000000e+01, 3.67187500e+00, 1.93890494e-01],\n",
       "       [3.30000000e+01, 3.66666667e+00, 1.89944353e-01],\n",
       "       [3.40000000e+01, 3.70588235e+00, 1.24004788e-01],\n",
       "       [3.50000000e+01, 3.74285714e+00, 7.87082134e-02],\n",
       "       [3.60000000e+01, 3.72222222e+00, 9.35357606e-02],\n",
       "       [3.70000000e+01, 3.70270270e+00, 1.10135903e-01],\n",
       "       [3.80000000e+01, 3.73684211e+00, 7.02939802e-02],\n",
       "       [3.90000000e+01, 3.74358974e+00, 5.77196007e-02],\n",
       "       [4.00000000e+01, 3.72500000e+00, 6.89566996e-02],\n",
       "       [4.10000000e+01, 3.75609756e+00, 4.30276969e-02],\n",
       "       [4.20000000e+01, 3.78571429e+00, 2.61926823e-02],\n",
       "       [4.30000000e+01, 3.81395349e+00, 1.55599321e-02],\n",
       "       [4.40000000e+01, 3.81818182e+00, 1.23327254e-02],\n",
       "       [4.50000000e+01, 3.82222222e+00, 9.71325070e-03],\n",
       "       [4.60000000e+01, 3.80434783e+00, 1.22604041e-02],\n",
       "       [4.70000000e+01, 3.78723404e+00, 1.52990593e-02],\n",
       "       [4.80000000e+01, 3.81250000e+00, 8.96618888e-03],\n",
       "       [4.90000000e+01, 3.80612245e+00, 8.76688400e-03],\n",
       "       [5.00000000e+01, 3.81000000e+00, 6.89753729e-03],\n",
       "       [5.10000000e+01, 3.81372549e+00, 5.39451616e-03],\n",
       "       [5.20000000e+01, 3.81730769e+00, 4.19384423e-03],\n",
       "       [5.30000000e+01, 3.80188679e+00, 5.38521229e-03],\n",
       "       [5.40000000e+01, 3.80555556e+00, 4.19576337e-03],\n",
       "       [5.50000000e+01, 3.79090909e+00, 5.36835295e-03],\n",
       "       [5.60000000e+01, 3.77678571e+00, 6.79420566e-03],\n",
       "       [5.70000000e+01, 3.76315789e+00, 8.51222020e-03],\n",
       "       [5.80000000e+01, 3.78448276e+00, 4.97555857e-03],\n",
       "       [5.90000000e+01, 3.78813559e+00, 3.90405043e-03],\n",
       "       [6.00000000e+01, 3.80833333e+00, 2.21691552e-03],\n",
       "       [6.10000000e+01, 3.81147541e+00, 1.71348566e-03],\n",
       "       [6.20000000e+01, 3.79838710e+00, 2.21854683e-03],\n",
       "       [6.30000000e+01, 3.79365079e+00, 2.16670911e-03],\n",
       "       [6.40000000e+01, 3.78906250e+00, 2.11557430e-03],\n",
       "       [6.50000000e+01, 3.79230769e+00, 1.63816969e-03],\n",
       "       [6.60000000e+01, 3.78030303e+00, 2.11290472e-03],\n",
       "       [6.70000000e+01, 3.78358209e+00, 1.63917965e-03],\n",
       "       [6.80000000e+01, 3.77205882e+00, 2.10787701e-03],\n",
       "       [6.90000000e+01, 3.77536232e+00, 1.63820801e-03],\n",
       "       [7.00000000e+01, 3.77857143e+00, 1.26670468e-03],\n",
       "       [7.10000000e+01, 3.76056338e+00, 2.24260477e-03],\n",
       "       [7.20000000e+01, 3.76388889e+00, 1.75250848e-03],\n",
       "       [7.30000000e+01, 3.77397260e+00, 1.13652508e-03],\n",
       "       [7.40000000e+01, 3.79054054e+00, 6.36108591e-04],\n",
       "       [7.50000000e+01, 3.80666667e+00, 3.50424452e-04],\n",
       "       [7.60000000e+01, 3.81578947e+00, 2.18415198e-04],\n",
       "       [7.70000000e+01, 3.81168831e+00, 2.13338973e-04],\n",
       "       [7.80000000e+01, 3.81410256e+00, 1.60742377e-04],\n",
       "       [7.90000000e+01, 3.81645570e+00, 1.20536162e-04],\n",
       "       [8.00000000e+01, 3.83125000e+00, 6.35513542e-05],\n",
       "       [8.10000000e+01, 3.84567901e+00, 3.30072293e-05],\n",
       "       [8.20000000e+01, 3.84146341e+00, 3.23040037e-05],\n",
       "       [8.30000000e+01, 3.84337349e+00, 2.37455688e-05],\n",
       "       [8.40000000e+01, 3.85714286e+00, 1.20770733e-05],\n",
       "       [8.50000000e+01, 3.84705882e+00, 1.70886732e-05],\n",
       "       [8.60000000e+01, 3.83139535e+00, 3.60818562e-05],\n",
       "       [8.70000000e+01, 3.83333333e+00, 2.68125761e-05],\n",
       "       [8.80000000e+01, 3.82386364e+00, 3.68156251e-05],\n",
       "       [8.90000000e+01, 3.80898876e+00, 7.31387061e-05],\n",
       "       [9.00000000e+01, 3.81111111e+00, 5.52560685e-05],\n",
       "       [9.10000000e+01, 3.81318681e+00, 4.15721710e-05],\n",
       "       [9.20000000e+01, 3.82065217e+00, 2.54050853e-05],\n",
       "       [9.30000000e+01, 3.82258065e+00, 1.89116132e-05],\n",
       "       [9.40000000e+01, 3.82446809e+00, 1.40192848e-05],\n",
       "       [9.50000000e+01, 3.81578947e+00, 1.93002452e-05],\n",
       "       [9.60000000e+01, 3.81770833e+00, 1.43371543e-05],\n",
       "       [9.70000000e+01, 3.82989691e+00, 7.47044036e-06],\n",
       "       [9.80000000e+01, 3.84183673e+00, 3.84367982e-06],\n",
       "       [9.90000000e+01, 3.82323232e+00, 1.31018810e-05],\n",
       "       [1.00000000e+02, 3.81500000e+00, 1.77381032e-05],\n",
       "       [1.01000000e+02, 3.79702970e+00, 5.15631924e-05],\n",
       "       [1.02000000e+02, 3.79901961e+00, 3.95691655e-05],\n",
       "       [1.03000000e+02, 3.78155340e+00, 1.05324901e-04],\n",
       "       [1.04000000e+02, 3.78365385e+00, 8.20734096e-05],\n",
       "       [1.05000000e+02, 3.78571429e+00, 6.37366680e-05],\n",
       "       [1.06000000e+02, 3.78773585e+00, 4.93276207e-05],\n",
       "       [1.07000000e+02, 3.79439252e+00, 3.15851049e-05],\n",
       "       [1.08000000e+02, 3.78240741e+00, 5.74119565e-05],\n",
       "       [1.09000000e+02, 3.78440367e+00, 4.45206381e-05],\n",
       "       [1.10000000e+02, 3.79545455e+00, 2.50349980e-05],\n",
       "       [1.11000000e+02, 3.80180180e+00, 1.59338365e-05],\n",
       "       [1.12000000e+02, 3.80357143e+00, 1.21816761e-05],\n",
       "       [1.13000000e+02, 3.80530973e+00, 9.28238515e-06],\n",
       "       [1.14000000e+02, 3.80701754e+00, 7.04980010e-06],\n",
       "       [1.15000000e+02, 3.80869565e+00, 5.33651295e-06],\n",
       "       [1.16000000e+02, 3.80172414e+00, 7.13242034e-06],\n",
       "       [1.17000000e+02, 3.81196581e+00, 3.87772396e-06],\n",
       "       [1.18000000e+02, 3.80932203e+00, 3.78902454e-06],\n",
       "       [1.19000000e+02, 3.80672269e+00, 3.70165239e-06],\n",
       "       [1.20000000e+02, 3.80416667e+00, 3.61562445e-06],\n",
       "       [1.21000000e+02, 3.80991736e+00, 2.23440902e-06],\n",
       "       [1.22000000e+02, 3.81967213e+00, 1.19359214e-06],\n",
       "       [1.23000000e+02, 3.82113821e+00, 8.90777191e-07],\n",
       "       [1.24000000e+02, 3.81451613e+00, 1.21655280e-06],\n",
       "       [1.25000000e+02, 3.80800000e+00, 1.64920292e-06],\n",
       "       [1.26000000e+02, 3.80952381e+00, 1.23839020e-06],\n",
       "       [1.27000000e+02, 3.79921260e+00, 2.44470905e-06],\n",
       "       [1.28000000e+02, 3.80859375e+00, 1.32596263e-06],\n",
       "       [1.29000000e+02, 3.80232558e+00, 1.77997168e-06],\n",
       "       [1.30000000e+02, 3.78846154e+00, 5.10674028e-06],\n",
       "       [1.31000000e+02, 3.78625954e+00, 4.98691373e-06],\n",
       "       [1.32000000e+02, 3.79545455e+00, 2.77994027e-06],\n",
       "       [1.33000000e+02, 3.79323308e+00, 2.71524721e-06],\n",
       "       [1.34000000e+02, 3.79477612e+00, 2.07587279e-06],\n",
       "       [1.35000000e+02, 3.78518519e+00, 3.86981827e-06],\n",
       "       [1.36000000e+02, 3.78676471e+00, 2.97715011e-06],\n",
       "       [1.37000000e+02, 3.78467153e+00, 2.90685530e-06],\n",
       "       [1.38000000e+02, 3.78623188e+00, 2.22997826e-06],\n",
       "       [1.39000000e+02, 3.78057554e+00, 2.92302054e-06],\n",
       "       [1.40000000e+02, 3.78571429e+00, 1.86173699e-06],\n",
       "       [1.41000000e+02, 3.78014184e+00, 2.44185078e-06],\n",
       "       [1.42000000e+02, 3.78169014e+00, 1.87434966e-06],\n",
       "       [1.43000000e+02, 3.78321678e+00, 1.43481293e-06],\n",
       "       [1.44000000e+02, 3.78472222e+00, 1.09534891e-06],\n",
       "       [1.45000000e+02, 3.78620690e+00, 8.33914593e-07],\n",
       "       [1.46000000e+02, 3.79452055e+00, 4.56541001e-07],\n",
       "       [1.47000000e+02, 3.80272109e+00, 2.47810681e-07],\n",
       "       [1.48000000e+02, 3.80405405e+00, 1.86476315e-07],\n",
       "       [1.49000000e+02, 3.80536913e+00, 1.39944973e-07],\n",
       "       [1.50000000e+02, 3.80666667e+00, 1.04741879e-07],\n",
       "       [1.51000000e+02, 3.81456954e+00, 5.56387382e-08],\n",
       "       [1.52000000e+02, 3.82236842e+00, 2.93105574e-08],\n",
       "       [1.53000000e+02, 3.82352941e+00, 2.16910698e-08],\n",
       "       [1.54000000e+02, 3.82792208e+00, 1.29653324e-08],\n",
       "       [1.55000000e+02, 3.83548387e+00, 6.69721359e-09],\n",
       "       [1.56000000e+02, 3.83653846e+00, 4.90242790e-09],\n",
       "       [1.57000000e+02, 3.83757962e+00, 3.57919867e-09],\n",
       "       [1.58000000e+02, 3.83227848e+00, 5.06503828e-09],\n",
       "       [1.59000000e+02, 3.83962264e+00, 2.59312266e-09],\n",
       "       [1.60000000e+02, 3.84062500e+00, 1.88825401e-09],\n",
       "       [1.61000000e+02, 3.82919255e+00, 6.89862648e-09],\n",
       "       [1.62000000e+02, 3.83024691e+00, 5.08865419e-09],\n",
       "       [1.63000000e+02, 3.83128834e+00, 3.74416511e-09],\n",
       "       [1.64000000e+02, 3.82621951e+00, 5.23409617e-09],\n",
       "       [1.65000000e+02, 3.83333333e+00, 2.71504538e-09],\n",
       "       [1.66000000e+02, 3.83433735e+00, 1.99248563e-09],\n",
       "       [1.67000000e+02, 3.84131737e+00, 1.02165825e-09],\n",
       "       [1.68000000e+02, 3.84523810e+00, 5.98601443e-10],\n",
       "       [1.69000000e+02, 3.85207101e+00, 3.02604651e-10],\n",
       "       [1.70000000e+02, 3.85000000e+00, 2.96678912e-10],\n",
       "       [1.71000000e+02, 3.85087719e+00, 2.14734248e-10],\n",
       "       [1.72000000e+02, 3.84593023e+00, 3.08741192e-10],\n",
       "       [1.73000000e+02, 3.84971098e+00, 1.79178935e-10],\n",
       "       [1.74000000e+02, 3.85057471e+00, 1.29397029e-10],\n",
       "       [1.75000000e+02, 3.85428571e+00, 7.43737530e-11],\n",
       "       [1.76000000e+02, 3.86079545e+00, 3.68536490e-11],\n",
       "       [1.77000000e+02, 3.86723164e+00, 1.81289945e-11],\n",
       "       [1.78000000e+02, 3.87078652e+00, 1.02268841e-11],\n",
       "       [1.79000000e+02, 3.86312849e+00, 2.47640721e-11],\n",
       "       [1.80000000e+02, 3.86388889e+00, 1.77385695e-11],\n",
       "       [1.81000000e+02, 3.87016575e+00, 8.70923302e-12],\n",
       "       [1.82000000e+02, 3.87087912e+00, 6.20188662e-12],\n",
       "       [1.83000000e+02, 3.86612022e+00, 9.18602982e-12],\n",
       "       [1.84000000e+02, 3.86684783e+00, 6.55136516e-12],\n",
       "       [1.85000000e+02, 3.87027027e+00, 3.68848231e-12],\n",
       "       [1.86000000e+02, 3.87634409e+00, 1.78725791e-12],\n",
       "       [1.87000000e+02, 3.88235294e+00, 8.60003783e-13],\n",
       "       [1.88000000e+02, 3.88297872e+00, 6.05615022e-13],\n",
       "       [1.89000000e+02, 3.88359788e+00, 4.25512921e-13],\n",
       "       [1.90000000e+02, 3.88684211e+00, 2.33704240e-13],\n",
       "       [1.91000000e+02, 3.88743455e+00, 1.63269853e-13],\n",
       "       [1.92000000e+02, 3.88802083e+00, 1.13806300e-13],\n",
       "       [1.93000000e+02, 3.88860104e+00, 7.91493424e-14],\n",
       "       [1.94000000e+02, 3.89175258e+00, 4.27825844e-14],\n",
       "       [1.95000000e+02, 3.89230769e+00, 2.95855547e-14],\n",
       "       [1.96000000e+02, 3.88775510e+00, 4.62347615e-14],\n",
       "       [1.97000000e+02, 3.89086294e+00, 2.49328007e-14],\n",
       "       [1.98000000e+02, 3.89393939e+00, 1.33706840e-14],\n",
       "       [1.99000000e+02, 3.89949749e+00, 6.16061375e-15],\n",
       "       [2.00000000e+02, 3.89500000e+00, 9.74907416e-15],\n",
       "       [2.01000000e+02, 3.89552239e+00, 6.71276811e-15],\n",
       "       [2.02000000e+02, 3.89603960e+00, 4.61195201e-15],\n",
       "       [2.03000000e+02, 3.89655172e+00, 3.16164147e-15],\n",
       "       [2.04000000e+02, 3.90196078e+00, 1.44384900e-15],\n",
       "       [2.05000000e+02, 3.89756098e+00, 2.30984574e-15],\n",
       "       [2.06000000e+02, 3.90291262e+00, 1.05559988e-15],\n",
       "       [2.07000000e+02, 3.90821256e+00, 4.79308868e-16],\n",
       "       [2.08000000e+02, 3.90865385e+00, 3.26099104e-16],\n",
       "       [2.09000000e+02, 3.91387560e+00, 1.46669403e-16],\n",
       "       [2.10000000e+02, 3.91428571e+00, 9.92703009e-17],\n",
       "       [2.11000000e+02, 3.91469194e+00, 6.70462575e-17],\n",
       "       [2.12000000e+02, 3.91509434e+00, 4.51861152e-17],\n",
       "       [2.13000000e+02, 3.91549296e+00, 3.03885940e-17],\n",
       "       [2.14000000e+02, 3.92056075e+00, 1.34183252e-17]])"
      ]
     },
     "execution_count": 67,
     "metadata": {},
     "output_type": "execute_result"
    }
   ],
   "source": [
    " valores # é um array de listas com tres itens cada: i (n), média para aquele tamanho de n e o p-value correspondente"
   ]
  },
  {
   "cell_type": "markdown",
   "id": "9033a77a-23cd-47da-ab71-f9fd970c148a",
   "metadata": {},
   "source": [
    "## CONCLUSÃO: Z-TEST É USADO APENAS COM UM NÚMERO SIGNIFICATIVO DE ITENS NA AMOSTRA"
   ]
  },
  {
   "cell_type": "code",
   "execution_count": 68,
   "id": "57a56553-054d-4c74-ad55-121c6e605163",
   "metadata": {},
   "outputs": [
    {
     "data": {
      "text/plain": [
       "'\\nNessa situação (COM AMOSTRA MUITO PEQUENA), poderia-se afirmar, a partir do Teste Z:\\n\\nque não há evidências para descartar a hipótese nula\\nque não há dados suficientes para tirar essa conclusão\\n'"
      ]
     },
     "execution_count": 68,
     "metadata": {},
     "output_type": "execute_result"
    }
   ],
   "source": [
    "'''\n",
    "Nessa situação (COM AMOSTRA MUITO PEQUENA), poderia-se afirmar, a partir do Teste Z:\n",
    "\n",
    "que não há evidências para descartar a hipótese nula\n",
    "que não há dados suficientes para tirar essa conclusão\n",
    "'''"
   ]
  },
  {
   "cell_type": "markdown",
   "id": "5ac7c2c8-a244-4dba-9367-6782e4981c73",
   "metadata": {},
   "source": [
    "## Comparando a média de duas amostras"
   ]
  },
  {
   "cell_type": "code",
   "execution_count": 69,
   "id": "30f8b57f-465c-4887-8f52-656aa195b4b9",
   "metadata": {},
   "outputs": [
    {
     "name": "stdout",
     "output_type": "stream",
     "text": [
      "(-5.894327101501841, 3.762112778881965e-09)\n"
     ]
    },
    {
     "data": {
      "text/plain": [
       "(-0.5588219849631111, -0.2799245129192442)"
      ]
     },
     "execution_count": 69,
     "metadata": {},
     "output_type": "execute_result"
    }
   ],
   "source": [
    "print(ztest(notas.rating, notas1.rating)) #existe uma diferença significante, que está representada dentro do intervalo de confiança que calculamos abaixo.\n",
    "      \n",
    "zconfint(notas.rating, notas1.rating) # A notas1 é de 0.28 a 0.56 MAIOR que a notas"
   ]
  },
  {
   "cell_type": "markdown",
   "id": "893ba241-9834-453a-b159-3ea3683c4a5b",
   "metadata": {},
   "source": [
    "### Significado: Existe uma diferença significativa da notas1 para notas, e essa diferença está dentro do intervalo com 95% de confiança"
   ]
  },
  {
   "cell_type": "markdown",
   "id": "4e794d7a-659a-4088-8360-a24be1ff6da3",
   "metadata": {},
   "source": [
    "## Usando o T-Test com as duas amostras (com scipy)"
   ]
  },
  {
   "cell_type": "markdown",
   "id": "d5463a55-8c0d-41d6-b559-fb16706ba962",
   "metadata": {},
   "source": [
    "### https://docs.scipy.org/doc/scipy/reference/generated/scipy.stats.ttest_ind.html"
   ]
  },
  {
   "cell_type": "code",
   "execution_count": 70,
   "id": "52dce3b2-7693-4cf8-b937-2167042cf009",
   "metadata": {},
   "outputs": [
    {
     "data": {
      "text/plain": [
       "Ttest_indResult(statistic=-5.894327101501841, pvalue=3.774003138720876e-09)"
      ]
     },
     "execution_count": 70,
     "metadata": {},
     "output_type": "execute_result"
    }
   ],
   "source": [
    "from scipy.stats import ttest_ind\n",
    "\n",
    "ttest_ind(notas.rating, notas1.rating)"
   ]
  },
  {
   "cell_type": "code",
   "execution_count": 71,
   "id": "eadc6016-9fb4-49a3-b06a-3b92404bf5d8",
   "metadata": {},
   "outputs": [
    {
     "data": {
      "text/plain": [
       "'\\nRepare que nosso p value é muito parecido com o do Teste Z, já que nossas distribuições se assemelham muito a uma normal\\ne temos um conjunto de dados bastante populado\\n'"
      ]
     },
     "execution_count": 71,
     "metadata": {},
     "output_type": "execute_result"
    }
   ],
   "source": [
    "'''\n",
    "Repare que nosso p value é muito parecido com o do Teste Z, já que nossas distribuições se assemelham muito a uma normal\n",
    "e temos um conjunto de dados bastante populado\n",
    "'''"
   ]
  },
  {
   "cell_type": "code",
   "execution_count": 72,
   "id": "cb8c6739-a22d-46d3-a152-643ace22e7bf",
   "metadata": {},
   "outputs": [],
   "source": [
    "# O Scipy não tem o t-test com intervalo de confiança"
   ]
  },
  {
   "cell_type": "markdown",
   "id": "97696012-56e2-44a1-b345-5f2dfa9a1d7f",
   "metadata": {},
   "source": [
    "### https://www.statsmodels.org/dev/generated/statsmodels.stats.weightstats.CompareMeans.html"
   ]
  },
  {
   "cell_type": "code",
   "execution_count": 73,
   "id": "78308d75-3e88-4334-88fb-4c12d74fffaa",
   "metadata": {},
   "outputs": [
    {
     "data": {
      "text/html": [
       "<table class=\"simpletable\">\n",
       "<caption>Test for equality of means</caption>\n",
       "<tr>\n",
       "      <td></td>         <th>coef</th>     <th>std err</th>      <th>t</th>      <th>P>|t|</th>  <th>[0.025</th>    <th>0.975]</th>  \n",
       "</tr>\n",
       "<tr>\n",
       "  <th>subset #1</th> <td>   -0.4194</td> <td>    0.071</td> <td>   -5.894</td> <td> 0.000</td> <td>   -0.559</td> <td>   -0.280</td>\n",
       "</tr>\n",
       "</table>"
      ],
      "text/plain": [
       "<class 'statsmodels.iolib.table.SimpleTable'>"
      ]
     },
     "execution_count": 73,
     "metadata": {},
     "output_type": "execute_result"
    }
   ],
   "source": [
    "descr_todas_as_notas = DescrStatsW(notas.rating)\n",
    "\n",
    "#quero comparar duas amostras\n",
    "descr_toystory = DescrStatsW(notas1.rating)\n",
    "comparacao = descr_todas_as_notas.get_compare(descr_toystory) # compara a media das notas de todos os filmes com as do toy story\n",
    "comparacao.summary()"
   ]
  },
  {
   "cell_type": "code",
   "execution_count": 74,
   "id": "7854821d-6faf-4412-98ed-38d10dd9722e",
   "metadata": {},
   "outputs": [],
   "source": [
    "# P-Value: sendo pequeno, descarta a hipótese de serem iguais\n",
    "# Com 95% de confiança, a media das notas gerais é de -.559 a -.28 em relação a notas do toy story"
   ]
  },
  {
   "cell_type": "code",
   "execution_count": 75,
   "id": "60deaa81-5517-42ba-82ca-8a91813880e9",
   "metadata": {},
   "outputs": [
    {
     "data": {
      "text/html": [
       "<table class=\"simpletable\">\n",
       "<caption>Test for equality of means</caption>\n",
       "<tr>\n",
       "      <td></td>         <th>coef</th>     <th>std err</th>      <th>z</th>      <th>P>|z|</th>  <th>[0.025</th>    <th>0.975]</th>  \n",
       "</tr>\n",
       "<tr>\n",
       "  <th>subset #1</th> <td>   -0.4194</td> <td>    0.071</td> <td>   -5.894</td> <td> 0.000</td> <td>   -0.559</td> <td>   -0.280</td>\n",
       "</tr>\n",
       "</table>"
      ],
      "text/plain": [
       "<class 'statsmodels.iolib.table.SimpleTable'>"
      ]
     },
     "execution_count": 75,
     "metadata": {},
     "output_type": "execute_result"
    }
   ],
   "source": [
    "\n",
    "\n",
    "descr_todas_as_notas = DescrStatsW(notas.rating)\n",
    "descr_toystory = DescrStatsW(notas1.rating)\n",
    "comparacao = descr_todas_as_notas.get_compare(descr_toystory)\n",
    "\n",
    "#por padrão, o use_t é True e faz o T-teste. Para usar o Z-Teste, usa-se False\n",
    "comparacao.summary(use_t=False)"
   ]
  },
  {
   "cell_type": "markdown",
   "id": "af2a5f42-6fe7-424b-a723-499227abc1ef",
   "metadata": {},
   "source": [
    "## Analisando Graficamente"
   ]
  },
  {
   "cell_type": "code",
   "execution_count": 76,
   "id": "a48831a9-51e9-4d76-97a8-b521e621c861",
   "metadata": {},
   "outputs": [
    {
     "data": {
      "text/plain": [
       "'3.5.1'"
      ]
     },
     "execution_count": 76,
     "metadata": {},
     "output_type": "execute_result"
    }
   ],
   "source": [
    "import matplotlib as mp\n",
    "\n",
    "import matplotlib.pyplot as plt\n",
    "\n",
    "mp.__version__"
   ]
  },
  {
   "cell_type": "code",
   "execution_count": 77,
   "id": "73ba5404-0f3e-4b97-9ef2-187939fafecb",
   "metadata": {},
   "outputs": [
    {
     "data": {
      "text/plain": [
       "Text(0.5, 1.0, 'Distribuição das notas de acordo com os filmes')"
      ]
     },
     "execution_count": 77,
     "metadata": {},
     "output_type": "execute_result"
    },
    {
     "data": {
      "image/png": "[encoded data removed]",
      "text/plain": [
       "<Figure size 432x288 with 1 Axes>"
      ]
     },
     "metadata": {
      "needs_background": "light"
     },
     "output_type": "display_data"
    }
   ],
   "source": [
    "plt.boxplot([notas.rating, notas1.rating], labels=[\"Todas as notas\", \"Notas Toy Story\"])\n",
    "plt.title(\"Distribuição das notas de acordo com os filmes\")"
   ]
  },
  {
   "cell_type": "markdown",
   "id": "13355aa9-4ef5-4309-8c5c-5fe6948a288f",
   "metadata": {},
   "source": [
    "## Cuidado ao interpretar o intervalo de confiança"
   ]
  },
  {
   "cell_type": "code",
   "execution_count": 78,
   "id": "8c2f726f-5765-4c28-851f-293efe35f736",
   "metadata": {},
   "outputs": [
    {
     "data": {
      "text/plain": [
       "Text(0.5, 1.0, 'Distribuição das notas de acordo com os filmes')"
      ]
     },
     "execution_count": 78,
     "metadata": {},
     "output_type": "execute_result"
    },
    {
     "data": {
      "image/png": "[encoded data removed]",
      "text/plain": [
       "<Figure size 432x288 with 1 Axes>"
      ]
     },
     "metadata": {
      "needs_background": "light"
     },
     "output_type": "display_data"
    }
   ],
   "source": [
    "plt.boxplot([notas.rating, notas1[3:12].rating], labels=[\"Todas as notas\", \"Notas Toy Story do 3 ao 12\"])\n",
    "plt.title(\"Distribuição das notas de acordo com os filmes\")"
   ]
  },
  {
   "cell_type": "code",
   "execution_count": 79,
   "id": "1e721881-b99b-48c6-9991-e44a5a14e595",
   "metadata": {},
   "outputs": [
    {
     "data": {
      "text/html": [
       "<table class=\"simpletable\">\n",
       "<caption>Test for equality of means</caption>\n",
       "<tr>\n",
       "      <td></td>         <th>coef</th>     <th>std err</th>      <th>t</th>      <th>P>|t|</th>  <th>[0.025</th>    <th>0.975]</th>  \n",
       "</tr>\n",
       "<tr>\n",
       "  <th>subset #1</th> <td>   -0.0540</td> <td>    0.348</td> <td>   -0.155</td> <td> 0.877</td> <td>   -0.735</td> <td>    0.627</td>\n",
       "</tr>\n",
       "</table>"
      ],
      "text/plain": [
       "<class 'statsmodels.iolib.table.SimpleTable'>"
      ]
     },
     "execution_count": 79,
     "metadata": {},
     "output_type": "execute_result"
    }
   ],
   "source": [
    "\n",
    "\n",
    "descr_todas_as_notas = DescrStatsW(notas.rating)\n",
    "descr_toystory = DescrStatsW(notas1[3:12].rating)\n",
    "comparacao = descr_todas_as_notas.get_compare(descr_toystory)\n",
    "comparacao.summary(use_t = True)"
   ]
  },
  {
   "cell_type": "code",
   "execution_count": 80,
   "id": "f7323c84-efcc-48c1-86e3-eddbb561ca8f",
   "metadata": {},
   "outputs": [],
   "source": [
    "#como P-value é alto, não se pode descartar que a média são iguais. Vide a amplitude do intervalo de confiança"
   ]
  },
  {
   "cell_type": "markdown",
   "id": "3e16cd77-db01-4836-bf1a-515e271a1e58",
   "metadata": {},
   "source": [
    "## Comparando filmes"
   ]
  },
  {
   "cell_type": "code",
   "execution_count": 82,
   "id": "c1e9708b-c346-4f34-a2fe-73cb0347b242",
   "metadata": {},
   "outputs": [
    {
     "data": {
      "text/html": [
       "<div>\n",
       "<style scoped>\n",
       "    .dataframe tbody tr th:only-of-type {\n",
       "        vertical-align: middle;\n",
       "    }\n",
       "\n",
       "    .dataframe tbody tr th {\n",
       "        vertical-align: top;\n",
       "    }\n",
       "\n",
       "    .dataframe thead th {\n",
       "        text-align: right;\n",
       "    }\n",
       "</style>\n",
       "<table border=\"1\" class=\"dataframe\">\n",
       "  <thead>\n",
       "    <tr style=\"text-align: right;\">\n",
       "      <th></th>\n",
       "      <th>movieId</th>\n",
       "      <th>title</th>\n",
       "      <th>genres</th>\n",
       "    </tr>\n",
       "  </thead>\n",
       "  <tbody>\n",
       "    <tr>\n",
       "      <th>0</th>\n",
       "      <td>1</td>\n",
       "      <td>Toy Story (1995)</td>\n",
       "      <td>Adventure|Animation|Children|Comedy|Fantasy</td>\n",
       "    </tr>\n",
       "    <tr>\n",
       "      <th>510</th>\n",
       "      <td>593</td>\n",
       "      <td>Silence of the Lambs, The (1991)</td>\n",
       "      <td>Crime|Horror|Thriller</td>\n",
       "    </tr>\n",
       "    <tr>\n",
       "      <th>7180</th>\n",
       "      <td>72226</td>\n",
       "      <td>Fantastic Mr. Fox (2009)</td>\n",
       "      <td>Adventure|Animation|Children|Comedy|Crime</td>\n",
       "    </tr>\n",
       "  </tbody>\n",
       "</table>\n",
       "</div>"
      ],
      "text/plain": [
       "      movieId                             title  \\\n",
       "0           1                  Toy Story (1995)   \n",
       "510       593  Silence of the Lambs, The (1991)   \n",
       "7180    72226          Fantastic Mr. Fox (2009)   \n",
       "\n",
       "                                           genres  \n",
       "0     Adventure|Animation|Children|Comedy|Fantasy  \n",
       "510                         Crime|Horror|Thriller  \n",
       "7180    Adventure|Animation|Children|Comedy|Crime  "
      ]
     },
     "execution_count": 82,
     "metadata": {},
     "output_type": "execute_result"
    }
   ],
   "source": [
    "filmes.query(\"movieId in [1, 593, 72226]\")"
   ]
  },
  {
   "cell_type": "code",
   "execution_count": 83,
   "id": "4182c683-ab07-426a-92d4-7eaefbe230ec",
   "metadata": {},
   "outputs": [
    {
     "data": {
      "text/plain": [
       "Text(0.5, 1.0, 'Distribuição das notas de acordo com filmes')"
      ]
     },
     "execution_count": 83,
     "metadata": {},
     "output_type": "execute_result"
    },
    {
     "data": {
      "image/png": "[encoded data removed]",
      "text/plain": [
       "<Figure size 432x288 with 1 Axes>"
      ]
     },
     "metadata": {
      "needs_background": "light"
     },
     "output_type": "display_data"
    }
   ],
   "source": [
    "notas1 =  notas.query(\"movieId == 1\")\n",
    "notas593 =  notas.query(\"movieId == 593\")\n",
    "notas72226 =  notas.query(\"movieId == 72226\")\n",
    "\n",
    "plt.boxplot([notas1.rating, notas593.rating, notas72226.rating], labels=[\"Toy Story\", \"Silence of the Lambs,\", \"Fantastic Mr. Fox\"])\n",
    "plt.title(\"Distribuição das notas de acordo com filmes\")"
   ]
  },
  {
   "cell_type": "code",
   "execution_count": 84,
   "id": "840c3c72-9d93-49fd-befb-89c12dda7e94",
   "metadata": {},
   "outputs": [
    {
     "data": {
      "text/html": [
       "<div>\n",
       "<style scoped>\n",
       "    .dataframe tbody tr th:only-of-type {\n",
       "        vertical-align: middle;\n",
       "    }\n",
       "\n",
       "    .dataframe tbody tr th {\n",
       "        vertical-align: top;\n",
       "    }\n",
       "\n",
       "    .dataframe thead th {\n",
       "        text-align: right;\n",
       "    }\n",
       "</style>\n",
       "<table border=\"1\" class=\"dataframe\">\n",
       "  <thead>\n",
       "    <tr style=\"text-align: right;\">\n",
       "      <th></th>\n",
       "      <th>userId</th>\n",
       "      <th>movieId</th>\n",
       "      <th>rating</th>\n",
       "      <th>timestamp</th>\n",
       "    </tr>\n",
       "  </thead>\n",
       "  <tbody>\n",
       "    <tr>\n",
       "      <th>count</th>\n",
       "      <td>279.000000</td>\n",
       "      <td>279.0</td>\n",
       "      <td>279.000000</td>\n",
       "      <td>2.790000e+02</td>\n",
       "    </tr>\n",
       "    <tr>\n",
       "      <th>mean</th>\n",
       "      <td>306.577061</td>\n",
       "      <td>593.0</td>\n",
       "      <td>4.161290</td>\n",
       "      <td>1.147081e+09</td>\n",
       "    </tr>\n",
       "    <tr>\n",
       "      <th>std</th>\n",
       "      <td>179.731115</td>\n",
       "      <td>0.0</td>\n",
       "      <td>0.853983</td>\n",
       "      <td>2.444652e+08</td>\n",
       "    </tr>\n",
       "    <tr>\n",
       "      <th>min</th>\n",
       "      <td>1.000000</td>\n",
       "      <td>593.0</td>\n",
       "      <td>0.500000</td>\n",
       "      <td>8.319402e+08</td>\n",
       "    </tr>\n",
       "    <tr>\n",
       "      <th>25%</th>\n",
       "      <td>141.000000</td>\n",
       "      <td>593.0</td>\n",
       "      <td>4.000000</td>\n",
       "      <td>9.393810e+08</td>\n",
       "    </tr>\n",
       "    <tr>\n",
       "      <th>50%</th>\n",
       "      <td>313.000000</td>\n",
       "      <td>593.0</td>\n",
       "      <td>4.000000</td>\n",
       "      <td>1.123891e+09</td>\n",
       "    </tr>\n",
       "    <tr>\n",
       "      <th>75%</th>\n",
       "      <td>454.000000</td>\n",
       "      <td>593.0</td>\n",
       "      <td>5.000000</td>\n",
       "      <td>1.405808e+09</td>\n",
       "    </tr>\n",
       "    <tr>\n",
       "      <th>max</th>\n",
       "      <td>610.000000</td>\n",
       "      <td>593.0</td>\n",
       "      <td>5.000000</td>\n",
       "      <td>1.537158e+09</td>\n",
       "    </tr>\n",
       "  </tbody>\n",
       "</table>\n",
       "</div>"
      ],
      "text/plain": [
       "           userId  movieId      rating     timestamp\n",
       "count  279.000000    279.0  279.000000  2.790000e+02\n",
       "mean   306.577061    593.0    4.161290  1.147081e+09\n",
       "std    179.731115      0.0    0.853983  2.444652e+08\n",
       "min      1.000000    593.0    0.500000  8.319402e+08\n",
       "25%    141.000000    593.0    4.000000  9.393810e+08\n",
       "50%    313.000000    593.0    4.000000  1.123891e+09\n",
       "75%    454.000000    593.0    5.000000  1.405808e+09\n",
       "max    610.000000    593.0    5.000000  1.537158e+09"
      ]
     },
     "execution_count": 84,
     "metadata": {},
     "output_type": "execute_result"
    }
   ],
   "source": [
    "notas593.describe()"
   ]
  },
  {
   "cell_type": "code",
   "execution_count": 86,
   "id": "20c83f58-7108-443d-ab7d-377990617d1a",
   "metadata": {},
   "outputs": [
    {
     "data": {
      "text/plain": [
       "<AxesSubplot:xlabel='movieId', ylabel='rating'>"
      ]
     },
     "execution_count": 86,
     "metadata": {},
     "output_type": "execute_result"
    },
    {
     "data": {
      "image/png": "[encoded data removed]",
      "text/plain": [
       "<Figure size 432x288 with 1 Axes>"
      ]
     },
     "metadata": {
      "needs_background": "light"
     },
     "output_type": "display_data"
    }
   ],
   "source": [
    "sns.boxplot(x = \"movieId\", y = \"rating\", data = notas.query(\"movieId in (1, 593, 72226)\"))\n",
    "\n",
    "# seaborn é bom quando o DF já tem uma coluna para \"separar\" os boxplot"
   ]
  },
  {
   "cell_type": "markdown",
   "id": "1ac21c63-b4bd-4fed-90c3-abd2a5820fb6",
   "metadata": {},
   "source": [
    "### Teste T para comparar as médias"
   ]
  },
  {
   "cell_type": "code",
   "execution_count": 87,
   "id": "40f3f555-f71f-453f-873f-04b5ef5be728",
   "metadata": {},
   "outputs": [
    {
     "data": {
      "text/html": [
       "<table class=\"simpletable\">\n",
       "<caption>Test for equality of means</caption>\n",
       "<tr>\n",
       "      <td></td>         <th>coef</th>     <th>std err</th>      <th>t</th>      <th>P>|t|</th>  <th>[0.025</th>    <th>0.975]</th>  \n",
       "</tr>\n",
       "<tr>\n",
       "  <th>subset #1</th> <td>   -0.2404</td> <td>    0.077</td> <td>   -3.132</td> <td> 0.002</td> <td>   -0.391</td> <td>   -0.090</td>\n",
       "</tr>\n",
       "</table>"
      ],
      "text/plain": [
       "<class 'statsmodels.iolib.table.SimpleTable'>"
      ]
     },
     "execution_count": 87,
     "metadata": {},
     "output_type": "execute_result"
    }
   ],
   "source": [
    "descr_1 = DescrStatsW(notas1.rating)\n",
    "descr_593 = DescrStatsW(notas593.rating)\n",
    "comparacao = descr_1.get_compare(descr_593)\n",
    "\n",
    "comparacao.summary()"
   ]
  },
  {
   "cell_type": "markdown",
   "id": "db66fc6a-06cf-433f-8528-74fdd15f9287",
   "metadata": {},
   "source": [
    "### \"Teste para a igualdade das médias\" Percebe-se que o P-Value é pequeno, podendo-se rejeitar a h0, ou seja: são diferentes de fato (com 95% de chance)"
   ]
  },
  {
   "cell_type": "markdown",
   "id": "b2e31b47-233c-4774-a0da-266d0953a1b8",
   "metadata": {},
   "source": [
    "### \"Aplicando o Teste Z com alpha = 0.05, encontramos uma diferença estatística entre os filmes Toy Story e Silence of the Lambs, com um p value igual a 0.02 e um intervalo de confiança entre -0.391 e -0.090\"."
   ]
  },
  {
   "cell_type": "code",
   "execution_count": 89,
   "id": "c4c4405d-b9a4-411f-aac8-32fbeb3de966",
   "metadata": {},
   "outputs": [
    {
     "data": {
      "text/html": [
       "<table class=\"simpletable\">\n",
       "<caption>Test for equality of means</caption>\n",
       "<tr>\n",
       "      <td></td>         <th>coef</th>     <th>std err</th>      <th>t</th>      <th>P>|t|</th>  <th>[0.025</th>    <th>0.975]</th>  \n",
       "</tr>\n",
       "<tr>\n",
       "  <th>subset #1</th> <td>   -0.0780</td> <td>    0.208</td> <td>   -0.374</td> <td> 0.708</td> <td>   -0.488</td> <td>    0.332</td>\n",
       "</tr>\n",
       "</table>"
      ],
      "text/plain": [
       "<class 'statsmodels.iolib.table.SimpleTable'>"
      ]
     },
     "execution_count": 89,
     "metadata": {},
     "output_type": "execute_result"
    }
   ],
   "source": [
    "descr_72226 = DescrStatsW(notas72226.rating)\n",
    "descr_593 = DescrStatsW(notas593.rating)\n",
    "comparacao = descr_72226.get_compare(descr_593)\n",
    "\n",
    "comparacao.summary()"
   ]
  },
  {
   "cell_type": "markdown",
   "id": "ec41fa88-bbef-4ea3-9d4b-5d7fd9a0b343",
   "metadata": {},
   "source": [
    "### Dessa vez, nosso p value não indica uma diferença significante (pois não é menor do que 0.05), e o intervalo inclui tanto a chance do filme ser pior, quanto a chance dele ser melhor."
   ]
  },
  {
   "cell_type": "code",
   "execution_count": 90,
   "id": "77ed262d-a5f3-431c-a9af-c8d61c284800",
   "metadata": {},
   "outputs": [
    {
     "data": {
      "text/html": [
       "<table class=\"simpletable\">\n",
       "<caption>Test for equality of means</caption>\n",
       "<tr>\n",
       "      <td></td>         <th>coef</th>     <th>std err</th>      <th>t</th>      <th>P>|t|</th>  <th>[0.025</th>    <th>0.975]</th>  \n",
       "</tr>\n",
       "<tr>\n",
       "  <th>subset #1</th> <td>   -0.1624</td> <td>    0.206</td> <td>   -0.788</td> <td> 0.431</td> <td>   -0.568</td> <td>    0.243</td>\n",
       "</tr>\n",
       "</table>"
      ],
      "text/plain": [
       "<class 'statsmodels.iolib.table.SimpleTable'>"
      ]
     },
     "execution_count": 90,
     "metadata": {},
     "output_type": "execute_result"
    }
   ],
   "source": [
    "comparacao = descr_1.get_compare(descr_72226)\n",
    "\n",
    "comparacao.summary()"
   ]
  },
  {
   "cell_type": "markdown",
   "id": "5f6094e0-e4f6-4a02-b6e5-8d4f08bbb7c2",
   "metadata": {},
   "source": [
    "### Da mesma forma, não temos uma diferença significativa, e o intervalo também inclui aquelas duas possibilidades. Portanto, a única diferença que encontramos nos nossos dados foi entre os filmes Toy Story e Silence of the Lambs - na qual o último filme é melhor"
   ]
  },
  {
   "cell_type": "code",
   "execution_count": 92,
   "id": "47ca6c93-dd79-419f-89ea-fe0cf85cc821",
   "metadata": {},
   "outputs": [
    {
     "data": {
      "text/html": [
       "<div>\n",
       "<style scoped>\n",
       "    .dataframe tbody tr th:only-of-type {\n",
       "        vertical-align: middle;\n",
       "    }\n",
       "\n",
       "    .dataframe tbody tr th {\n",
       "        vertical-align: top;\n",
       "    }\n",
       "\n",
       "    .dataframe thead th {\n",
       "        text-align: right;\n",
       "    }\n",
       "</style>\n",
       "<table border=\"1\" class=\"dataframe\">\n",
       "  <thead>\n",
       "    <tr style=\"text-align: right;\">\n",
       "      <th></th>\n",
       "      <th>userId</th>\n",
       "      <th>rating</th>\n",
       "      <th>timestamp</th>\n",
       "    </tr>\n",
       "    <tr>\n",
       "      <th>movieId</th>\n",
       "      <th></th>\n",
       "      <th></th>\n",
       "      <th></th>\n",
       "    </tr>\n",
       "  </thead>\n",
       "  <tbody>\n",
       "    <tr>\n",
       "      <th>1</th>\n",
       "      <td>215</td>\n",
       "      <td>215</td>\n",
       "      <td>215</td>\n",
       "    </tr>\n",
       "    <tr>\n",
       "      <th>593</th>\n",
       "      <td>279</td>\n",
       "      <td>279</td>\n",
       "      <td>279</td>\n",
       "    </tr>\n",
       "    <tr>\n",
       "      <th>72226</th>\n",
       "      <td>18</td>\n",
       "      <td>18</td>\n",
       "      <td>18</td>\n",
       "    </tr>\n",
       "  </tbody>\n",
       "</table>\n",
       "</div>"
      ],
      "text/plain": [
       "         userId  rating  timestamp\n",
       "movieId                           \n",
       "1           215     215        215\n",
       "593         279     279        279\n",
       "72226        18      18         18"
      ]
     },
     "execution_count": 92,
     "metadata": {},
     "output_type": "execute_result"
    }
   ],
   "source": [
    "# Agrupamento por movieId\n",
    "\n",
    "notas.query(\"movieId in (1, 593, 72226)\").groupby(\"movieId\").count()\n",
    "\n",
    "# Percebe-se que o 72226 possui apenas 18 entradas, ou seja: apenas 18 votos, não sendo uma amostra significativa (n<30) para o Z-Teste"
   ]
  },
  {
   "cell_type": "markdown",
   "id": "92092c84-d07d-40ae-9b15-a5a408e9780c",
   "metadata": {},
   "source": [
    "## Comparação não paramétrica com Wilcoxon Rank-sums"
   ]
  },
  {
   "cell_type": "markdown",
   "id": "ba3b19f1-f5fe-4b43-b4d3-5ee22349bcef",
   "metadata": {},
   "source": [
    "### TANTO O Z-TESTE QUANTO O T-TESTE ASSUMEM DISTRIBUIÇÃO NORMAL DAS VARIÁVEIS!!!!!!!!!!!!!!!!!!!"
   ]
  },
  {
   "cell_type": "markdown",
   "id": "8521ad08-6fdb-46e2-a4ea-d2a6b81cdf4d",
   "metadata": {},
   "source": [
    "### https://docs.scipy.org/doc/scipy/reference/generated/scipy.stats.normaltest.html"
   ]
  },
  {
   "cell_type": "code",
   "execution_count": 99,
   "id": "28355070-9982-4e27-bf28-ed5284557fbd",
   "metadata": {},
   "outputs": [
    {
     "data": {
      "text/plain": [
       "0.00011053430732728716"
      ]
     },
     "execution_count": 99,
     "metadata": {},
     "output_type": "execute_result"
    }
   ],
   "source": [
    "from scipy.stats import normaltest\n",
    "\n",
    "_, p = normaltest(notas1.rating) # o \"_\" significa que a variável não será usada\n",
    "\n",
    "p"
   ]
  },
  {
   "cell_type": "code",
   "execution_count": 97,
   "id": "0d1bfd95-c623-4bc9-a2ed-78d3258e811b",
   "metadata": {},
   "outputs": [],
   "source": [
    "# This function tests the null hypothesis that a sample comes from a normal distribution"
   ]
  },
  {
   "cell_type": "markdown",
   "id": "a639b0bf-0802-4d6a-b44a-bd47d0898d23",
   "metadata": {},
   "source": [
    "### Logo, a hipótese de que vem de uma \"normal\" é descartado. Deve-se usar um teste não-paramétrico: Wilcoxon Rank-sums"
   ]
  },
  {
   "cell_type": "markdown",
   "id": "4a70ee33-b071-4fc1-83aa-2d6fc454877d",
   "metadata": {},
   "source": [
    "https://docs.scipy.org/doc/scipy/reference/generated/scipy.stats.ranksums.html?highlight=ranksum"
   ]
  },
  {
   "cell_type": "code",
   "execution_count": 101,
   "id": "0d42d4c7-b608-491d-9660-530ea8b33948",
   "metadata": {},
   "outputs": [],
   "source": [
    "from  scipy.stats import ranksums"
   ]
  },
  {
   "cell_type": "code",
   "execution_count": 103,
   "id": "15fde19f-c847-4db3-9c60-5be4c93a3437",
   "metadata": {},
   "outputs": [
    {
     "data": {
      "text/plain": [
       "0.0003267718756440693"
      ]
     },
     "execution_count": 103,
     "metadata": {},
     "output_type": "execute_result"
    }
   ],
   "source": [
    "_, p = ranksums(notas1.rating, notas593.rating)\n",
    "p"
   ]
  },
  {
   "cell_type": "markdown",
   "id": "c04cc9bc-c59d-4eff-9516-13977a70fa91",
   "metadata": {},
   "source": [
    "### a hipótese nula é de as duas medidas vieram da mesma distribuição. A h1 é de que os valores de uma amostra tem tendência de ser maior do que a outra. The Wilcoxon rank-sum test tests the null hypothesis that two sets of measurements are drawn from the same distribution. The alternative hypothesis is that values in one sample are more likely to be larger than the values in the other sample."
   ]
  },
  {
   "cell_type": "markdown",
   "id": "56f6fef4-f296-408a-bfea-a6d32b19d955",
   "metadata": {},
   "source": [
    "### Repare que, quando trabalhamos com Teste T e Teste Z estávamos nos referindo às médias - o que fazia sentido em uma distribuição normal. Porém, em uma distribuição não paramétrica, não usamos as médias, mas sim amostras aleatórias de cada conjunto testado."
   ]
  },
  {
   "cell_type": "code",
   "execution_count": null,
   "id": "4793c097-4a1a-492c-aa95-ac49ce54f927",
   "metadata": {},
   "outputs": [],
   "source": []
  }
 ],
 "metadata": {
  "kernelspec": {
   "display_name": "Python 3 (ipykernel)",
   "language": "python",
   "name": "python3"
  },
  "language_info": {
   "codemirror_mode": {
    "name": "ipython",
    "version": 3
   },
   "file_extension": ".py",
   "mimetype": "text/x-python",
   "name": "python",
   "nbconvert_exporter": "python",
   "pygments_lexer": "ipython3",
   "version": "3.9.7"
  }
 },
 "nbformat": 4,
 "nbformat_minor": 5
}
