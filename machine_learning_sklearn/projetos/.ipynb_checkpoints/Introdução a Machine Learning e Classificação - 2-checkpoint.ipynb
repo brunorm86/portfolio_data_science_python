{
 "cells": [
  {
   "cell_type": "code",
   "execution_count": 1,
   "id": "4b80c67d-c75f-4e0a-b4ea-7e80494cee45",
   "metadata": {},
   "outputs": [
    {
     "data": {
      "text/html": [
       "<div>\n",
       "<style scoped>\n",
       "    .dataframe tbody tr th:only-of-type {\n",
       "        vertical-align: middle;\n",
       "    }\n",
       "\n",
       "    .dataframe tbody tr th {\n",
       "        vertical-align: top;\n",
       "    }\n",
       "\n",
       "    .dataframe thead th {\n",
       "        text-align: right;\n",
       "    }\n",
       "</style>\n",
       "<table border=\"1\" class=\"dataframe\">\n",
       "  <thead>\n",
       "    <tr style=\"text-align: right;\">\n",
       "      <th></th>\n",
       "      <th>home</th>\n",
       "      <th>how_it_works</th>\n",
       "      <th>contact</th>\n",
       "      <th>bought</th>\n",
       "    </tr>\n",
       "  </thead>\n",
       "  <tbody>\n",
       "    <tr>\n",
       "      <th>0</th>\n",
       "      <td>1</td>\n",
       "      <td>1</td>\n",
       "      <td>0</td>\n",
       "      <td>0</td>\n",
       "    </tr>\n",
       "    <tr>\n",
       "      <th>1</th>\n",
       "      <td>1</td>\n",
       "      <td>1</td>\n",
       "      <td>0</td>\n",
       "      <td>0</td>\n",
       "    </tr>\n",
       "    <tr>\n",
       "      <th>2</th>\n",
       "      <td>1</td>\n",
       "      <td>1</td>\n",
       "      <td>0</td>\n",
       "      <td>0</td>\n",
       "    </tr>\n",
       "    <tr>\n",
       "      <th>3</th>\n",
       "      <td>1</td>\n",
       "      <td>1</td>\n",
       "      <td>0</td>\n",
       "      <td>0</td>\n",
       "    </tr>\n",
       "    <tr>\n",
       "      <th>4</th>\n",
       "      <td>1</td>\n",
       "      <td>1</td>\n",
       "      <td>0</td>\n",
       "      <td>0</td>\n",
       "    </tr>\n",
       "    <tr>\n",
       "      <th>...</th>\n",
       "      <td>...</td>\n",
       "      <td>...</td>\n",
       "      <td>...</td>\n",
       "      <td>...</td>\n",
       "    </tr>\n",
       "    <tr>\n",
       "      <th>94</th>\n",
       "      <td>0</td>\n",
       "      <td>0</td>\n",
       "      <td>1</td>\n",
       "      <td>0</td>\n",
       "    </tr>\n",
       "    <tr>\n",
       "      <th>95</th>\n",
       "      <td>1</td>\n",
       "      <td>1</td>\n",
       "      <td>1</td>\n",
       "      <td>1</td>\n",
       "    </tr>\n",
       "    <tr>\n",
       "      <th>96</th>\n",
       "      <td>0</td>\n",
       "      <td>0</td>\n",
       "      <td>1</td>\n",
       "      <td>0</td>\n",
       "    </tr>\n",
       "    <tr>\n",
       "      <th>97</th>\n",
       "      <td>0</td>\n",
       "      <td>1</td>\n",
       "      <td>0</td>\n",
       "      <td>0</td>\n",
       "    </tr>\n",
       "    <tr>\n",
       "      <th>98</th>\n",
       "      <td>0</td>\n",
       "      <td>0</td>\n",
       "      <td>0</td>\n",
       "      <td>0</td>\n",
       "    </tr>\n",
       "  </tbody>\n",
       "</table>\n",
       "<p>99 rows × 4 columns</p>\n",
       "</div>"
      ],
      "text/plain": [
       "    home  how_it_works  contact  bought\n",
       "0      1             1        0       0\n",
       "1      1             1        0       0\n",
       "2      1             1        0       0\n",
       "3      1             1        0       0\n",
       "4      1             1        0       0\n",
       "..   ...           ...      ...     ...\n",
       "94     0             0        1       0\n",
       "95     1             1        1       1\n",
       "96     0             0        1       0\n",
       "97     0             1        0       0\n",
       "98     0             0        0       0\n",
       "\n",
       "[99 rows x 4 columns]"
      ]
     },
     "execution_count": 1,
     "metadata": {},
     "output_type": "execute_result"
    }
   ],
   "source": [
    "import pandas as pd\n",
    "uri = \"https://gist.githubusercontent.com/guilhermesilveira/2d2efa37d66b6c84a722ea627a897ced/raw/10968b997d885cbded1c92938c7a9912ba41c615/tracking.csv\"\n",
    "pd.read_csv(uri)"
   ]
  },
  {
   "cell_type": "code",
   "execution_count": 2,
   "id": "09a8f570-a2ca-45df-b984-583a762e741d",
   "metadata": {},
   "outputs": [
    {
     "data": {
      "text/html": [
       "<div>\n",
       "<style scoped>\n",
       "    .dataframe tbody tr th:only-of-type {\n",
       "        vertical-align: middle;\n",
       "    }\n",
       "\n",
       "    .dataframe tbody tr th {\n",
       "        vertical-align: top;\n",
       "    }\n",
       "\n",
       "    .dataframe thead th {\n",
       "        text-align: right;\n",
       "    }\n",
       "</style>\n",
       "<table border=\"1\" class=\"dataframe\">\n",
       "  <thead>\n",
       "    <tr style=\"text-align: right;\">\n",
       "      <th></th>\n",
       "      <th>home</th>\n",
       "      <th>how_it_works</th>\n",
       "      <th>contact</th>\n",
       "      <th>bought</th>\n",
       "    </tr>\n",
       "  </thead>\n",
       "  <tbody>\n",
       "    <tr>\n",
       "      <th>0</th>\n",
       "      <td>1</td>\n",
       "      <td>1</td>\n",
       "      <td>0</td>\n",
       "      <td>0</td>\n",
       "    </tr>\n",
       "    <tr>\n",
       "      <th>1</th>\n",
       "      <td>1</td>\n",
       "      <td>1</td>\n",
       "      <td>0</td>\n",
       "      <td>0</td>\n",
       "    </tr>\n",
       "    <tr>\n",
       "      <th>2</th>\n",
       "      <td>1</td>\n",
       "      <td>1</td>\n",
       "      <td>0</td>\n",
       "      <td>0</td>\n",
       "    </tr>\n",
       "    <tr>\n",
       "      <th>3</th>\n",
       "      <td>1</td>\n",
       "      <td>1</td>\n",
       "      <td>0</td>\n",
       "      <td>0</td>\n",
       "    </tr>\n",
       "    <tr>\n",
       "      <th>4</th>\n",
       "      <td>1</td>\n",
       "      <td>1</td>\n",
       "      <td>0</td>\n",
       "      <td>0</td>\n",
       "    </tr>\n",
       "  </tbody>\n",
       "</table>\n",
       "</div>"
      ],
      "text/plain": [
       "   home  how_it_works  contact  bought\n",
       "0     1             1        0       0\n",
       "1     1             1        0       0\n",
       "2     1             1        0       0\n",
       "3     1             1        0       0\n",
       "4     1             1        0       0"
      ]
     },
     "execution_count": 2,
     "metadata": {},
     "output_type": "execute_result"
    }
   ],
   "source": [
    "dados = pd.read_csv(uri)\n",
    "dados.head()"
   ]
  },
  {
   "cell_type": "code",
   "execution_count": 3,
   "id": "26a542e7-7b44-4b56-ae2b-dcaeb69e513a",
   "metadata": {},
   "outputs": [
    {
     "data": {
      "text/html": [
       "<div>\n",
       "<style scoped>\n",
       "    .dataframe tbody tr th:only-of-type {\n",
       "        vertical-align: middle;\n",
       "    }\n",
       "\n",
       "    .dataframe tbody tr th {\n",
       "        vertical-align: top;\n",
       "    }\n",
       "\n",
       "    .dataframe thead th {\n",
       "        text-align: right;\n",
       "    }\n",
       "</style>\n",
       "<table border=\"1\" class=\"dataframe\">\n",
       "  <thead>\n",
       "    <tr style=\"text-align: right;\">\n",
       "      <th></th>\n",
       "      <th>home</th>\n",
       "      <th>how_it_works</th>\n",
       "      <th>contact</th>\n",
       "    </tr>\n",
       "  </thead>\n",
       "  <tbody>\n",
       "    <tr>\n",
       "      <th>0</th>\n",
       "      <td>1</td>\n",
       "      <td>1</td>\n",
       "      <td>0</td>\n",
       "    </tr>\n",
       "    <tr>\n",
       "      <th>1</th>\n",
       "      <td>1</td>\n",
       "      <td>1</td>\n",
       "      <td>0</td>\n",
       "    </tr>\n",
       "    <tr>\n",
       "      <th>2</th>\n",
       "      <td>1</td>\n",
       "      <td>1</td>\n",
       "      <td>0</td>\n",
       "    </tr>\n",
       "    <tr>\n",
       "      <th>3</th>\n",
       "      <td>1</td>\n",
       "      <td>1</td>\n",
       "      <td>0</td>\n",
       "    </tr>\n",
       "    <tr>\n",
       "      <th>4</th>\n",
       "      <td>1</td>\n",
       "      <td>1</td>\n",
       "      <td>0</td>\n",
       "    </tr>\n",
       "    <tr>\n",
       "      <th>...</th>\n",
       "      <td>...</td>\n",
       "      <td>...</td>\n",
       "      <td>...</td>\n",
       "    </tr>\n",
       "    <tr>\n",
       "      <th>94</th>\n",
       "      <td>0</td>\n",
       "      <td>0</td>\n",
       "      <td>1</td>\n",
       "    </tr>\n",
       "    <tr>\n",
       "      <th>95</th>\n",
       "      <td>1</td>\n",
       "      <td>1</td>\n",
       "      <td>1</td>\n",
       "    </tr>\n",
       "    <tr>\n",
       "      <th>96</th>\n",
       "      <td>0</td>\n",
       "      <td>0</td>\n",
       "      <td>1</td>\n",
       "    </tr>\n",
       "    <tr>\n",
       "      <th>97</th>\n",
       "      <td>0</td>\n",
       "      <td>1</td>\n",
       "      <td>0</td>\n",
       "    </tr>\n",
       "    <tr>\n",
       "      <th>98</th>\n",
       "      <td>0</td>\n",
       "      <td>0</td>\n",
       "      <td>0</td>\n",
       "    </tr>\n",
       "  </tbody>\n",
       "</table>\n",
       "<p>99 rows × 3 columns</p>\n",
       "</div>"
      ],
      "text/plain": [
       "    home  how_it_works  contact\n",
       "0      1             1        0\n",
       "1      1             1        0\n",
       "2      1             1        0\n",
       "3      1             1        0\n",
       "4      1             1        0\n",
       "..   ...           ...      ...\n",
       "94     0             0        1\n",
       "95     1             1        1\n",
       "96     0             0        1\n",
       "97     0             1        0\n",
       "98     0             0        0\n",
       "\n",
       "[99 rows x 3 columns]"
      ]
     },
     "execution_count": 3,
     "metadata": {},
     "output_type": "execute_result"
    }
   ],
   "source": [
    "dados[[\"home\", \"how_it_works\", \"contact\"]]"
   ]
  },
  {
   "cell_type": "code",
   "execution_count": 4,
   "id": "d36fa1d2-3db0-4bc9-9f92-acbb64739503",
   "metadata": {},
   "outputs": [
    {
     "data": {
      "text/html": [
       "<div>\n",
       "<style scoped>\n",
       "    .dataframe tbody tr th:only-of-type {\n",
       "        vertical-align: middle;\n",
       "    }\n",
       "\n",
       "    .dataframe tbody tr th {\n",
       "        vertical-align: top;\n",
       "    }\n",
       "\n",
       "    .dataframe thead th {\n",
       "        text-align: right;\n",
       "    }\n",
       "</style>\n",
       "<table border=\"1\" class=\"dataframe\">\n",
       "  <thead>\n",
       "    <tr style=\"text-align: right;\">\n",
       "      <th></th>\n",
       "      <th>bought</th>\n",
       "    </tr>\n",
       "  </thead>\n",
       "  <tbody>\n",
       "    <tr>\n",
       "      <th>0</th>\n",
       "      <td>0</td>\n",
       "    </tr>\n",
       "    <tr>\n",
       "      <th>1</th>\n",
       "      <td>0</td>\n",
       "    </tr>\n",
       "    <tr>\n",
       "      <th>2</th>\n",
       "      <td>0</td>\n",
       "    </tr>\n",
       "    <tr>\n",
       "      <th>3</th>\n",
       "      <td>0</td>\n",
       "    </tr>\n",
       "    <tr>\n",
       "      <th>4</th>\n",
       "      <td>0</td>\n",
       "    </tr>\n",
       "    <tr>\n",
       "      <th>...</th>\n",
       "      <td>...</td>\n",
       "    </tr>\n",
       "    <tr>\n",
       "      <th>94</th>\n",
       "      <td>0</td>\n",
       "    </tr>\n",
       "    <tr>\n",
       "      <th>95</th>\n",
       "      <td>1</td>\n",
       "    </tr>\n",
       "    <tr>\n",
       "      <th>96</th>\n",
       "      <td>0</td>\n",
       "    </tr>\n",
       "    <tr>\n",
       "      <th>97</th>\n",
       "      <td>0</td>\n",
       "    </tr>\n",
       "    <tr>\n",
       "      <th>98</th>\n",
       "      <td>0</td>\n",
       "    </tr>\n",
       "  </tbody>\n",
       "</table>\n",
       "<p>99 rows × 1 columns</p>\n",
       "</div>"
      ],
      "text/plain": [
       "    bought\n",
       "0        0\n",
       "1        0\n",
       "2        0\n",
       "3        0\n",
       "4        0\n",
       "..     ...\n",
       "94       0\n",
       "95       1\n",
       "96       0\n",
       "97       0\n",
       "98       0\n",
       "\n",
       "[99 rows x 1 columns]"
      ]
     },
     "execution_count": 4,
     "metadata": {},
     "output_type": "execute_result"
    }
   ],
   "source": [
    "dados[[\"bought\"]]"
   ]
  },
  {
   "cell_type": "code",
   "execution_count": 5,
   "id": "ff25e4e4-16c9-49f9-89a5-c8662e231ebb",
   "metadata": {},
   "outputs": [],
   "source": [
    "mapa = {\n",
    "    \"home\":\"principal\",\n",
    "    \"how_it_works\":\"como_funciona\",\n",
    "    \"contact\":\"contato\",\n",
    "    \"bought\":\"comprou\"\n",
    "}\n",
    "dados = dados.rename(columns = mapa)"
   ]
  },
  {
   "cell_type": "code",
   "execution_count": 6,
   "id": "9e34038d-370a-4ae2-b039-70411cabd6b8",
   "metadata": {},
   "outputs": [],
   "source": [
    "x = dados[[\"principal\", \"como_funciona\", \"contato\"]]\n",
    "y = dados[[\"comprou\"]]"
   ]
  },
  {
   "cell_type": "code",
   "execution_count": 7,
   "id": "53ba426d-f3e1-4596-9601-c52e27ec134b",
   "metadata": {},
   "outputs": [
    {
     "data": {
      "text/html": [
       "<div>\n",
       "<style scoped>\n",
       "    .dataframe tbody tr th:only-of-type {\n",
       "        vertical-align: middle;\n",
       "    }\n",
       "\n",
       "    .dataframe tbody tr th {\n",
       "        vertical-align: top;\n",
       "    }\n",
       "\n",
       "    .dataframe thead th {\n",
       "        text-align: right;\n",
       "    }\n",
       "</style>\n",
       "<table border=\"1\" class=\"dataframe\">\n",
       "  <thead>\n",
       "    <tr style=\"text-align: right;\">\n",
       "      <th></th>\n",
       "      <th>principal</th>\n",
       "      <th>como_funciona</th>\n",
       "      <th>contato</th>\n",
       "    </tr>\n",
       "  </thead>\n",
       "  <tbody>\n",
       "    <tr>\n",
       "      <th>0</th>\n",
       "      <td>1</td>\n",
       "      <td>1</td>\n",
       "      <td>0</td>\n",
       "    </tr>\n",
       "    <tr>\n",
       "      <th>1</th>\n",
       "      <td>1</td>\n",
       "      <td>1</td>\n",
       "      <td>0</td>\n",
       "    </tr>\n",
       "    <tr>\n",
       "      <th>2</th>\n",
       "      <td>1</td>\n",
       "      <td>1</td>\n",
       "      <td>0</td>\n",
       "    </tr>\n",
       "    <tr>\n",
       "      <th>3</th>\n",
       "      <td>1</td>\n",
       "      <td>1</td>\n",
       "      <td>0</td>\n",
       "    </tr>\n",
       "    <tr>\n",
       "      <th>4</th>\n",
       "      <td>1</td>\n",
       "      <td>1</td>\n",
       "      <td>0</td>\n",
       "    </tr>\n",
       "  </tbody>\n",
       "</table>\n",
       "</div>"
      ],
      "text/plain": [
       "   principal  como_funciona  contato\n",
       "0          1              1        0\n",
       "1          1              1        0\n",
       "2          1              1        0\n",
       "3          1              1        0\n",
       "4          1              1        0"
      ]
     },
     "execution_count": 7,
     "metadata": {},
     "output_type": "execute_result"
    }
   ],
   "source": [
    "x.head()"
   ]
  },
  {
   "cell_type": "code",
   "execution_count": 8,
   "id": "c6414cbe-0ce3-4439-8dc8-22c4603fd148",
   "metadata": {},
   "outputs": [
    {
     "data": {
      "text/html": [
       "<div>\n",
       "<style scoped>\n",
       "    .dataframe tbody tr th:only-of-type {\n",
       "        vertical-align: middle;\n",
       "    }\n",
       "\n",
       "    .dataframe tbody tr th {\n",
       "        vertical-align: top;\n",
       "    }\n",
       "\n",
       "    .dataframe thead th {\n",
       "        text-align: right;\n",
       "    }\n",
       "</style>\n",
       "<table border=\"1\" class=\"dataframe\">\n",
       "  <thead>\n",
       "    <tr style=\"text-align: right;\">\n",
       "      <th></th>\n",
       "      <th>comprou</th>\n",
       "    </tr>\n",
       "  </thead>\n",
       "  <tbody>\n",
       "    <tr>\n",
       "      <th>0</th>\n",
       "      <td>0</td>\n",
       "    </tr>\n",
       "    <tr>\n",
       "      <th>1</th>\n",
       "      <td>0</td>\n",
       "    </tr>\n",
       "    <tr>\n",
       "      <th>2</th>\n",
       "      <td>0</td>\n",
       "    </tr>\n",
       "    <tr>\n",
       "      <th>3</th>\n",
       "      <td>0</td>\n",
       "    </tr>\n",
       "    <tr>\n",
       "      <th>4</th>\n",
       "      <td>0</td>\n",
       "    </tr>\n",
       "  </tbody>\n",
       "</table>\n",
       "</div>"
      ],
      "text/plain": [
       "   comprou\n",
       "0        0\n",
       "1        0\n",
       "2        0\n",
       "3        0\n",
       "4        0"
      ]
     },
     "execution_count": 8,
     "metadata": {},
     "output_type": "execute_result"
    }
   ],
   "source": [
    "y.head()"
   ]
  },
  {
   "cell_type": "markdown",
   "id": "d46be494-54d1-45d7-adcf-7fcad10ddeeb",
   "metadata": {},
   "source": [
    "### Importante SEMPRE separar o conjunto de treino e o conjunto de testes. (25% para testes e o restante para treino)"
   ]
  },
  {
   "cell_type": "code",
   "execution_count": 9,
   "id": "c272cae1-a9ea-4308-9f8b-b42e0bd6d767",
   "metadata": {},
   "outputs": [
    {
     "data": {
      "text/plain": [
       "(99, 4)"
      ]
     },
     "execution_count": 9,
     "metadata": {},
     "output_type": "execute_result"
    }
   ],
   "source": [
    "dados.shape"
   ]
  },
  {
   "cell_type": "code",
   "execution_count": 10,
   "id": "3b51d5ac-2b3d-4b8f-acb2-8df251e935cf",
   "metadata": {},
   "outputs": [
    {
     "name": "stdout",
     "output_type": "stream",
     "text": [
      "Treinaremos com 75 elementos e testaremos com 24 elementos\n"
     ]
    }
   ],
   "source": [
    "treino_x = x[:75]\n",
    "treino_y = y[:75]\n",
    "teste_x = x[75:]\n",
    "teste_y = y[75:]\n",
    "teste_y.shape\n",
    "\n",
    "print(\"Treinaremos com %d elementos e testaremos com %d elementos\" % (len(treino_x), len(teste_x)))"
   ]
  },
  {
   "cell_type": "code",
   "execution_count": 11,
   "id": "23733596-94ec-41b3-967c-08c69fe65308",
   "metadata": {},
   "outputs": [
    {
     "name": "stdout",
     "output_type": "stream",
     "text": [
      "A acurácia foi 95.83%\n"
     ]
    },
    {
     "name": "stderr",
     "output_type": "stream",
     "text": [
      "C:\\Users\\COMISSARIADO\\anaconda3\\lib\\site-packages\\sklearn\\utils\\validation.py:993: DataConversionWarning: A column-vector y was passed when a 1d array was expected. Please change the shape of y to (n_samples, ), for example using ravel().\n",
      "  y = column_or_1d(y, warn=True)\n"
     ]
    }
   ],
   "source": [
    "# importamos o sklearn\n",
    "\n",
    "from sklearn.svm import LinearSVC\n",
    "from sklearn.metrics import accuracy_score\n",
    "\n",
    "modelo = LinearSVC()\n",
    "modelo.fit(treino_x, treino_y)\n",
    "previsoes = modelo.predict(teste_x)\n",
    "\n",
    "acuracia = accuracy_score(teste_y, previsoes) * 100\n",
    "print(\"A acurácia foi %.2f%%\" % acuracia)"
   ]
  },
  {
   "cell_type": "code",
   "execution_count": 12,
   "id": "2065920e-2eb2-4ca8-9b7f-d7bb2ff92b30",
   "metadata": {},
   "outputs": [
    {
     "data": {
      "text/plain": [
       "[    principal  como_funciona  contato\n",
       " 18          0              0        1\n",
       " 74          0              0        1\n",
       " 86          1              1        0\n",
       " 30          0              1        0\n",
       " 41          0              0        1\n",
       " ..        ...            ...      ...\n",
       " 2           1              1        0\n",
       " 47          1              0        1\n",
       " 81          0              0        1\n",
       " 24          1              0        1\n",
       " 83          1              0        1\n",
       " \n",
       " [74 rows x 3 columns],\n",
       "     principal  como_funciona  contato\n",
       " 5           1              0        1\n",
       " 52          1              0        1\n",
       " 38          1              1        0\n",
       " 59          0              0        1\n",
       " 82          0              0        1\n",
       " 14          0              0        1\n",
       " 77          0              1        0\n",
       " 79          1              1        0\n",
       " 9           1              0        1\n",
       " 44          0              0        1\n",
       " 22          0              0        1\n",
       " 98          0              0        0\n",
       " 97          0              1        0\n",
       " 17          0              1        0\n",
       " 90          1              0        1\n",
       " 56          1              0        1\n",
       " 23          0              1        0\n",
       " 93          0              0        1\n",
       " 57          1              1        0\n",
       " 37          0              0        1\n",
       " 58          1              0        1\n",
       " 51          1              1        0\n",
       " 28          0              1        0\n",
       " 43          1              0        1\n",
       " 65          0              1        1,\n",
       "     comprou\n",
       " 18        0\n",
       " 74        0\n",
       " 86        0\n",
       " 30        0\n",
       " 41        0\n",
       " ..      ...\n",
       " 2         0\n",
       " 47        1\n",
       " 81        0\n",
       " 24        1\n",
       " 83        1\n",
       " \n",
       " [74 rows x 1 columns],\n",
       "     comprou\n",
       " 5         1\n",
       " 52        1\n",
       " 38        0\n",
       " 59        0\n",
       " 82        0\n",
       " 14        0\n",
       " 77        0\n",
       " 79        1\n",
       " 9         1\n",
       " 44        0\n",
       " 22        0\n",
       " 98        0\n",
       " 97        0\n",
       " 17        0\n",
       " 90        1\n",
       " 56        1\n",
       " 23        0\n",
       " 93        0\n",
       " 57        0\n",
       " 37        0\n",
       " 58        1\n",
       " 51        0\n",
       " 28        0\n",
       " 43        1\n",
       " 65        1]"
      ]
     },
     "execution_count": 12,
     "metadata": {},
     "output_type": "execute_result"
    }
   ],
   "source": [
    "from sklearn.model_selection import train_test_split\n",
    "\n",
    "train_test_split(x,y, test_size=.25)"
   ]
  },
  {
   "cell_type": "markdown",
   "id": "455b9d4f-0899-44dd-81a7-73ec187981c4",
   "metadata": {},
   "source": [
    "### A partir daqui usaremos a biblioteca train_test_split para separar os dados de treino e teste"
   ]
  },
  {
   "cell_type": "code",
   "execution_count": 16,
   "id": "44d53413-c937-4db1-8b7e-c4aabe62ff33",
   "metadata": {},
   "outputs": [
    {
     "name": "stdout",
     "output_type": "stream",
     "text": [
      "Treinaremos com 74 elementos e testaremos com 25 elementos\n",
      "A acurácia foi 96.00%\n"
     ]
    },
    {
     "name": "stderr",
     "output_type": "stream",
     "text": [
      "C:\\Users\\COMISSARIADO\\anaconda3\\lib\\site-packages\\sklearn\\utils\\validation.py:993: DataConversionWarning: A column-vector y was passed when a 1d array was expected. Please change the shape of y to (n_samples, ), for example using ravel().\n",
      "  y = column_or_1d(y, warn=True)\n"
     ]
    }
   ],
   "source": [
    "from sklearn.model_selection import train_test_split\n",
    "from sklearn.svm import LinearSVC\n",
    "from sklearn.metrics import accuracy_score\n",
    "\n",
    "SEED = 20 # para que o experimento seja reproduzível\n",
    "\n",
    "treino_x, teste_x, treino_y, teste_y = train_test_split(x, y, random_state = SEED, test_size = 0.25)\n",
    "print(\"Treinaremos com %d elementos e testaremos com %d elementos\" % (len(treino_x), len(teste_x)))\n",
    "\n",
    "modelo = LinearSVC()\n",
    "modelo.fit(treino_x, treino_y)\n",
    "previsoes = modelo.predict(teste_x)\n",
    "\n",
    "acuracia = accuracy_score(teste_y, previsoes) * 100\n",
    "print(\"A acurácia foi %.2f%%\" % acuracia)"
   ]
  },
  {
   "cell_type": "code",
   "execution_count": 17,
   "id": "f43990e6-58d9-48da-9732-1997e41c826f",
   "metadata": {},
   "outputs": [
    {
     "data": {
      "text/plain": [
       "comprou\n",
       "0          47\n",
       "1          27\n",
       "dtype: int64"
      ]
     },
     "execution_count": 17,
     "metadata": {},
     "output_type": "execute_result"
    }
   ],
   "source": [
    "treino_y.value_counts()"
   ]
  },
  {
   "cell_type": "code",
   "execution_count": 18,
   "id": "01193ab3-4889-4fec-9e34-7155d2c054dc",
   "metadata": {},
   "outputs": [
    {
     "data": {
      "text/plain": [
       "comprou\n",
       "0          19\n",
       "1           6\n",
       "dtype: int64"
      ]
     },
     "execution_count": 18,
     "metadata": {},
     "output_type": "execute_result"
    }
   ],
   "source": [
    "teste_y.value_counts()"
   ]
  },
  {
   "cell_type": "markdown",
   "id": "21df9aec-e1b5-40c5-add7-ed26b2ac2320",
   "metadata": {},
   "source": [
    "### Os labels estão seguindo proporções diferentes no treino e no teste, o que é perigoso, pois pode enviesar o algoritmo!"
   ]
  },
  {
   "cell_type": "code",
   "execution_count": 19,
   "id": "2ddb3181-f701-4acf-a146-75cc6fa1cabd",
   "metadata": {},
   "outputs": [
    {
     "name": "stdout",
     "output_type": "stream",
     "text": [
      "Treinaremos com 74 elementos e testaremos com 25 elementos\n",
      "A acurácia foi 96.00%\n"
     ]
    },
    {
     "name": "stderr",
     "output_type": "stream",
     "text": [
      "C:\\Users\\COMISSARIADO\\anaconda3\\lib\\site-packages\\sklearn\\utils\\validation.py:993: DataConversionWarning: A column-vector y was passed when a 1d array was expected. Please change the shape of y to (n_samples, ), for example using ravel().\n",
      "  y = column_or_1d(y, warn=True)\n"
     ]
    }
   ],
   "source": [
    "# aqui usaremos o parãmetro \"stratify\" no Train_test_split para evitar essas proporções diferentes!\n",
    "\n",
    "from sklearn.model_selection import train_test_split\n",
    "from sklearn.svm import LinearSVC\n",
    "from sklearn.metrics import accuracy_score\n",
    "\n",
    "SEED = 20 # para que o experimento seja reproduzível\n",
    "\n",
    "treino_x, teste_x, treino_y, teste_y = train_test_split(x, y, random_state = SEED, test_size = 0.25, stratify = y)\n",
    "print(\"Treinaremos com %d elementos e testaremos com %d elementos\" % (len(treino_x), len(teste_x)))\n",
    "\n",
    "modelo = LinearSVC()\n",
    "modelo.fit(treino_x, treino_y)\n",
    "previsoes = modelo.predict(teste_x)\n",
    "\n",
    "acuracia = accuracy_score(teste_y, previsoes) * 100\n",
    "print(\"A acurácia foi %.2f%%\" % acuracia)"
   ]
  },
  {
   "cell_type": "markdown",
   "id": "eb8a279b-0942-44d4-bd78-8bf1af2997de",
   "metadata": {},
   "source": [
    "### Veremos como fica a proporção entre 0 e 1 agora com o uso do \"stratify\""
   ]
  },
  {
   "cell_type": "code",
   "execution_count": 20,
   "id": "96acd438-addd-4731-9b95-1f0255effb92",
   "metadata": {},
   "outputs": [
    {
     "data": {
      "text/plain": [
       "comprou\n",
       "0          17\n",
       "1           8\n",
       "dtype: int64"
      ]
     },
     "execution_count": 20,
     "metadata": {},
     "output_type": "execute_result"
    }
   ],
   "source": [
    "teste_y.value_counts()"
   ]
  },
  {
   "cell_type": "code",
   "execution_count": 21,
   "id": "47b048c5-f329-4f30-b2b7-45fcccb68831",
   "metadata": {},
   "outputs": [
    {
     "data": {
      "text/plain": [
       "comprou\n",
       "0          49\n",
       "1          25\n",
       "dtype: int64"
      ]
     },
     "execution_count": 21,
     "metadata": {},
     "output_type": "execute_result"
    }
   ],
   "source": [
    "treino_y.value_counts()"
   ]
  },
  {
   "cell_type": "code",
   "execution_count": null,
   "id": "61806788-34fd-4ca8-9ac2-aabce4b71dec",
   "metadata": {},
   "outputs": [],
   "source": []
  }
 ],
 "metadata": {
  "kernelspec": {
   "display_name": "Python 3 (ipykernel)",
   "language": "python",
   "name": "python3"
  },
  "language_info": {
   "codemirror_mode": {
    "name": "ipython",
    "version": 3
   },
   "file_extension": ".py",
   "mimetype": "text/x-python",
   "name": "python",
   "nbconvert_exporter": "python",
   "pygments_lexer": "ipython3",
   "version": "3.9.12"
  }
 },
 "nbformat": 4,
 "nbformat_minor": 5
}
