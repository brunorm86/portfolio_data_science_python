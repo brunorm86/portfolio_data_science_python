{
 "cells": [
  {
   "cell_type": "code",
   "execution_count": 1,
   "id": "fe8dccc2-2a26-43ac-91cc-3a44f0d80f9b",
   "metadata": {},
   "outputs": [],
   "source": [
    "# features (1 sim, 0 não)\n",
    "# pelo longo?\n",
    "# perna curta?\n",
    "# late?\n",
    "\n",
    "porco1 = [0,1,0]\n",
    "porco2 = [0,1,1]\n",
    "porco3 = [1,1,0]\n",
    "\n",
    "cachorro1 = [0,1,1]\n",
    "cachorro2 = [1,0,1]\n",
    "cachorro3 = [1,1,1]\n",
    "\n",
    "treino_x = [porco1, porco2, porco3, cachorro1, cachorro2, cachorro3]\n",
    "treino_y = [1,1,1,0,0,0] #1 = porco 0 = cachorro / labels"
   ]
  },
  {
   "cell_type": "code",
   "execution_count": 2,
   "id": "ae979d5f-103a-4dc3-97b7-cbb1327883f3",
   "metadata": {},
   "outputs": [
    {
     "data": {
      "text/plain": [
       "LinearSVC()"
      ]
     },
     "execution_count": 2,
     "metadata": {},
     "output_type": "execute_result"
    }
   ],
   "source": [
    "from sklearn.svm import LinearSVC\n",
    "\n",
    "model = LinearSVC()\n",
    "\n",
    "model.fit(treino_x, treino_y)"
   ]
  },
  {
   "cell_type": "code",
   "execution_count": 3,
   "id": "c983436e-e48b-4e64-b25b-d1768016f93e",
   "metadata": {},
   "outputs": [
    {
     "data": {
      "text/plain": [
       "array([0])"
      ]
     },
     "execution_count": 3,
     "metadata": {},
     "output_type": "execute_result"
    }
   ],
   "source": [
    "animal_misterioso = [1,1,1]\n",
    "model.predict([animal_misterioso]) # o predict() requer uma lista de parametros"
   ]
  },
  {
   "cell_type": "code",
   "execution_count": 4,
   "id": "bf497cfa-2904-4d17-bb39-102f24e01f31",
   "metadata": {},
   "outputs": [],
   "source": [
    "misterio1 = [1,1,1]\n",
    "misterio2 = [1,1,0]\n",
    "misterio3 = [0,1,1]\n",
    "\n",
    "teste_x = [misterio1, misterio2, misterio3]\n",
    "teste_y = [0,1,1]\n"
   ]
  },
  {
   "cell_type": "code",
   "execution_count": 5,
   "id": "63f832b7-cf6a-416f-8292-d4a028a63c2c",
   "metadata": {},
   "outputs": [],
   "source": [
    "previsoes = model.predict(teste_x)"
   ]
  },
  {
   "cell_type": "markdown",
   "id": "255a1c25-1fac-44de-b8dd-3d9d502b60f5",
   "metadata": {},
   "source": [
    "### O Sklearn usa como base o Numpy, por isso usa \"Array\", não listas \"comuns\""
   ]
  },
  {
   "cell_type": "code",
   "execution_count": 6,
   "id": "78932c8f-c5fb-41c2-bc07-b4d2ee5223c0",
   "metadata": {},
   "outputs": [
    {
     "name": "stdout",
     "output_type": "stream",
     "text": [
      "Taxa de acerto:  66.67\n"
     ]
    }
   ],
   "source": [
    "corretos = (previsoes == teste_y).sum() # o resultado é o número de \"Trues\"\n",
    "total = len(teste_x)\n",
    "taxa_de_acerto = corretos/total\n",
    "print(\"Taxa de acerto: \", (taxa_de_acerto*100).round(2))"
   ]
  },
  {
   "cell_type": "code",
   "execution_count": 7,
   "id": "9552dac7-0eb1-407c-889c-41e6e8a0277d",
   "metadata": {},
   "outputs": [
    {
     "name": "stdout",
     "output_type": "stream",
     "text": [
      "Taxa de acerto:  66.67\n"
     ]
    }
   ],
   "source": [
    "from sklearn.metrics import accuracy_score\n",
    "\n",
    "taxa_de_acerto = accuracy_score(teste_y, previsoes)\n",
    "print(\"Taxa de acerto: \", (taxa_de_acerto*100).round(2))"
   ]
  },
  {
   "cell_type": "code",
   "execution_count": null,
   "id": "ec951cff-7aa0-4074-87a5-a16adf1d6c94",
   "metadata": {},
   "outputs": [],
   "source": []
  }
 ],
 "metadata": {
  "kernelspec": {
   "display_name": "Python 3 (ipykernel)",
   "language": "python",
   "name": "python3"
  },
  "language_info": {
   "codemirror_mode": {
    "name": "ipython",
    "version": 3
   },
   "file_extension": ".py",
   "mimetype": "text/x-python",
   "name": "python",
   "nbconvert_exporter": "python",
   "pygments_lexer": "ipython3",
   "version": "3.9.12"
  }
 },
 "nbformat": 4,
 "nbformat_minor": 5
}
