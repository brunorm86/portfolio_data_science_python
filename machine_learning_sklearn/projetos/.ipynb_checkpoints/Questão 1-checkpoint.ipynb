{
 "cells": [
  {
   "cell_type": "code",
   "execution_count": 8,
   "id": "bdf46c49-06fe-4488-a5b2-96d8825e323f",
   "metadata": {},
   "outputs": [
    {
     "name": "stdin",
     "output_type": "stream",
     "text": [
      "Qual o valor unitário do produto? 125\n",
      "Qual a quantidade de unidades vendidas? 200\n",
      "Qual o valor entregue pelo cliente? 5000\n"
     ]
    },
    {
     "name": "stdout",
     "output_type": "stream",
     "text": [
      "O valor unitário do produto é R$ 125\n",
      "A quantidade de unidades vendidas é 200\n",
      "Quantidade vendida é PAR\n",
      "O valor total da venda é R$ 22500.0\n",
      "Valor entregue pelo cliente é INSUFICIENTE\n"
     ]
    }
   ],
   "source": [
    "valor_unit = int(input(\"Qual o valor unitário do produto?\"))\n",
    "quant_vend = int(input(\"Qual a quantidade de unidades vendidas?\"))\n",
    "valor_entregue = int(input(\"Qual o valor entregue pelo cliente?\"))\n",
    "\n",
    "valor_total = valor_unit * quant_vend\n",
    "\n",
    "is_par = \"A quantidade vendida é ÍMPAR\"\n",
    "\n",
    "is_suficiente = \"Valor entregue pelo cliente é INSUFICIENTE para a compra...\"\n",
    "\n",
    "if(quant_vend % 2 ==0):\n",
    "    is_par = \"A quantidade vendida é PAR\"\n",
    "\n",
    "if(valor_total > 250):\n",
    "    valor_total = valor_total*0.9\n",
    "    \n",
    "if(valor_total < 250):\n",
    "    valor_total = valor_total*1.08\n",
    "    \n",
    "if(valor_total - valor_entregue <=0):\n",
    "    is_suficiente = \"Valor entregue pelo cliente é SUFICIENTE para a compra!\"\n",
    "    \n",
    "print(\"O valor unitário do produto é R$\",valor_unit)\n",
    "print(\"A quantidade de unidades vendidas é\",quant_vend)\n",
    "print(is_par)\n",
    "print(\"O valor total da venda é R$\",valor_total)\n",
    "print(is_suficiente)\n",
    "\n",
    "\n",
    "\n"
   ]
  },
  {
   "cell_type": "code",
   "execution_count": null,
   "id": "66bc9ac3-0b89-4911-a000-c2c8c2c7d2bd",
   "metadata": {},
   "outputs": [],
   "source": []
  }
 ],
 "metadata": {
  "kernelspec": {
   "display_name": "Python 3 (ipykernel)",
   "language": "python",
   "name": "python3"
  },
  "language_info": {
   "codemirror_mode": {
    "name": "ipython",
    "version": 3
   },
   "file_extension": ".py",
   "mimetype": "text/x-python",
   "name": "python",
   "nbconvert_exporter": "python",
   "pygments_lexer": "ipython3",
   "version": "3.9.12"
  }
 },
 "nbformat": 4,
 "nbformat_minor": 5
}
