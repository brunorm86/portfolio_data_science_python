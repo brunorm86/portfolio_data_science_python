{
 "cells": [
  {
   "cell_type": "code",
   "execution_count": 1,
   "id": "37a9f823-745d-41df-8508-92d25de33620",
   "metadata": {},
   "outputs": [],
   "source": [
    "from scipy.special import comb \n"
   ]
  },
  {
   "cell_type": "code",
   "execution_count": 2,
   "id": "2da35c89-ea0a-4f9f-9fe9-858ab524cb52",
   "metadata": {},
   "outputs": [
    {
     "data": {
      "text/plain": [
       "53130.0"
      ]
     },
     "execution_count": 2,
     "metadata": {},
     "output_type": "execute_result"
    }
   ],
   "source": [
    "combinacoes = comb(25,20)\n",
    "combinacoes"
   ]
  },
  {
   "cell_type": "code",
   "execution_count": 3,
   "id": "78a2c793-4f17-43c6-9b6a-e7545783ddbe",
   "metadata": {},
   "outputs": [
    {
     "data": {
      "text/plain": [
       "1.8821757952192734e-05"
      ]
     },
     "execution_count": 3,
     "metadata": {},
     "output_type": "execute_result"
    }
   ],
   "source": [
    "probabilidade = 1/combinacoes\n",
    "probabilidade"
   ]
  },
  {
   "cell_type": "code",
   "execution_count": 4,
   "id": "549b700d-a652-4ec2-a6e5-a1a0f28508c8",
   "metadata": {},
   "outputs": [
    {
     "name": "stdout",
     "output_type": "stream",
     "text": [
      "Combinações = 53130 e Probabilidade = 0.000018821757952\n"
     ]
    }
   ],
   "source": [
    "print('Combinações = %d e Probabilidade = %0.15f' % (combinacoes, probabilidade))"
   ]
  },
  {
   "cell_type": "code",
   "execution_count": 5,
   "id": "f945039a-b99a-4059-bd43-78dee5a0aede",
   "metadata": {},
   "outputs": [
    {
     "data": {
      "text/plain": [
       "'\\nUma moeda, perfeitamente equilibrada, é lançada para o alto quatro vezes. \\nUtilizando a distribuição binomial, obtenha a probabilidade de a moeda cair com a face coroa voltada para cima duas vezes.\\n'"
      ]
     },
     "execution_count": 5,
     "metadata": {},
     "output_type": "execute_result"
    }
   ],
   "source": [
    "'''\n",
    "Uma moeda, perfeitamente equilibrada, é lançada para o alto quatro vezes. \n",
    "Utilizando a distribuição binomial, obtenha a probabilidade de a moeda cair com a face coroa voltada para cima duas vezes.\n",
    "'''"
   ]
  },
  {
   "cell_type": "code",
   "execution_count": 6,
   "id": "37f9eabd-a40c-4444-abdb-4accf98cf9ff",
   "metadata": {},
   "outputs": [
    {
     "data": {
      "text/plain": [
       "0.375"
      ]
     },
     "execution_count": 6,
     "metadata": {},
     "output_type": "execute_result"
    }
   ],
   "source": [
    "from scipy.stats import binom \n",
    "n = 4\n",
    "p = 1/2\n",
    "q = 1/2\n",
    "k = 2\n",
    "\n",
    "probabilidade = binom.pmf(k, n, p)\n",
    "probabilidade"
   ]
  },
  {
   "cell_type": "code",
   "execution_count": 7,
   "id": "cb4e1ec0-481a-4c5d-bd7e-3d9f07814daf",
   "metadata": {},
   "outputs": [
    {
     "data": {
      "text/plain": [
       "'\\nUm dado, perfeitamente equilibrado, é lançado para o alto dez vezes.\\nUtilizando a distribuição binomial, obtenha a probabilidade de o dado cair com o\\nnúmero cinco voltado para cima pelo menos três vezes.\\n'"
      ]
     },
     "execution_count": 7,
     "metadata": {},
     "output_type": "execute_result"
    }
   ],
   "source": [
    "'''\n",
    "Um dado, perfeitamente equilibrado, é lançado para o alto dez vezes.\n",
    "Utilizando a distribuição binomial, obtenha a probabilidade de o dado cair com o\n",
    "número cinco voltado para cima pelo menos três vezes.\n",
    "'''"
   ]
  },
  {
   "cell_type": "code",
   "execution_count": 8,
   "id": "c1ea3732-4276-41d5-9e3c-8dd1522f8513",
   "metadata": {},
   "outputs": [
    {
     "data": {
      "text/plain": [
       "0.22477320212874055"
      ]
     },
     "execution_count": 8,
     "metadata": {},
     "output_type": "execute_result"
    }
   ],
   "source": [
    "n = 10\n",
    "p = 1/6\n",
    "q = 5/6\n",
    "k = 2\n",
    "\n",
    "probabilidade = binom.sf(k, n, p)\n",
    "probabilidade"
   ]
  },
  {
   "cell_type": "code",
   "execution_count": 9,
   "id": "ab5356dc-fe27-45d0-84f8-c803d35bf589",
   "metadata": {},
   "outputs": [
    {
     "data": {
      "text/plain": [
       "'\\nSuponha que a probabilidade de um casal ter filhos com olhos azuis seja de 22%.\\nEm 50 famílias, com 3 crianças cada uma, quantas podemos esperar que tenham dois filhos com olhos azuis?\\n'"
      ]
     },
     "execution_count": 9,
     "metadata": {},
     "output_type": "execute_result"
    }
   ],
   "source": [
    "'''\n",
    "Suponha que a probabilidade de um casal ter filhos com olhos azuis seja de 22%.\n",
    "Em 50 famílias, com 3 crianças cada uma, quantas podemos esperar que tenham dois filhos com olhos azuis?\n",
    "'''"
   ]
  },
  {
   "cell_type": "code",
   "execution_count": 10,
   "id": "a9573ccf-2cbe-48da-95ce-d9af5798ae4c",
   "metadata": {},
   "outputs": [
    {
     "data": {
      "text/plain": [
       "0.11325599999999993"
      ]
     },
     "execution_count": 10,
     "metadata": {},
     "output_type": "execute_result"
    }
   ],
   "source": [
    "#probabilidade por familia\n",
    "p= 0.22\n",
    "n = 3\n",
    "k = 2\n",
    "probabilidade = binom.pmf(k, n, p)\n",
    "probabilidade"
   ]
  },
  {
   "cell_type": "code",
   "execution_count": 11,
   "id": "606258b1-1846-4507-8059-9b764cde17db",
   "metadata": {},
   "outputs": [
    {
     "data": {
      "text/plain": [
       "5"
      ]
     },
     "execution_count": 11,
     "metadata": {},
     "output_type": "execute_result"
    }
   ],
   "source": [
    "#probabilidade para 50 familias\n",
    "total = 50 * probabilidade\n",
    "int(total) # já que não se tem fração de família, pegamos apenas a parte inteira"
   ]
  },
  {
   "cell_type": "code",
   "execution_count": 12,
   "id": "044aa087-0cdd-4fa6-9ccb-c83ed4f6ed67",
   "metadata": {},
   "outputs": [
    {
     "data": {
      "text/plain": [
       "'\\nO número médio de clientes que entram em uma padaria por hora é igual a 20. \\nObtenha a probabilidade de, na próxima hora, entrarem exatamente 25 clientes.\\n'"
      ]
     },
     "execution_count": 12,
     "metadata": {},
     "output_type": "execute_result"
    }
   ],
   "source": [
    "'''\n",
    "O número médio de clientes que entram em uma padaria por hora é igual a 20. \n",
    "Obtenha a probabilidade de, na próxima hora, entrarem exatamente 25 clientes.\n",
    "'''"
   ]
  },
  {
   "cell_type": "code",
   "execution_count": 13,
   "id": "1be59e1a-ef01-4cad-b90e-097f44dc9ce0",
   "metadata": {},
   "outputs": [],
   "source": [
    "from scipy.stats import poisson"
   ]
  },
  {
   "cell_type": "code",
   "execution_count": 14,
   "id": "3eb20b9e-0ae4-41c8-b886-8f7933290fe0",
   "metadata": {},
   "outputs": [
    {
     "data": {
      "text/plain": [
       "0.04458764910826764"
      ]
     },
     "execution_count": 14,
     "metadata": {},
     "output_type": "execute_result"
    }
   ],
   "source": [
    "poisson.pmf(25, 20)"
   ]
  },
  {
   "cell_type": "code",
   "execution_count": 15,
   "id": "85e0283f-be5a-467a-b8a4-bfb82d291ee9",
   "metadata": {},
   "outputs": [
    {
     "data": {
      "text/plain": [
       "'\\nA aplicação de uma prova de estatística em um concurso apresentou um conjunto de notas normalmente distribuídas.\\nVerificou-se que o conjunto de notas tinha média 70 e desvio padrão de 5 pontos.\\nQual a probabilidade de um aluno, selecionado ao acaso, ter nota menor que 85?\\n'"
      ]
     },
     "execution_count": 15,
     "metadata": {},
     "output_type": "execute_result"
    }
   ],
   "source": [
    "'''\n",
    "A aplicação de uma prova de estatística em um concurso apresentou um conjunto de notas normalmente distribuídas.\n",
    "Verificou-se que o conjunto de notas tinha média 70 e desvio padrão de 5 pontos.\n",
    "Qual a probabilidade de um aluno, selecionado ao acaso, ter nota menor que 85?\n",
    "'''"
   ]
  },
  {
   "cell_type": "code",
   "execution_count": 16,
   "id": "7b31d5c5-9fd9-4bf9-b592-bd255d7387d8",
   "metadata": {},
   "outputs": [
    {
     "data": {
      "text/plain": [
       "3.0"
      ]
     },
     "execution_count": 16,
     "metadata": {},
     "output_type": "execute_result"
    }
   ],
   "source": [
    "Z = (85-70)/5\n",
    "Z"
   ]
  },
  {
   "cell_type": "code",
   "execution_count": 17,
   "id": "7139ecea-012b-4680-820c-d6495416e410",
   "metadata": {},
   "outputs": [
    {
     "data": {
      "text/plain": [
       "0.9986501019683699"
      ]
     },
     "execution_count": 17,
     "metadata": {},
     "output_type": "execute_result"
    }
   ],
   "source": [
    "from scipy.stats import norm\n",
    "probabilidade = norm.cdf(Z)\n",
    "probabilidade"
   ]
  },
  {
   "cell_type": "code",
   "execution_count": 18,
   "id": "52266689-709e-4538-9615-95d71365abdf",
   "metadata": {},
   "outputs": [
    {
     "data": {
      "text/plain": [
       "'\\nO faturamento diário de um motorista de aplicativo segue uma distribuição aproximadamente normal, \\ncom média R$ 300,00 e desvio padrão igual a R$ 50,00. Obtenha as probabilidades de que, em um dia aleatório, \\no motorista ganhe:\\n1) Entre R$ 250,00 e R$ 350,00\\n2) Entre R$ 400,00 e R$ 500,00\\n'"
      ]
     },
     "execution_count": 18,
     "metadata": {},
     "output_type": "execute_result"
    }
   ],
   "source": [
    "'''\n",
    "O faturamento diário de um motorista de aplicativo segue uma distribuição aproximadamente normal, \n",
    "com média R$ 300,00 e desvio padrão igual a R$ 50,00. Obtenha as probabilidades de que, em um dia aleatório, \n",
    "o motorista ganhe:\n",
    "1) Entre R$ 250,00 e R$ 350,00\n",
    "2) Entre R$ 400,00 e R$ 500,00\n",
    "'''"
   ]
  },
  {
   "cell_type": "code",
   "execution_count": 19,
   "id": "2ef48106-bd85-4e97-ade4-cc96cb122200",
   "metadata": {},
   "outputs": [],
   "source": [
    "media = 300\n",
    "desvio_padrao = 50"
   ]
  },
  {
   "cell_type": "code",
   "execution_count": 20,
   "id": "b3acbda2-6bbb-4c27-b60b-563fa0588009",
   "metadata": {},
   "outputs": [
    {
     "name": "stdout",
     "output_type": "stream",
     "text": [
      "68.27%\n"
     ]
    }
   ],
   "source": [
    "from scipy.stats import norm\n",
    "\n",
    "media = 300\n",
    "desvio_padrao = 50\n",
    "Z_inferior = (250 - media) / desvio_padrao\n",
    "Z_superior = (350 - media) / desvio_padrao\n",
    "\n",
    "probabilidade = norm.cdf(Z_superior) - norm.cdf(Z_inferior)\n",
    "print(\"{0:.2%}\".format(probabilidade))"
   ]
  },
  {
   "cell_type": "code",
   "execution_count": 21,
   "id": "7e189a0e-d50d-48c1-acb9-5c7b09daac50",
   "metadata": {},
   "outputs": [
    {
     "data": {
      "text/plain": [
       "2.0"
      ]
     },
     "execution_count": 21,
     "metadata": {},
     "output_type": "execute_result"
    }
   ],
   "source": [
    "#2) é area entre  +2 desvio e + 4 desvio\n",
    "\n",
    "Z_inf = (400-media)/desvio_padrao\n",
    "Z_inf"
   ]
  },
  {
   "cell_type": "code",
   "execution_count": 22,
   "id": "0dfd28f5-705a-4d86-8c2c-608495643634",
   "metadata": {},
   "outputs": [
    {
     "data": {
      "text/plain": [
       "4.0"
      ]
     },
     "execution_count": 22,
     "metadata": {},
     "output_type": "execute_result"
    }
   ],
   "source": [
    "Z_sup = (500-media)/desvio_padrao\n",
    "Z_sup"
   ]
  },
  {
   "cell_type": "code",
   "execution_count": 23,
   "id": "177e5bfd-70b0-48ab-95dc-524449e05e6d",
   "metadata": {},
   "outputs": [
    {
     "data": {
      "text/plain": [
       "0.02271846070634609"
      ]
     },
     "execution_count": 23,
     "metadata": {},
     "output_type": "execute_result"
    }
   ],
   "source": [
    "probabilidade = norm.cdf(Z_sup) - norm.cdf(Z_inf)\n",
    "probabilidade"
   ]
  },
  {
   "cell_type": "code",
   "execution_count": 24,
   "id": "1f06e953-01fd-4cf5-8a1d-c53c1a96a62e",
   "metadata": {},
   "outputs": [
    {
     "data": {
      "text/plain": [
       "'\\nO Inmetro verificou que as lâmpadas incandescentes da fabricante XPTO apresentam uma vida útil normalmente \\ndistribuída, com média igual a 720 dias e desvio padrão igual a 30 dias. Calcule a probabilidade de uma\\nlâmpada, escolhida ao acaso, durar:\\n1) Entre 650 e 750 dias\\n2) Mais que 800 dias\\n3) Menos que 700 dias\\n'"
      ]
     },
     "execution_count": 24,
     "metadata": {},
     "output_type": "execute_result"
    }
   ],
   "source": [
    "'''\n",
    "O Inmetro verificou que as lâmpadas incandescentes da fabricante XPTO apresentam uma vida útil normalmente \n",
    "distribuída, com média igual a 720 dias e desvio padrão igual a 30 dias. Calcule a probabilidade de uma\n",
    "lâmpada, escolhida ao acaso, durar:\n",
    "1) Entre 650 e 750 dias\n",
    "2) Mais que 800 dias\n",
    "3) Menos que 700 dias\n",
    "'''"
   ]
  },
  {
   "cell_type": "code",
   "execution_count": 25,
   "id": "1ed0d89e-5387-4193-8d7e-5e877183dc4c",
   "metadata": {},
   "outputs": [],
   "source": [
    "media = 720\n",
    "desvio_p = 30"
   ]
  },
  {
   "cell_type": "code",
   "execution_count": 26,
   "id": "a155e8a9-5b53-4d6f-813c-bdab71787f80",
   "metadata": {},
   "outputs": [
    {
     "data": {
      "text/plain": [
       "-2.3333333333333335"
      ]
     },
     "execution_count": 26,
     "metadata": {},
     "output_type": "execute_result"
    }
   ],
   "source": [
    "#1)\n",
    "Z_inf = (650-media)/desvio_p\n",
    "Z_inf\n"
   ]
  },
  {
   "cell_type": "code",
   "execution_count": 27,
   "id": "483f39d8-f3b6-41e1-812c-2ee63f39401f",
   "metadata": {},
   "outputs": [
    {
     "data": {
      "text/plain": [
       "1.0"
      ]
     },
     "execution_count": 27,
     "metadata": {},
     "output_type": "execute_result"
    }
   ],
   "source": [
    "Z_sup = (750-media)/desvio_p\n",
    "Z_sup"
   ]
  },
  {
   "cell_type": "code",
   "execution_count": 28,
   "id": "eac65e72-0519-47cb-87a9-79910458cc34",
   "metadata": {},
   "outputs": [
    {
     "data": {
      "text/plain": [
       "0.8315"
      ]
     },
     "execution_count": 28,
     "metadata": {},
     "output_type": "execute_result"
    }
   ],
   "source": [
    "probabilidade = norm.cdf(Z_sup)-norm.cdf(Z_inf)\n",
    "probabilidade.round(4)"
   ]
  },
  {
   "cell_type": "code",
   "execution_count": 29,
   "id": "17559fa6-f505-4151-8843-0d1109c2f9ec",
   "metadata": {},
   "outputs": [
    {
     "data": {
      "text/plain": [
       "2.6666666666666665"
      ]
     },
     "execution_count": 29,
     "metadata": {},
     "output_type": "execute_result"
    }
   ],
   "source": [
    "#2)\n",
    "Z = (800-media)/desvio_p\n",
    "Z"
   ]
  },
  {
   "cell_type": "code",
   "execution_count": 30,
   "id": "36e5552f-f083-4fe5-bfde-1b68008abf75",
   "metadata": {},
   "outputs": [
    {
     "data": {
      "text/plain": [
       "0.0038"
      ]
     },
     "execution_count": 30,
     "metadata": {},
     "output_type": "execute_result"
    }
   ],
   "source": [
    "probabilidade = norm.cdf(-Z)\n",
    "probabilidade.round(4)"
   ]
  },
  {
   "cell_type": "code",
   "execution_count": 31,
   "id": "66d299d0-6b59-4e66-8b80-65fc3b1e63a0",
   "metadata": {},
   "outputs": [
    {
     "data": {
      "text/plain": [
       "-0.6666666666666666"
      ]
     },
     "execution_count": 31,
     "metadata": {},
     "output_type": "execute_result"
    }
   ],
   "source": [
    "#3)\n",
    "Z = (700-media)/desvio_p\n",
    "Z"
   ]
  },
  {
   "cell_type": "code",
   "execution_count": 32,
   "id": "34f6e7b3-c771-4396-82ce-056270871165",
   "metadata": {},
   "outputs": [
    {
     "data": {
      "text/plain": [
       "0.2524925375469229"
      ]
     },
     "execution_count": 32,
     "metadata": {},
     "output_type": "execute_result"
    }
   ],
   "source": [
    "probabilidade = norm.cdf(Z)\n",
    "probabilidade"
   ]
  },
  {
   "cell_type": "code",
   "execution_count": 33,
   "id": "7632ac5d-5a9e-426f-aebf-7c76760ca644",
   "metadata": {},
   "outputs": [
    {
     "data": {
      "text/plain": [
       "'\\nUtilizando a tabela padronizada, ou o ferramental disponibilizado pelo Python, \\nencontre a área sob a curva normal para os valores de Z abaixo:\\n\\n1) Z < 1,96\\n2) Z > 2,15\\n3) Z < -0,78\\n4) Z > 0,59\\n'"
      ]
     },
     "execution_count": 33,
     "metadata": {},
     "output_type": "execute_result"
    }
   ],
   "source": [
    "'''\n",
    "Utilizando a tabela padronizada, ou o ferramental disponibilizado pelo Python, \n",
    "encontre a área sob a curva normal para os valores de Z abaixo:\n",
    "\n",
    "1) Z < 1,96\n",
    "2) Z > 2,15\n",
    "3) Z < -0,78\n",
    "4) Z > 0,59\n",
    "'''"
   ]
  },
  {
   "cell_type": "code",
   "execution_count": 34,
   "id": "a9d876a4-033d-4882-99b6-77af36865eb5",
   "metadata": {},
   "outputs": [
    {
     "data": {
      "text/plain": [
       "0.9750021048517795"
      ]
     },
     "execution_count": 34,
     "metadata": {},
     "output_type": "execute_result"
    }
   ],
   "source": [
    "#1)\n",
    "norm.cdf(1.96)"
   ]
  },
  {
   "cell_type": "code",
   "execution_count": 35,
   "id": "568918fe-4dea-421e-b2ef-dc775249a2a5",
   "metadata": {},
   "outputs": [
    {
     "data": {
      "text/plain": [
       "0.0157776073910905"
      ]
     },
     "execution_count": 35,
     "metadata": {},
     "output_type": "execute_result"
    }
   ],
   "source": [
    "#2)\n",
    "norm.cdf(-2.15)"
   ]
  },
  {
   "cell_type": "code",
   "execution_count": 36,
   "id": "4b75d22e-4101-43e5-a506-ca5c8cace738",
   "metadata": {},
   "outputs": [
    {
     "data": {
      "text/plain": [
       "0.21769543758573312"
      ]
     },
     "execution_count": 36,
     "metadata": {},
     "output_type": "execute_result"
    }
   ],
   "source": [
    "#3)\n",
    "norm.cdf(-0.78)"
   ]
  },
  {
   "cell_type": "code",
   "execution_count": 37,
   "id": "817bdb59-aed9-4981-8e47-1f20eede0746",
   "metadata": {},
   "outputs": [
    {
     "data": {
      "text/plain": [
       "0.27759532475346493"
      ]
     },
     "execution_count": 37,
     "metadata": {},
     "output_type": "execute_result"
    }
   ],
   "source": [
    "#4)\n",
    "norm.cdf(-0.59)"
   ]
  },
  {
   "cell_type": "code",
   "execution_count": 38,
   "id": "8a25af9b-062c-476a-8563-32964870c943",
   "metadata": {},
   "outputs": [
    {
     "name": "stdout",
     "output_type": "stream",
     "text": [
      "0.9750\n",
      "0.0158\n",
      "0.2177\n",
      "0.2776\n"
     ]
    }
   ],
   "source": [
    "from scipy.stats import norm\n",
    "\n",
    "# Item A\n",
    "probabilidade = norm.cdf(1.96)\n",
    "print(\"{0:0.4f}\".format(probabilidade))\n",
    "\n",
    "# Item B\n",
    "probabilidade = 1 - norm.cdf(2.15)\n",
    "# ou -> probabilidade = norm.sf(2.15)\n",
    "print(\"{0:0.4f}\".format(probabilidade))\n",
    "\n",
    "# Item C\n",
    "probabilidade = norm.cdf(-0.78)\n",
    "print(\"{0:0.4f}\".format(probabilidade))\n",
    "\n",
    "# Item D\n",
    "probabilidade = 1 - norm.cdf(0.59)\n",
    "# ou -> probabilidade = norm.sf(0.59)\n",
    "print(\"{0:0.4f}\".format(probabilidade))"
   ]
  },
  {
   "cell_type": "code",
   "execution_count": 39,
   "id": "1b490475-0490-4597-8bf3-98baf9d70569",
   "metadata": {},
   "outputs": [
    {
     "data": {
      "text/plain": [
       "'\\nPara estimar o valor médio gasto por cada cliente de uma grande rede de fast-food, foi selecionada uma amostra de 50 clientes.\\nAssumindo que o valor do desvio padrão da população seja de R$ 6,00 e que esta população se distribui normalmente, \\nobtenha a margem de erro desta estimativa para um nível de confiança de 95%.\\n'"
      ]
     },
     "execution_count": 39,
     "metadata": {},
     "output_type": "execute_result"
    }
   ],
   "source": [
    "'''\n",
    "Para estimar o valor médio gasto por cada cliente de uma grande rede de fast-food, foi selecionada uma amostra de 50 clientes.\n",
    "Assumindo que o valor do desvio padrão da população seja de R$ 6,00 e que esta população se distribui normalmente, \n",
    "obtenha a margem de erro desta estimativa para um nível de confiança de 95%.\n",
    "'''"
   ]
  },
  {
   "cell_type": "code",
   "execution_count": 40,
   "id": "7df085ae-b8e1-47b4-84bc-f8c665609a1e",
   "metadata": {},
   "outputs": [],
   "source": [
    "import numpy as np\n",
    "confianca = 0.95\n",
    "z = 1.96\n",
    "n = 50\n",
    "desvio_padrao = 6\n",
    "sigma = desvio_padrao/np.sqrt(n)\n",
    "\n",
    "e = z * sigma"
   ]
  },
  {
   "cell_type": "code",
   "execution_count": 41,
   "id": "3ed7fd91-8c62-4540-8edf-f1941ae52a9d",
   "metadata": {},
   "outputs": [
    {
     "data": {
      "text/plain": [
       "1.6631151493507597"
      ]
     },
     "execution_count": 41,
     "metadata": {},
     "output_type": "execute_result"
    }
   ],
   "source": [
    "e"
   ]
  },
  {
   "cell_type": "code",
   "execution_count": 42,
   "id": "bf1f7c05-87d0-4e6b-9354-b252f9fed584",
   "metadata": {},
   "outputs": [
    {
     "name": "stdout",
     "output_type": "stream",
     "text": [
      "R$ 1.66\n"
     ]
    }
   ],
   "source": [
    "# solucao do exercicio do site\n",
    "\n",
    "from scipy.stats import norm\n",
    "import numpy as np\n",
    "\n",
    "z = norm.ppf(0.975)\n",
    "desvio_padrao = 6\n",
    "n = 50\n",
    "\n",
    "e = z * (desvio_padrao / np.sqrt(n))\n",
    "print(\"R$ {0:0.2f}\".format(e))"
   ]
  },
  {
   "cell_type": "code",
   "execution_count": 43,
   "id": "dfb61991-2eb4-4ddc-93cb-5823790d3043",
   "metadata": {},
   "outputs": [
    {
     "data": {
      "text/plain": [
       "'\\nUma amostra aleatória simples de 1976 itens de uma população normalmente distribuída, \\ncom desvio padrão populacional igual a 11, resultou em uma média amostral de 28.\\nQual o intervalo de confiança de 90% para a média populacional?\\n'"
      ]
     },
     "execution_count": 43,
     "metadata": {},
     "output_type": "execute_result"
    }
   ],
   "source": [
    "'''\n",
    "Uma amostra aleatória simples de 1976 itens de uma população normalmente distribuída, \n",
    "com desvio padrão populacional igual a 11, resultou em uma média amostral de 28.\n",
    "Qual o intervalo de confiança de 90% para a média populacional?\n",
    "'''"
   ]
  },
  {
   "cell_type": "code",
   "execution_count": 44,
   "id": "43bdcb56-e703-476c-9c8f-5df0ba7c84d3",
   "metadata": {},
   "outputs": [],
   "source": [
    "n = 1976\n",
    "desvio_padrao = 11\n",
    "media_amostral = 28\n",
    "confianca = 0.9\n",
    "z = norm.ppf(0.9)\n",
    "sigma = desvio_padrao / np.sqrt(n)"
   ]
  },
  {
   "cell_type": "code",
   "execution_count": 45,
   "id": "7697d195-f88e-4375-9f61-6a30ff6435f1",
   "metadata": {},
   "outputs": [
    {
     "data": {
      "text/plain": [
       "(27.592969951356466, 28.407030048643534)"
      ]
     },
     "execution_count": 45,
     "metadata": {},
     "output_type": "execute_result"
    }
   ],
   "source": [
    "norm.interval(alpha = confianca, loc = media_amostral, scale = sigma)"
   ]
  },
  {
   "cell_type": "code",
   "execution_count": 46,
   "id": "023a45e6-1eb2-45da-b678-bb99e2116830",
   "metadata": {},
   "outputs": [
    {
     "data": {
      "text/plain": [
       "'\\nO valor do gasto médio dos clientes de uma loja de conveniência é de R$ 45,50. Assumindo que o desvio padrão \\ndos gastos é igual a R$ 15,00, qual deve ser o tamanho da amostra para estimarmos a média populacional com um nível de significância de 10%?\\nConsidere que o erro máximo aceitável seja de 10%.\\n'"
      ]
     },
     "execution_count": 46,
     "metadata": {},
     "output_type": "execute_result"
    }
   ],
   "source": [
    "'''\n",
    "O valor do gasto médio dos clientes de uma loja de conveniência é de R$ 45,50. Assumindo que o desvio padrão \n",
    "dos gastos é igual a R$ 15,00, qual deve ser o tamanho da amostra para estimarmos a média populacional com um nível de significância de 10%?\n",
    "Considere que o erro máximo aceitável seja de 10%.\n",
    "'''"
   ]
  },
  {
   "cell_type": "code",
   "execution_count": 47,
   "id": "e41cdeb9-2462-4c5e-a567-e8920d31081c",
   "metadata": {},
   "outputs": [],
   "source": [
    "media = 45.5\n",
    "sigma = 15\n",
    "e = media*0.1\n",
    "confianca = 0.9\n",
    "i = confianca/2 + 0.5\n",
    "z = norm.ppf(i)"
   ]
  },
  {
   "cell_type": "code",
   "execution_count": 48,
   "id": "a9703a8f-3b80-4e1c-af7f-ff130009f89f",
   "metadata": {},
   "outputs": [
    {
     "data": {
      "text/plain": [
       "29.0"
      ]
     },
     "execution_count": 48,
     "metadata": {},
     "output_type": "execute_result"
    }
   ],
   "source": [
    "n = (z*(sigma/e))**2\n",
    "n.round(0)"
   ]
  },
  {
   "cell_type": "code",
   "execution_count": 49,
   "id": "4cc48eb1-981a-466e-8826-c070db01907d",
   "metadata": {},
   "outputs": [
    {
     "data": {
      "text/plain": [
       "29.0"
      ]
     },
     "execution_count": 49,
     "metadata": {},
     "output_type": "execute_result"
    }
   ],
   "source": [
    "# resolucao do site\n",
    "\n",
    "from scipy.stats import norm\n",
    "\n",
    "media = 45.5\n",
    "sigma = 15\n",
    "significancia = 0.10\n",
    "confianca = 1 - significancia\n",
    "\n",
    "z = norm.ppf(0.5 + (confianca / 2))\n",
    "erro_percentual = 0.10\n",
    "e = media * erro_percentual\n",
    "\n",
    "n = (z * (sigma / e)) ** 2\n",
    "n.round()"
   ]
  },
  {
   "cell_type": "code",
   "execution_count": 1,
   "id": "8443f9c2-a1f1-4d7c-a064-78aebe66e55f",
   "metadata": {},
   "outputs": [
    {
     "data": {
      "text/plain": [
       "'\\nUm fabricante de farinha verificou que, em uma amostra aleatória formada por 200 sacos de 25 kg de um lote formado por 2.000 sacos, \\napresentou um desvio padrão amostral do peso igual a 480 g.\\nConsiderando um erro máximo associado à média populacional igual a 0,3 kg e um nível de confiança igual a 95%,\\nqual tamanho de amostra deveria ser selecionado para obtermos uma estimativa confiável do parâmetro populacional?\\n'"
      ]
     },
     "execution_count": 1,
     "metadata": {},
     "output_type": "execute_result"
    }
   ],
   "source": [
    "'''\n",
    "Um fabricante de farinha verificou que, em uma amostra aleatória formada por 200 sacos de 25 kg de um lote formado por 2.000 sacos, \n",
    "apresentou um desvio padrão amostral do peso igual a 480 g.\n",
    "Considerando um erro máximo associado à média populacional igual a 0,3 kg e um nível de confiança igual a 95%,\n",
    "qual tamanho de amostra deveria ser selecionado para obtermos uma estimativa confiável do parâmetro populacional?\n",
    "'''"
   ]
  },
  {
   "cell_type": "code",
   "execution_count": 5,
   "id": "117d6e60-1597-48f9-9be1-d17a3c21504e",
   "metadata": {},
   "outputs": [],
   "source": [
    "#população total desconhecida (infinita?)\n",
    "\n",
    "N = 2000\n",
    "n = 200\n",
    "media_amostral = 25000\n",
    "s = 480\n",
    "e = 300\n",
    "confianca = 0.95\n",
    "z = 1.96"
   ]
  },
  {
   "cell_type": "code",
   "execution_count": 8,
   "id": "1f24ee7e-6fa7-4a7c-98dd-ac3935f19ff5",
   "metadata": {},
   "outputs": [
    {
     "data": {
      "text/plain": [
       "10.0"
      ]
     },
     "execution_count": 8,
     "metadata": {},
     "output_type": "execute_result"
    }
   ],
   "source": [
    "n = ((z**2)*(s**2)*(N)) / (((z**2)*(s**2))+ ((e**2)*(N-1)))\n",
    "n.round(0)"
   ]
  },
  {
   "cell_type": "code",
   "execution_count": 7,
   "id": "83437df0-3aec-43b2-bdbd-f977d0f5b650",
   "metadata": {},
   "outputs": [
    {
     "data": {
      "text/plain": [
       "10"
      ]
     },
     "execution_count": 7,
     "metadata": {},
     "output_type": "execute_result"
    }
   ],
   "source": [
    "# solução dada pela Alura\n",
    "\n",
    "from scipy.stats import norm\n",
    "\n",
    "N = 2000\n",
    "z = norm.ppf(0.5 + (0.95 / 2))\n",
    "s = 480\n",
    "e = 0.3 * 1000   # Convertendo kg para g\n",
    "\n",
    "n = ((z**2) * (s**2) * (N)) / (((z**2) * (s**2)) + ((e**2) * (N - 1)))\n",
    "int(n.round())"
   ]
  },
  {
   "cell_type": "code",
   "execution_count": null,
   "id": "c1ff1489-b822-40e2-a2a4-2ecd2a4b21d8",
   "metadata": {},
   "outputs": [],
   "source": []
  }
 ],
 "metadata": {
  "kernelspec": {
   "display_name": "Python 3 (ipykernel)",
   "language": "python",
   "name": "python3"
  },
  "language_info": {
   "codemirror_mode": {
    "name": "ipython",
    "version": 3
   },
   "file_extension": ".py",
   "mimetype": "text/x-python",
   "name": "python",
   "nbconvert_exporter": "python",
   "pygments_lexer": "ipython3",
   "version": "3.9.7"
  }
 },
 "nbformat": 4,
 "nbformat_minor": 5
}
